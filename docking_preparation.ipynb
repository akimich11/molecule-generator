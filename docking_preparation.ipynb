{
  "nbformat": 4,
  "nbformat_minor": 0,
  "metadata": {
    "colab": {
      "name": "docking preparation.ipynb",
      "provenance": []
    },
    "kernelspec": {
      "name": "python3",
      "display_name": "Python 3"
    },
    "language_info": {
      "name": "python"
    }
  },
  "cells": [
    {
      "cell_type": "markdown",
      "source": [
        "## Basic preprocessing\n",
        "First of all, we need to drop duplicates from our SMILES dataset. Then we need to check compounds for chemistry problems, readability, size and delete inappropriate SMILES from dataframe."
      ],
      "metadata": {
        "id": "U-4wOcoUFHDk"
      }
    },
    {
      "cell_type": "code",
      "source": [
        "!pip install rdkit-pypi"
      ],
      "metadata": {
        "colab": {
          "base_uri": "https://localhost:8080/"
        },
        "id": "1XWHOCQSCEMz",
        "outputId": "f3c448c0-4749-4773-a66c-0e691806b656"
      },
      "execution_count": null,
      "outputs": [
        {
          "output_type": "stream",
          "name": "stdout",
          "text": [
            "Collecting rdkit-pypi\n",
            "  Downloading rdkit_pypi-2022.3.1-cp37-cp37m-manylinux_2_17_x86_64.manylinux2014_x86_64.whl (22.5 MB)\n",
            "\u001b[K     |████████████████████████████████| 22.5 MB 1.8 MB/s \n",
            "\u001b[?25hRequirement already satisfied: Pillow in /usr/local/lib/python3.7/dist-packages (from rdkit-pypi) (7.1.2)\n",
            "Requirement already satisfied: numpy>=1.19 in /usr/local/lib/python3.7/dist-packages (from rdkit-pypi) (1.21.5)\n",
            "Installing collected packages: rdkit-pypi\n",
            "Successfully installed rdkit-pypi-2022.3.1\n"
          ]
        }
      ]
    },
    {
      "cell_type": "code",
      "execution_count": null,
      "metadata": {
        "id": "9FI5eYO5BexM"
      },
      "outputs": [],
      "source": [
        "import os\n",
        "from collections import defaultdict\n",
        "import pandas as pd\n",
        "\n",
        "from rdkit import Chem\n",
        "from rdkit.Chem import Descriptors\n",
        "from rdkit.Chem import PandasTools"
      ]
    },
    {
      "cell_type": "code",
      "source": [
        "smi_file = 'new_compounds.json'\n",
        "\n",
        "smiles_column = 'smiles'\n",
        "min_num_atoms_to_allow = 4\n",
        "output_filename = 'data'"
      ],
      "metadata": {
        "id": "P4sDZ5aRCK2e"
      },
      "execution_count": null,
      "outputs": []
    },
    {
      "cell_type": "code",
      "source": [
        "import json\n",
        "\n",
        "\n",
        "with open(smi_file, 'r') as f:\n",
        "    smiles_json = json.load(f)\n",
        "    smiles_list = []\n",
        "    for compounds_list in smiles_json.values():\n",
        "    \tsmiles_list.extend(compounds_list)\n",
        "    \n",
        "len(smiles_list)"
      ],
      "metadata": {
        "colab": {
          "base_uri": "https://localhost:8080/"
        },
        "id": "zSGreoP9CPwg",
        "outputId": "3d360c17-5004-4ca0-fdb5-a14fb77cac85"
      },
      "execution_count": null,
      "outputs": [
        {
          "output_type": "execute_result",
          "data": {
            "text/plain": [
              "836"
            ]
          },
          "metadata": {},
          "execution_count": 5
        }
      ]
    },
    {
      "cell_type": "code",
      "source": [
        "df = pd.DataFrame(smiles_list, columns=[smiles_column])\n",
        "print(df.shape)\n",
        "df.head()"
      ],
      "metadata": {
        "colab": {
          "base_uri": "https://localhost:8080/",
          "height": 224
        },
        "id": "j8i-9MnwCaIQ",
        "outputId": "54f2d5c0-9120-43dc-dddd-e2465b2ecd5b"
      },
      "execution_count": null,
      "outputs": [
        {
          "output_type": "stream",
          "name": "stdout",
          "text": [
            "(836, 1)\n"
          ]
        },
        {
          "output_type": "execute_result",
          "data": {
            "text/plain": [
              "                                              smiles\n",
              "0  Cc1ccc(C2=NNN(C[C@@H]3COc4ccccc4O3)[C@H]2C(=O)...\n",
              "1  CN(C)CC1=NNN(C[C@@H]2COc3ccccc3O2)[C@@H]1c1cn[...\n",
              "2   Cc1ccc(C(=O)CN2NN=C(CNC(C)(C)C)[C@@H]2C(=C)C)cc1\n",
              "3   Cc1ccc(C(=O)CN2NN=C(CNC(C)(C)C)[C@@H]2C(=C)O)cc1\n",
              "4  Cc1ccc(C(=O)CN2NN=C(CNC(C)(C)C)[C@@H]2C(C)(C)O..."
            ],
            "text/html": [
              "\n",
              "  <div id=\"df-b5e8d573-c199-4e35-aa10-8629b3b9e641\">\n",
              "    <div class=\"colab-df-container\">\n",
              "      <div>\n",
              "<style scoped>\n",
              "    .dataframe tbody tr th:only-of-type {\n",
              "        vertical-align: middle;\n",
              "    }\n",
              "\n",
              "    .dataframe tbody tr th {\n",
              "        vertical-align: top;\n",
              "    }\n",
              "\n",
              "    .dataframe thead th {\n",
              "        text-align: right;\n",
              "    }\n",
              "</style>\n",
              "<table border=\"1\" class=\"dataframe\">\n",
              "  <thead>\n",
              "    <tr style=\"text-align: right;\">\n",
              "      <th></th>\n",
              "      <th>smiles</th>\n",
              "    </tr>\n",
              "  </thead>\n",
              "  <tbody>\n",
              "    <tr>\n",
              "      <th>0</th>\n",
              "      <td>Cc1ccc(C2=NNN(C[C@@H]3COc4ccccc4O3)[C@H]2C(=O)...</td>\n",
              "    </tr>\n",
              "    <tr>\n",
              "      <th>1</th>\n",
              "      <td>CN(C)CC1=NNN(C[C@@H]2COc3ccccc3O2)[C@@H]1c1cn[...</td>\n",
              "    </tr>\n",
              "    <tr>\n",
              "      <th>2</th>\n",
              "      <td>Cc1ccc(C(=O)CN2NN=C(CNC(C)(C)C)[C@@H]2C(=C)C)cc1</td>\n",
              "    </tr>\n",
              "    <tr>\n",
              "      <th>3</th>\n",
              "      <td>Cc1ccc(C(=O)CN2NN=C(CNC(C)(C)C)[C@@H]2C(=C)O)cc1</td>\n",
              "    </tr>\n",
              "    <tr>\n",
              "      <th>4</th>\n",
              "      <td>Cc1ccc(C(=O)CN2NN=C(CNC(C)(C)C)[C@@H]2C(C)(C)O...</td>\n",
              "    </tr>\n",
              "  </tbody>\n",
              "</table>\n",
              "</div>\n",
              "      <button class=\"colab-df-convert\" onclick=\"convertToInteractive('df-b5e8d573-c199-4e35-aa10-8629b3b9e641')\"\n",
              "              title=\"Convert this dataframe to an interactive table.\"\n",
              "              style=\"display:none;\">\n",
              "        \n",
              "  <svg xmlns=\"http://www.w3.org/2000/svg\" height=\"24px\"viewBox=\"0 0 24 24\"\n",
              "       width=\"24px\">\n",
              "    <path d=\"M0 0h24v24H0V0z\" fill=\"none\"/>\n",
              "    <path d=\"M18.56 5.44l.94 2.06.94-2.06 2.06-.94-2.06-.94-.94-2.06-.94 2.06-2.06.94zm-11 1L8.5 8.5l.94-2.06 2.06-.94-2.06-.94L8.5 2.5l-.94 2.06-2.06.94zm10 10l.94 2.06.94-2.06 2.06-.94-2.06-.94-.94-2.06-.94 2.06-2.06.94z\"/><path d=\"M17.41 7.96l-1.37-1.37c-.4-.4-.92-.59-1.43-.59-.52 0-1.04.2-1.43.59L10.3 9.45l-7.72 7.72c-.78.78-.78 2.05 0 2.83L4 21.41c.39.39.9.59 1.41.59.51 0 1.02-.2 1.41-.59l7.78-7.78 2.81-2.81c.8-.78.8-2.07 0-2.86zM5.41 20L4 18.59l7.72-7.72 1.47 1.35L5.41 20z\"/>\n",
              "  </svg>\n",
              "      </button>\n",
              "      \n",
              "  <style>\n",
              "    .colab-df-container {\n",
              "      display:flex;\n",
              "      flex-wrap:wrap;\n",
              "      gap: 12px;\n",
              "    }\n",
              "\n",
              "    .colab-df-convert {\n",
              "      background-color: #E8F0FE;\n",
              "      border: none;\n",
              "      border-radius: 50%;\n",
              "      cursor: pointer;\n",
              "      display: none;\n",
              "      fill: #1967D2;\n",
              "      height: 32px;\n",
              "      padding: 0 0 0 0;\n",
              "      width: 32px;\n",
              "    }\n",
              "\n",
              "    .colab-df-convert:hover {\n",
              "      background-color: #E2EBFA;\n",
              "      box-shadow: 0px 1px 2px rgba(60, 64, 67, 0.3), 0px 1px 3px 1px rgba(60, 64, 67, 0.15);\n",
              "      fill: #174EA6;\n",
              "    }\n",
              "\n",
              "    [theme=dark] .colab-df-convert {\n",
              "      background-color: #3B4455;\n",
              "      fill: #D2E3FC;\n",
              "    }\n",
              "\n",
              "    [theme=dark] .colab-df-convert:hover {\n",
              "      background-color: #434B5C;\n",
              "      box-shadow: 0px 1px 3px 1px rgba(0, 0, 0, 0.15);\n",
              "      filter: drop-shadow(0px 1px 2px rgba(0, 0, 0, 0.3));\n",
              "      fill: #FFFFFF;\n",
              "    }\n",
              "  </style>\n",
              "\n",
              "      <script>\n",
              "        const buttonEl =\n",
              "          document.querySelector('#df-b5e8d573-c199-4e35-aa10-8629b3b9e641 button.colab-df-convert');\n",
              "        buttonEl.style.display =\n",
              "          google.colab.kernel.accessAllowed ? 'block' : 'none';\n",
              "\n",
              "        async function convertToInteractive(key) {\n",
              "          const element = document.querySelector('#df-b5e8d573-c199-4e35-aa10-8629b3b9e641');\n",
              "          const dataTable =\n",
              "            await google.colab.kernel.invokeFunction('convertToInteractive',\n",
              "                                                     [key], {});\n",
              "          if (!dataTable) return;\n",
              "\n",
              "          const docLinkHtml = 'Like what you see? Visit the ' +\n",
              "            '<a target=\"_blank\" href=https://colab.research.google.com/notebooks/data_table.ipynb>data table notebook</a>'\n",
              "            + ' to learn more about interactive tables.';\n",
              "          element.innerHTML = '';\n",
              "          dataTable['output_type'] = 'display_data';\n",
              "          await google.colab.output.renderOutput(dataTable, element);\n",
              "          const docLink = document.createElement('div');\n",
              "          docLink.innerHTML = docLinkHtml;\n",
              "          element.appendChild(docLink);\n",
              "        }\n",
              "      </script>\n",
              "    </div>\n",
              "  </div>\n",
              "  "
            ]
          },
          "metadata": {},
          "execution_count": 6
        }
      ]
    },
    {
      "cell_type": "code",
      "source": [
        "dict_statistics = defaultdict(list)\n",
        "dict_statistics['initial_size'].append(df.shape[0])\n",
        "    \n",
        "# Delete structures duplicated by SMILES\n",
        "smiles_duplicated = df.duplicated(smiles_column)\n",
        "dict_statistics['duplicated_by_smiles'].append(df[smiles_duplicated].shape[0])\n",
        "df = df[~smiles_duplicated]\n",
        "\n",
        "# Delete structures with non-readable SMILES\n",
        "df['ROMol'] = df[smiles_column].apply(lambda x: Chem.MolFromSmiles(x))\n",
        "non_readable_smi = df['ROMol'] == None\n",
        "dict_statistics['non-readable_smiles'].append(df[non_readable_smi].shape[0])\n",
        "df = df[~non_readable_smi]\n",
        "\n",
        "# Delete structures with 'chemistry problems'\n",
        "df['chemistry_problems'] = df[smiles_column].apply(lambda x: len(Chem.DetectChemistryProblems(Chem.MolFromSmiles(x, sanitize=True))))\n",
        "chemistry_problems = df['chemistry_problems'] == 1\n",
        "dict_statistics['chemistry_problems'].append(df[chemistry_problems].shape[0])\n",
        "df = df[~chemistry_problems]\n",
        "df = df.drop(['chemistry_problems'], axis=1)\n",
        "\n",
        "# Delete extra-small compounds (currently: <= 4 atoms)\n",
        "df['atoms_num'] = df['ROMol'].apply(lambda x: x.GetNumAtoms())\n",
        "extra_small_molecules = df['atoms_num'] < min_num_atoms_to_allow\n",
        "dict_statistics['less_than_' + str(min_num_atoms_to_allow) + '_atoms'].append(df[extra_small_molecules].shape[0])\n",
        "df = df[~extra_small_molecules]\n",
        "df = df.drop(['ROMol', 'atoms_num'], axis=1)\n",
        "\n",
        "dict_statistics['filtered_size'].append(df.shape[0])\n",
        "\n",
        "df_statistics = pd.DataFrame(dict_statistics)\n",
        "df_statistics.to_csv(output_filename + '_preprocessed_statistics.csv', index=False)"
      ],
      "metadata": {
        "id": "rLHf3vyNCe04"
      },
      "execution_count": null,
      "outputs": []
    },
    {
      "cell_type": "code",
      "source": [
        "print(df.shape)\n",
        "df.head()"
      ],
      "metadata": {
        "colab": {
          "base_uri": "https://localhost:8080/",
          "height": 224
        },
        "id": "IHeByC-CCqvn",
        "outputId": "0d2e895a-3974-4c73-cda8-9c8984c4dcff"
      },
      "execution_count": null,
      "outputs": [
        {
          "output_type": "stream",
          "name": "stdout",
          "text": [
            "(777, 2)\n"
          ]
        },
        {
          "output_type": "execute_result",
          "data": {
            "text/plain": [
              "                                              smiles    id\n",
              "0  Cc1ccc(C2=NNN(C[C@@H]3COc4ccccc4O3)[C@H]2C(=O)...  id-1\n",
              "1  CN(C)CC1=NNN(C[C@@H]2COc3ccccc3O2)[C@@H]1c1cn[...  id-2\n",
              "2   Cc1ccc(C(=O)CN2NN=C(CNC(C)(C)C)[C@@H]2C(=C)C)cc1  id-3\n",
              "3   Cc1ccc(C(=O)CN2NN=C(CNC(C)(C)C)[C@@H]2C(=C)O)cc1  id-4\n",
              "4  Cc1ccc(C(=O)CN2NN=C(CNC(C)(C)C)[C@@H]2C(C)(C)O...  id-5"
            ],
            "text/html": [
              "\n",
              "  <div id=\"df-63355d4f-6e40-4a07-8461-454e161e64b6\">\n",
              "    <div class=\"colab-df-container\">\n",
              "      <div>\n",
              "<style scoped>\n",
              "    .dataframe tbody tr th:only-of-type {\n",
              "        vertical-align: middle;\n",
              "    }\n",
              "\n",
              "    .dataframe tbody tr th {\n",
              "        vertical-align: top;\n",
              "    }\n",
              "\n",
              "    .dataframe thead th {\n",
              "        text-align: right;\n",
              "    }\n",
              "</style>\n",
              "<table border=\"1\" class=\"dataframe\">\n",
              "  <thead>\n",
              "    <tr style=\"text-align: right;\">\n",
              "      <th></th>\n",
              "      <th>smiles</th>\n",
              "      <th>id</th>\n",
              "    </tr>\n",
              "  </thead>\n",
              "  <tbody>\n",
              "    <tr>\n",
              "      <th>0</th>\n",
              "      <td>Cc1ccc(C2=NNN(C[C@@H]3COc4ccccc4O3)[C@H]2C(=O)...</td>\n",
              "      <td>id-1</td>\n",
              "    </tr>\n",
              "    <tr>\n",
              "      <th>1</th>\n",
              "      <td>CN(C)CC1=NNN(C[C@@H]2COc3ccccc3O2)[C@@H]1c1cn[...</td>\n",
              "      <td>id-2</td>\n",
              "    </tr>\n",
              "    <tr>\n",
              "      <th>2</th>\n",
              "      <td>Cc1ccc(C(=O)CN2NN=C(CNC(C)(C)C)[C@@H]2C(=C)C)cc1</td>\n",
              "      <td>id-3</td>\n",
              "    </tr>\n",
              "    <tr>\n",
              "      <th>3</th>\n",
              "      <td>Cc1ccc(C(=O)CN2NN=C(CNC(C)(C)C)[C@@H]2C(=C)O)cc1</td>\n",
              "      <td>id-4</td>\n",
              "    </tr>\n",
              "    <tr>\n",
              "      <th>4</th>\n",
              "      <td>Cc1ccc(C(=O)CN2NN=C(CNC(C)(C)C)[C@@H]2C(C)(C)O...</td>\n",
              "      <td>id-5</td>\n",
              "    </tr>\n",
              "  </tbody>\n",
              "</table>\n",
              "</div>\n",
              "      <button class=\"colab-df-convert\" onclick=\"convertToInteractive('df-63355d4f-6e40-4a07-8461-454e161e64b6')\"\n",
              "              title=\"Convert this dataframe to an interactive table.\"\n",
              "              style=\"display:none;\">\n",
              "        \n",
              "  <svg xmlns=\"http://www.w3.org/2000/svg\" height=\"24px\"viewBox=\"0 0 24 24\"\n",
              "       width=\"24px\">\n",
              "    <path d=\"M0 0h24v24H0V0z\" fill=\"none\"/>\n",
              "    <path d=\"M18.56 5.44l.94 2.06.94-2.06 2.06-.94-2.06-.94-.94-2.06-.94 2.06-2.06.94zm-11 1L8.5 8.5l.94-2.06 2.06-.94-2.06-.94L8.5 2.5l-.94 2.06-2.06.94zm10 10l.94 2.06.94-2.06 2.06-.94-2.06-.94-.94-2.06-.94 2.06-2.06.94z\"/><path d=\"M17.41 7.96l-1.37-1.37c-.4-.4-.92-.59-1.43-.59-.52 0-1.04.2-1.43.59L10.3 9.45l-7.72 7.72c-.78.78-.78 2.05 0 2.83L4 21.41c.39.39.9.59 1.41.59.51 0 1.02-.2 1.41-.59l7.78-7.78 2.81-2.81c.8-.78.8-2.07 0-2.86zM5.41 20L4 18.59l7.72-7.72 1.47 1.35L5.41 20z\"/>\n",
              "  </svg>\n",
              "      </button>\n",
              "      \n",
              "  <style>\n",
              "    .colab-df-container {\n",
              "      display:flex;\n",
              "      flex-wrap:wrap;\n",
              "      gap: 12px;\n",
              "    }\n",
              "\n",
              "    .colab-df-convert {\n",
              "      background-color: #E8F0FE;\n",
              "      border: none;\n",
              "      border-radius: 50%;\n",
              "      cursor: pointer;\n",
              "      display: none;\n",
              "      fill: #1967D2;\n",
              "      height: 32px;\n",
              "      padding: 0 0 0 0;\n",
              "      width: 32px;\n",
              "    }\n",
              "\n",
              "    .colab-df-convert:hover {\n",
              "      background-color: #E2EBFA;\n",
              "      box-shadow: 0px 1px 2px rgba(60, 64, 67, 0.3), 0px 1px 3px 1px rgba(60, 64, 67, 0.15);\n",
              "      fill: #174EA6;\n",
              "    }\n",
              "\n",
              "    [theme=dark] .colab-df-convert {\n",
              "      background-color: #3B4455;\n",
              "      fill: #D2E3FC;\n",
              "    }\n",
              "\n",
              "    [theme=dark] .colab-df-convert:hover {\n",
              "      background-color: #434B5C;\n",
              "      box-shadow: 0px 1px 3px 1px rgba(0, 0, 0, 0.15);\n",
              "      filter: drop-shadow(0px 1px 2px rgba(0, 0, 0, 0.3));\n",
              "      fill: #FFFFFF;\n",
              "    }\n",
              "  </style>\n",
              "\n",
              "      <script>\n",
              "        const buttonEl =\n",
              "          document.querySelector('#df-63355d4f-6e40-4a07-8461-454e161e64b6 button.colab-df-convert');\n",
              "        buttonEl.style.display =\n",
              "          google.colab.kernel.accessAllowed ? 'block' : 'none';\n",
              "\n",
              "        async function convertToInteractive(key) {\n",
              "          const element = document.querySelector('#df-63355d4f-6e40-4a07-8461-454e161e64b6');\n",
              "          const dataTable =\n",
              "            await google.colab.kernel.invokeFunction('convertToInteractive',\n",
              "                                                     [key], {});\n",
              "          if (!dataTable) return;\n",
              "\n",
              "          const docLinkHtml = 'Like what you see? Visit the ' +\n",
              "            '<a target=\"_blank\" href=https://colab.research.google.com/notebooks/data_table.ipynb>data table notebook</a>'\n",
              "            + ' to learn more about interactive tables.';\n",
              "          element.innerHTML = '';\n",
              "          dataTable['output_type'] = 'display_data';\n",
              "          await google.colab.output.renderOutput(dataTable, element);\n",
              "          const docLink = document.createElement('div');\n",
              "          docLink.innerHTML = docLinkHtml;\n",
              "          element.appendChild(docLink);\n",
              "        }\n",
              "      </script>\n",
              "    </div>\n",
              "  </div>\n",
              "  "
            ]
          },
          "metadata": {},
          "execution_count": 8
        }
      ]
    },
    {
      "cell_type": "markdown",
      "source": [
        "## Generate IDs"
      ],
      "metadata": {
        "id": "tKsMRXb3FBmb"
      }
    },
    {
      "cell_type": "code",
      "source": [
        "df = df.reset_index(drop=True).reset_index()\n",
        "df['index'] = df['index'] + 1\n",
        "df['id'] = 'id-' + df['index'].astype(str)\n",
        "df = df.drop(['index'], axis=1)"
      ],
      "metadata": {
        "id": "M_bVpJeRHRNc"
      },
      "execution_count": null,
      "outputs": []
    },
    {
      "cell_type": "code",
      "source": [
        "df.to_csv(output_filename + '_preprocessed.csv', index=False)"
      ],
      "metadata": {
        "id": "3vegndSxEwTK"
      },
      "execution_count": null,
      "outputs": []
    },
    {
      "cell_type": "markdown",
      "source": [
        "## Remove non-trusted SMILES\n",
        "To convert SMILES to 3D structures, algorithm ETKDGv3 from RDKit was used. We can convert mols back to SMILES and check if compounds are equal to original ones. If not, compounds are non-trusted. \n",
        "\n",
        "After we did that, 765 compounds were marked as trusted."
      ],
      "metadata": {
        "id": "vac8N-66UJLd"
      }
    },
    {
      "cell_type": "markdown",
      "source": [
        "## Convert to pdb\n",
        "The input format in AutoDock Vina is pdbqt, so we need to convert our mols to pdb first, and then in pdbqt. For pdbqt conversion OpenBabelGUI software can be used"
      ],
      "metadata": {
        "id": "Eh17zXehLDKQ"
      }
    },
    {
      "cell_type": "code",
      "source": [
        "import glob\n",
        "import shutil\n",
        "from tqdm import tqdm\n",
        "from rdkit import Chem\n",
        "\n",
        "\n",
        "# Directory for generated 3D MOLs\n",
        "mol_directory = 'mol_3d_correct'\n",
        "\n",
        "# Directory for RDKit's PDBs\n",
        "pdb_directory = 'pdb'\n",
        "\n",
        "format_in = 'mol'\n",
        "format_out = 'pdb'\n",
        "\n",
        "# Create directories for PDBs\n",
        "if not os.path.exists(pdb_directory):\n",
        "    os.mkdir(pdb_directory)\n",
        "else:\n",
        "    print('path ' + str(pdb_directory) + ' already exists!')\n",
        "    #shutil.rmtree(pdb_directory)\n",
        "\n",
        "for mol_file in tqdm(glob.glob(mol_directory + os.sep + '*.' + format_in)):\n",
        "    mol_filename = mol_file.split(os.sep)[-1].split('.')[0]\n",
        "    mol = Chem.MolFromMolFile(mol_file, removeHs=False)\n",
        "    Chem.MolToPDBFile(mol, pdb_directory + os.sep + mol_filename + '.' + format_out, flavor=20)\n"
      ],
      "metadata": {
        "colab": {
          "base_uri": "https://localhost:8080/"
        },
        "id": "Ry7WXgiNLBEa",
        "outputId": "1db101be-2278-42b3-9c55-ecc99f94e697"
      },
      "execution_count": null,
      "outputs": [
        {
          "output_type": "stream",
          "name": "stderr",
          "text": [
            "100%|██████████| 765/765 [00:00<00:00, 988.38it/s] \n"
          ]
        }
      ]
    }
  ]
}