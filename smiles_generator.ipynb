{
  "cells": [
    {
      "cell_type": "code",
      "source": [
        "from google.colab import drive\n",
        "\n",
        "!pip install rdkit-pypi\n",
        "!pip install py3Dmol\n",
        "drive.mount('/content/drive')"
      ],
      "metadata": {
        "id": "sWq2eoRc9lWJ",
        "colab": {
          "base_uri": "https://localhost:8080/"
        },
        "outputId": "7304d589-6fc0-465b-f33c-1cebe2f2b921"
      },
      "execution_count": null,
      "outputs": [
        {
          "output_type": "stream",
          "name": "stdout",
          "text": [
            "Collecting rdkit-pypi\n",
            "  Downloading rdkit_pypi-2022.3.1-cp37-cp37m-manylinux_2_17_x86_64.manylinux2014_x86_64.whl (22.5 MB)\n",
            "\u001b[K     |████████████████████████████████| 22.5 MB 46.0 MB/s \n",
            "\u001b[?25hRequirement already satisfied: numpy>=1.19 in /usr/local/lib/python3.7/dist-packages (from rdkit-pypi) (1.21.5)\n",
            "Requirement already satisfied: Pillow in /usr/local/lib/python3.7/dist-packages (from rdkit-pypi) (7.1.2)\n",
            "Installing collected packages: rdkit-pypi\n",
            "Successfully installed rdkit-pypi-2022.3.1\n",
            "Mounted at /content/drive\n"
          ]
        }
      ]
    },
    {
      "cell_type": "code",
      "execution_count": null,
      "metadata": {
        "collapsed": true,
        "pycharm": {
          "name": "#%%\n"
        },
        "id": "o1JsuEnM9bRb"
      },
      "outputs": [],
      "source": [
        "import os\n",
        "import pandas as pd\n",
        "import numpy as np\n",
        "from rdkit import Chem\n",
        "from rdkit.Chem import Draw, Descriptors\n",
        "from matplotlib import pyplot as plt\n",
        "\n",
        "from keras.models import Model\n",
        "from keras.layers import Input\n",
        "from keras.layers import LSTM\n",
        "from keras.layers import Dense\n",
        "from keras.layers import Concatenate\n",
        "from keras import regularizers\n",
        "from tensorflow.keras.utils import plot_model\n",
        "from tensorflow.keras.optimizers import Adam\n",
        "\n",
        "from sklearn.model_selection import train_test_split"
      ]
    },
    {
      "cell_type": "markdown",
      "source": [
        "## About dataset\n",
        "Dataset contains drug-like compounds which can be potential inhibitors of GP120 - CD4 interaction. Compounds are stored in SMILES format. Also data contains binding free energy for molecules."
      ],
      "metadata": {
        "id": "ptoVzozSCM7m"
      }
    },
    {
      "cell_type": "code",
      "execution_count": null,
      "outputs": [
        {
          "output_type": "execute_result",
          "data": {
            "text/plain": [
              "           smiles    energy\n",
              "0  CC(C)CC(C)(C)C  0.293701\n",
              "1  CC(N)CC(C)(C)C  0.383321\n",
              "2  CC(O)CC(C)(C)C  0.343287\n",
              "3  CC(F)CC(C)(C)C  0.657678\n",
              "4  CC(C)(C)CC(F)F  0.384666"
            ],
            "text/html": [
              "\n",
              "  <div id=\"df-15065876-f72a-40fa-bc47-a1b9b8efb9c6\">\n",
              "    <div class=\"colab-df-container\">\n",
              "      <div>\n",
              "<style scoped>\n",
              "    .dataframe tbody tr th:only-of-type {\n",
              "        vertical-align: middle;\n",
              "    }\n",
              "\n",
              "    .dataframe tbody tr th {\n",
              "        vertical-align: top;\n",
              "    }\n",
              "\n",
              "    .dataframe thead th {\n",
              "        text-align: right;\n",
              "    }\n",
              "</style>\n",
              "<table border=\"1\" class=\"dataframe\">\n",
              "  <thead>\n",
              "    <tr style=\"text-align: right;\">\n",
              "      <th></th>\n",
              "      <th>smiles</th>\n",
              "      <th>energy</th>\n",
              "    </tr>\n",
              "  </thead>\n",
              "  <tbody>\n",
              "    <tr>\n",
              "      <th>0</th>\n",
              "      <td>CC(C)CC(C)(C)C</td>\n",
              "      <td>0.293701</td>\n",
              "    </tr>\n",
              "    <tr>\n",
              "      <th>1</th>\n",
              "      <td>CC(N)CC(C)(C)C</td>\n",
              "      <td>0.383321</td>\n",
              "    </tr>\n",
              "    <tr>\n",
              "      <th>2</th>\n",
              "      <td>CC(O)CC(C)(C)C</td>\n",
              "      <td>0.343287</td>\n",
              "    </tr>\n",
              "    <tr>\n",
              "      <th>3</th>\n",
              "      <td>CC(F)CC(C)(C)C</td>\n",
              "      <td>0.657678</td>\n",
              "    </tr>\n",
              "    <tr>\n",
              "      <th>4</th>\n",
              "      <td>CC(C)(C)CC(F)F</td>\n",
              "      <td>0.384666</td>\n",
              "    </tr>\n",
              "  </tbody>\n",
              "</table>\n",
              "</div>\n",
              "      <button class=\"colab-df-convert\" onclick=\"convertToInteractive('df-15065876-f72a-40fa-bc47-a1b9b8efb9c6')\"\n",
              "              title=\"Convert this dataframe to an interactive table.\"\n",
              "              style=\"display:none;\">\n",
              "        \n",
              "  <svg xmlns=\"http://www.w3.org/2000/svg\" height=\"24px\"viewBox=\"0 0 24 24\"\n",
              "       width=\"24px\">\n",
              "    <path d=\"M0 0h24v24H0V0z\" fill=\"none\"/>\n",
              "    <path d=\"M18.56 5.44l.94 2.06.94-2.06 2.06-.94-2.06-.94-.94-2.06-.94 2.06-2.06.94zm-11 1L8.5 8.5l.94-2.06 2.06-.94-2.06-.94L8.5 2.5l-.94 2.06-2.06.94zm10 10l.94 2.06.94-2.06 2.06-.94-2.06-.94-.94-2.06-.94 2.06-2.06.94z\"/><path d=\"M17.41 7.96l-1.37-1.37c-.4-.4-.92-.59-1.43-.59-.52 0-1.04.2-1.43.59L10.3 9.45l-7.72 7.72c-.78.78-.78 2.05 0 2.83L4 21.41c.39.39.9.59 1.41.59.51 0 1.02-.2 1.41-.59l7.78-7.78 2.81-2.81c.8-.78.8-2.07 0-2.86zM5.41 20L4 18.59l7.72-7.72 1.47 1.35L5.41 20z\"/>\n",
              "  </svg>\n",
              "      </button>\n",
              "      \n",
              "  <style>\n",
              "    .colab-df-container {\n",
              "      display:flex;\n",
              "      flex-wrap:wrap;\n",
              "      gap: 12px;\n",
              "    }\n",
              "\n",
              "    .colab-df-convert {\n",
              "      background-color: #E8F0FE;\n",
              "      border: none;\n",
              "      border-radius: 50%;\n",
              "      cursor: pointer;\n",
              "      display: none;\n",
              "      fill: #1967D2;\n",
              "      height: 32px;\n",
              "      padding: 0 0 0 0;\n",
              "      width: 32px;\n",
              "    }\n",
              "\n",
              "    .colab-df-convert:hover {\n",
              "      background-color: #E2EBFA;\n",
              "      box-shadow: 0px 1px 2px rgba(60, 64, 67, 0.3), 0px 1px 3px 1px rgba(60, 64, 67, 0.15);\n",
              "      fill: #174EA6;\n",
              "    }\n",
              "\n",
              "    [theme=dark] .colab-df-convert {\n",
              "      background-color: #3B4455;\n",
              "      fill: #D2E3FC;\n",
              "    }\n",
              "\n",
              "    [theme=dark] .colab-df-convert:hover {\n",
              "      background-color: #434B5C;\n",
              "      box-shadow: 0px 1px 3px 1px rgba(0, 0, 0, 0.15);\n",
              "      filter: drop-shadow(0px 1px 2px rgba(0, 0, 0, 0.3));\n",
              "      fill: #FFFFFF;\n",
              "    }\n",
              "  </style>\n",
              "\n",
              "      <script>\n",
              "        const buttonEl =\n",
              "          document.querySelector('#df-15065876-f72a-40fa-bc47-a1b9b8efb9c6 button.colab-df-convert');\n",
              "        buttonEl.style.display =\n",
              "          google.colab.kernel.accessAllowed ? 'block' : 'none';\n",
              "\n",
              "        async function convertToInteractive(key) {\n",
              "          const element = document.querySelector('#df-15065876-f72a-40fa-bc47-a1b9b8efb9c6');\n",
              "          const dataTable =\n",
              "            await google.colab.kernel.invokeFunction('convertToInteractive',\n",
              "                                                     [key], {});\n",
              "          if (!dataTable) return;\n",
              "\n",
              "          const docLinkHtml = 'Like what you see? Visit the ' +\n",
              "            '<a target=\"_blank\" href=https://colab.research.google.com/notebooks/data_table.ipynb>data table notebook</a>'\n",
              "            + ' to learn more about interactive tables.';\n",
              "          element.innerHTML = '';\n",
              "          dataTable['output_type'] = 'display_data';\n",
              "          await google.colab.output.renderOutput(dataTable, element);\n",
              "          const docLink = document.createElement('div');\n",
              "          docLink.innerHTML = docLinkHtml;\n",
              "          element.appendChild(docLink);\n",
              "        }\n",
              "      </script>\n",
              "    </div>\n",
              "  </div>\n",
              "  "
            ]
          },
          "metadata": {},
          "execution_count": 138
        }
      ],
      "source": [
        "DATASETS_FOLDER = '/content/drive/MyDrive/datasets/gp120'\n",
        "\n",
        "smifile = f'{DATASETS_FOLDER}/smiles_dataset.smi'\n",
        "data = pd.read_csv(smifile, delimiter='\\t', names=[\"smiles\", \"energy\"])\n",
        "data.head()"
      ],
      "metadata": {
        "pycharm": {
          "name": "#%%\n"
        },
        "id": "uL67MCpO9bRi",
        "colab": {
          "base_uri": "https://localhost:8080/",
          "height": 206
        },
        "outputId": "97bc28a0-a1ac-401a-a7c5-44179fc84a72"
      }
    },
    {
      "cell_type": "markdown",
      "source": [
        "### Train and test sets creation\n",
        "First of all, we need to shuffle our data and divide it into train and test datasets."
      ],
      "metadata": {
        "id": "Xj_pTtWeP5vi"
      }
    },
    {
      "cell_type": "code",
      "execution_count": null,
      "outputs": [
        {
          "output_type": "stream",
          "name": "stdout",
          "text": [
            "(50029,)\n",
            "(16677,)\n"
          ]
        }
      ],
      "source": [
        "data = data.sample(frac=1, random_state=42)\n",
        "\n",
        "smiles_train, smiles_test = train_test_split(data[\"smiles\"], shuffle=False)\n",
        "energy_train, energy_test = train_test_split(data[\"energy\"], shuffle=False)\n",
        "print(smiles_train.shape)\n",
        "print(smiles_test.shape)"
      ],
      "metadata": {
        "pycharm": {
          "name": "#%%\n"
        },
        "colab": {
          "base_uri": "https://localhost:8080/"
        },
        "id": "6hGC5ZQq9bRi",
        "outputId": "743c01bf-3c94-47be-879d-758571a16086"
      }
    },
    {
      "cell_type": "markdown",
      "source": [
        "### SMILES alphabet\n",
        "The autoencoder input layer receives a tensor of numbers and works with it. So we need to vectorize SMILES representation of molecules. This can be done with one-hot encoding. To create binary vector which represents SMILES, we need to count number of distinct symbols in compound formulas and the max length of word in dataset first. We also add \"!\" and \"E\" symbols to alphabet as start and end symbols."
      ],
      "metadata": {
        "id": "PR8SRe3pQXq-"
      }
    },
    {
      "cell_type": "code",
      "execution_count": null,
      "outputs": [
        {
          "output_type": "stream",
          "name": "stdout",
          "text": [
            "{'!', '=', 'o', 'F', '1', ')', '2', 'O', '4', 'N', 'n', 'E', '-', 'c', '+', '[', '3', '#', ']', '(', 'H', 'C'}\n",
            "22 28\n"
          ]
        }
      ],
      "source": [
        "charset = set(\"\".join(list(data.smiles)) + \"!E\")\n",
        "char_to_int = dict((c, i) for i, c in enumerate(charset))\n",
        "int_to_char = dict((i, c) for i, c in enumerate(charset))\n",
        "embed = max([len(smile) for smile in data.smiles]) + 5\n",
        "print(str(charset))\n",
        "print(len(charset), embed)"
      ],
      "metadata": {
        "pycharm": {
          "name": "#%%\n"
        },
        "colab": {
          "base_uri": "https://localhost:8080/"
        },
        "id": "3oh9zC159bRk",
        "outputId": "363eb5f9-dd5c-4d5b-b489-5ac168a3cc5a"
      }
    },
    {
      "cell_type": "markdown",
      "source": [
        "### SMILES vectorization\n",
        "Now we can begin vectorization procedure."
      ],
      "metadata": {
        "id": "jOAcO80ER_QS"
      }
    },
    {
      "cell_type": "code",
      "execution_count": null,
      "outputs": [],
      "source": [
        "def vectorize(smiles):\n",
        "    one_hot = np.zeros((smiles.shape[0], embed, len(charset)), dtype=np.int8)\n",
        "    for i, smile in enumerate(smiles):\n",
        "        one_hot[i, 0, char_to_int[\"!\"]] = 1\n",
        "        for j, c in enumerate(smile):\n",
        "            one_hot[i, j + 1, char_to_int[c]] = 1\n",
        "        one_hot[i, len(smile) + 1:, char_to_int[\"E\"]] = 1\n",
        "    return one_hot[:, 0:-1, :], one_hot[:, 1:, :]"
      ],
      "metadata": {
        "pycharm": {
          "name": "#%%\n"
        },
        "id": "MFCYodFQ9bRl"
      }
    },
    {
      "cell_type": "code",
      "execution_count": null,
      "outputs": [
        {
          "output_type": "stream",
          "name": "stdout",
          "text": [
            "COc1nncn1O\n"
          ]
        },
        {
          "output_type": "execute_result",
          "data": {
            "text/plain": [
              "<matplotlib.image.AxesImage at 0x7f4c7fb3f350>"
            ]
          },
          "metadata": {},
          "execution_count": 148
        },
        {
          "output_type": "display_data",
          "data": {
            "text/plain": [
              "<Figure size 353.455x288 with 1 Axes>"
            ],
            "image/png": "[encoded data removed]"
          },
          "metadata": {
            "needs_background": "light"
          }
        }
      ],
      "source": [
        "X_train, Y_train = vectorize(smiles_train.values)\n",
        "X_test, Y_test = vectorize(smiles_test.values)\n",
        "print(smiles_train.iloc[0])\n",
        "plt.matshow(X_train[0].T)"
      ],
      "metadata": {
        "pycharm": {
          "name": "#%%\n"
        },
        "colab": {
          "base_uri": "https://localhost:8080/",
          "height": 311
        },
        "id": "YB3YngJC9bRm",
        "outputId": "b14f6b74-af49-46b1-c5ca-860884ffed8c"
      }
    },
    {
      "cell_type": "code",
      "execution_count": null,
      "outputs": [],
      "source": [
        "input_shape = X_train.shape[1:]\n",
        "output_dim = Y_train.shape[-1]\n",
        "latent_dim = 64\n",
        "lstm_dim = 64\n",
        "\n",
        "unroll = False\n",
        "encoder_inputs = Input(shape=input_shape, name='Smiles_input_1')\n",
        "encoder = LSTM(lstm_dim, return_state=True,\n",
        "               unroll=unroll, name='Encoder_lstm')\n",
        "encoder_outputs, state_h, state_c = encoder(encoder_inputs)\n",
        "states = Concatenate(axis=-1, name='States_concat')([state_h, state_c])\n",
        "neck = Dense(latent_dim, activation=\"relu\", name='Encoder_neck')\n",
        "neck_outputs = neck(states)\n",
        "\n",
        "free_energy_inputs = Input(shape=(1,), name='Energy_input')\n",
        "concatenate = Concatenate(axis=-1, name='Energy_concat')\n",
        "energy_concat = concatenate([neck_outputs, free_energy_inputs])\n",
        "\n",
        "decode_h = Dense(lstm_dim, name='State_h_decoder', activation=\"relu\")\n",
        "decode_c = Dense(lstm_dim, name='State_c_decoder', activation=\"relu\")\n",
        "state_h_decoded = decode_h(energy_concat)\n",
        "state_c_decoded = decode_c(energy_concat)\n",
        "encoder_states = [state_h_decoded, state_c_decoded]\n",
        "decoder_inputs = Input(shape=input_shape, name='Smiles_input_2')\n",
        "decoder_lstm = LSTM(lstm_dim,\n",
        "                    return_sequences=True,\n",
        "                    unroll=unroll,\n",
        "                    name='Decoder_lstm'\n",
        "                    )\n",
        "decoder_outputs = decoder_lstm(decoder_inputs, initial_state=encoder_states)\n",
        "decoder_dense = Dense(output_dim, activation='softmax', name='Decoder_output')\n",
        "decoder_outputs = decoder_dense(decoder_outputs)"
      ],
      "metadata": {
        "pycharm": {
          "name": "#%%\n"
        },
        "id": "NYK7ai3L9bRn"
      }
    },
    {
      "cell_type": "code",
      "source": [
        "model = Model([encoder_inputs, decoder_inputs, free_energy_inputs], decoder_outputs, name='Lstm_autoencoder')\n",
        "plot_model(model, to_file='model.png', show_layer_activations=True)\n",
        "print(model.summary())"
      ],
      "metadata": {
        "colab": {
          "base_uri": "https://localhost:8080/"
        },
        "id": "WCY05NxqGM5d",
        "outputId": "52004050-44a4-4507-e638-202129be9b29"
      },
      "execution_count": null,
      "outputs": [
        {
          "output_type": "stream",
          "name": "stdout",
          "text": [
            "Model: \"Lstm_autoencoder\"\n",
            "__________________________________________________________________________________________________\n",
            " Layer (type)                   Output Shape         Param #     Connected to                     \n",
            "==================================================================================================\n",
            " Smiles_input_1 (InputLayer)    [(None, 27, 22)]     0           []                               \n",
            "                                                                                                  \n",
            " Encoder_lstm (LSTM)            [(None, 64),         22272       ['Smiles_input_1[0][0]']         \n",
            "                                 (None, 64),                                                      \n",
            "                                 (None, 64)]                                                      \n",
            "                                                                                                  \n",
            " States_concat (Concatenate)    (None, 128)          0           ['Encoder_lstm[0][1]',           \n",
            "                                                                  'Encoder_lstm[0][2]']           \n",
            "                                                                                                  \n",
            " Encoder_neck (Dense)           (None, 64)           8256        ['States_concat[0][0]']          \n",
            "                                                                                                  \n",
            " Energy_input (InputLayer)      [(None, 1)]          0           []                               \n",
            "                                                                                                  \n",
            " Energy_concat (Concatenate)    (None, 65)           0           ['Encoder_neck[0][0]',           \n",
            "                                                                  'Energy_input[0][0]']           \n",
            "                                                                                                  \n",
            " Smiles_input_2 (InputLayer)    [(None, 27, 22)]     0           []                               \n",
            "                                                                                                  \n",
            " State_h_decoder (Dense)        (None, 64)           4224        ['Energy_concat[0][0]']          \n",
            "                                                                                                  \n",
            " State_c_decoder (Dense)        (None, 64)           4224        ['Energy_concat[0][0]']          \n",
            "                                                                                                  \n",
            " Decoder_lstm (LSTM)            (None, 27, 64)       22272       ['Smiles_input_2[0][0]',         \n",
            "                                                                  'State_h_decoder[0][0]',        \n",
            "                                                                  'State_c_decoder[0][0]']        \n",
            "                                                                                                  \n",
            " Decoder_output (Dense)         (None, 27, 22)       1430        ['Decoder_lstm[0][0]']           \n",
            "                                                                                                  \n",
            "==================================================================================================\n",
            "Total params: 62,678\n",
            "Trainable params: 62,678\n",
            "Non-trainable params: 0\n",
            "__________________________________________________________________________________________________\n",
            "None\n"
          ]
        }
      ]
    },
    {
      "cell_type": "code",
      "execution_count": null,
      "outputs": [],
      "source": [
        "from keras.callbacks import History, ReduceLROnPlateau\n",
        "h = History()\n",
        "rlr = ReduceLROnPlateau(monitor='val_loss', factor=0.5, patience=10, min_lr=0.000001, verbose=1, min_delta=1e-5)\n",
        "\n",
        "opt = Adam(learning_rate=0.005)\n",
        "model.compile(optimizer=opt, loss='categorical_crossentropy')"
      ],
      "metadata": {
        "pycharm": {
          "name": "#%%\n"
        },
        "id": "JTYpIgFN9bRp"
      }
    },
    {
      "cell_type": "code",
      "execution_count": null,
      "outputs": [
        {
          "output_type": "stream",
          "name": "stdout",
          "text": [
            "Epoch 1/160\n",
            "196/196 [==============================] - 10s 29ms/step - loss: 0.9066 - val_loss: 0.6631 - lr: 0.0050\n",
            "Epoch 2/160\n",
            "196/196 [==============================] - 5s 24ms/step - loss: 0.6091 - val_loss: 0.5690 - lr: 0.0050\n",
            "Epoch 3/160\n",
            "196/196 [==============================] - 5s 24ms/step - loss: 0.5541 - val_loss: 0.5372 - lr: 0.0050\n",
            "Epoch 4/160\n",
            "196/196 [==============================] - 5s 24ms/step - loss: 0.5161 - val_loss: 0.4864 - lr: 0.0050\n",
            "Epoch 5/160\n",
            "196/196 [==============================] - 5s 24ms/step - loss: 0.4676 - val_loss: 0.4655 - lr: 0.0050\n",
            "Epoch 6/160\n",
            "196/196 [==============================] - 5s 24ms/step - loss: 0.4311 - val_loss: 0.4129 - lr: 0.0050\n",
            "Epoch 7/160\n",
            "196/196 [==============================] - 5s 24ms/step - loss: 0.3987 - val_loss: 0.3821 - lr: 0.0050\n",
            "Epoch 8/160\n",
            "196/196 [==============================] - 5s 24ms/step - loss: 0.3784 - val_loss: 0.3511 - lr: 0.0050\n",
            "Epoch 9/160\n",
            "196/196 [==============================] - 5s 24ms/step - loss: 0.3535 - val_loss: 0.3220 - lr: 0.0050\n",
            "Epoch 10/160\n",
            "196/196 [==============================] - 5s 24ms/step - loss: 0.3297 - val_loss: 0.3049 - lr: 0.0050\n",
            "Epoch 11/160\n",
            "196/196 [==============================] - 5s 24ms/step - loss: 0.2875 - val_loss: 0.2567 - lr: 0.0050\n",
            "Epoch 12/160\n",
            "196/196 [==============================] - 5s 24ms/step - loss: 0.2460 - val_loss: 0.2037 - lr: 0.0050\n",
            "Epoch 13/160\n",
            "196/196 [==============================] - 5s 24ms/step - loss: 0.2191 - val_loss: 0.1870 - lr: 0.0050\n",
            "Epoch 14/160\n",
            "196/196 [==============================] - 5s 24ms/step - loss: 0.1764 - val_loss: 0.1473 - lr: 0.0050\n",
            "Epoch 15/160\n",
            "196/196 [==============================] - 5s 24ms/step - loss: 0.1513 - val_loss: 0.1895 - lr: 0.0050\n",
            "Epoch 16/160\n",
            "196/196 [==============================] - 5s 24ms/step - loss: 0.1204 - val_loss: 0.1151 - lr: 0.0050\n",
            "Epoch 17/160\n",
            "196/196 [==============================] - 5s 24ms/step - loss: 0.1051 - val_loss: 0.0987 - lr: 0.0050\n",
            "Epoch 18/160\n",
            "196/196 [==============================] - 5s 24ms/step - loss: 0.0866 - val_loss: 0.0755 - lr: 0.0050\n",
            "Epoch 19/160\n",
            "196/196 [==============================] - 5s 24ms/step - loss: 0.0790 - val_loss: 0.0651 - lr: 0.0050\n",
            "Epoch 20/160\n",
            "196/196 [==============================] - 5s 24ms/step - loss: 0.0973 - val_loss: 0.1487 - lr: 0.0050\n",
            "Epoch 21/160\n",
            "196/196 [==============================] - 5s 24ms/step - loss: 0.0719 - val_loss: 0.0519 - lr: 0.0050\n",
            "Epoch 22/160\n",
            "196/196 [==============================] - 5s 24ms/step - loss: 0.0600 - val_loss: 0.0513 - lr: 0.0050\n",
            "Epoch 23/160\n",
            "196/196 [==============================] - 5s 23ms/step - loss: 0.0454 - val_loss: 0.0393 - lr: 0.0050\n",
            "Epoch 24/160\n",
            "196/196 [==============================] - 5s 24ms/step - loss: 0.0405 - val_loss: 0.0523 - lr: 0.0050\n",
            "Epoch 25/160\n",
            "196/196 [==============================] - 5s 24ms/step - loss: 0.0342 - val_loss: 0.0313 - lr: 0.0050\n",
            "Epoch 26/160\n",
            "196/196 [==============================] - 5s 24ms/step - loss: 0.0885 - val_loss: 0.0451 - lr: 0.0050\n",
            "Epoch 27/160\n",
            "196/196 [==============================] - 5s 24ms/step - loss: 0.0468 - val_loss: 0.5670 - lr: 0.0050\n",
            "Epoch 28/160\n",
            "196/196 [==============================] - 5s 24ms/step - loss: 0.0726 - val_loss: 0.0283 - lr: 0.0050\n",
            "Epoch 29/160\n",
            "196/196 [==============================] - 5s 24ms/step - loss: 0.0237 - val_loss: 0.0286 - lr: 0.0050\n",
            "Epoch 30/160\n",
            "196/196 [==============================] - 5s 24ms/step - loss: 0.0201 - val_loss: 0.0297 - lr: 0.0050\n",
            "Epoch 31/160\n",
            "196/196 [==============================] - 5s 24ms/step - loss: 0.0214 - val_loss: 0.0148 - lr: 0.0050\n",
            "Epoch 32/160\n",
            "196/196 [==============================] - 5s 24ms/step - loss: 0.0476 - val_loss: 0.0565 - lr: 0.0050\n",
            "Epoch 33/160\n",
            "196/196 [==============================] - 5s 24ms/step - loss: 0.0229 - val_loss: 0.0160 - lr: 0.0050\n",
            "Epoch 34/160\n",
            "196/196 [==============================] - 5s 24ms/step - loss: 0.0140 - val_loss: 0.0136 - lr: 0.0050\n",
            "Epoch 35/160\n",
            "196/196 [==============================] - 5s 24ms/step - loss: 0.1624 - val_loss: 0.0582 - lr: 0.0050\n",
            "Epoch 36/160\n",
            "196/196 [==============================] - 5s 24ms/step - loss: 0.0367 - val_loss: 0.0287 - lr: 0.0050\n",
            "Epoch 37/160\n",
            "196/196 [==============================] - 5s 24ms/step - loss: 0.0205 - val_loss: 0.0184 - lr: 0.0050\n",
            "Epoch 38/160\n",
            "196/196 [==============================] - 5s 24ms/step - loss: 0.0219 - val_loss: 0.0134 - lr: 0.0050\n",
            "Epoch 39/160\n",
            "196/196 [==============================] - 5s 24ms/step - loss: 0.0174 - val_loss: 0.3968 - lr: 0.0050\n",
            "Epoch 40/160\n",
            "196/196 [==============================] - 5s 24ms/step - loss: 0.0385 - val_loss: 0.0113 - lr: 0.0050\n",
            "Epoch 41/160\n",
            "196/196 [==============================] - 5s 24ms/step - loss: 0.0100 - val_loss: 0.0106 - lr: 0.0050\n",
            "Epoch 42/160\n",
            "196/196 [==============================] - 5s 24ms/step - loss: 0.0076 - val_loss: 0.0137 - lr: 0.0050\n",
            "Epoch 43/160\n",
            "196/196 [==============================] - 5s 24ms/step - loss: 0.0197 - val_loss: 0.0115 - lr: 0.0050\n",
            "Epoch 44/160\n",
            "196/196 [==============================] - 5s 24ms/step - loss: 0.0323 - val_loss: 0.0852 - lr: 0.0050\n",
            "Epoch 45/160\n",
            "196/196 [==============================] - 5s 24ms/step - loss: 0.0147 - val_loss: 0.0073 - lr: 0.0050\n",
            "Epoch 46/160\n",
            "196/196 [==============================] - 5s 24ms/step - loss: 0.0061 - val_loss: 0.0069 - lr: 0.0050\n",
            "Epoch 47/160\n",
            "196/196 [==============================] - 5s 24ms/step - loss: 0.0055 - val_loss: 0.0149 - lr: 0.0050\n",
            "Epoch 48/160\n",
            "196/196 [==============================] - 5s 24ms/step - loss: 0.0080 - val_loss: 0.0048 - lr: 0.0050\n",
            "Epoch 49/160\n",
            "196/196 [==============================] - 5s 24ms/step - loss: 0.0472 - val_loss: 1.5506 - lr: 0.0050\n",
            "Epoch 50/160\n",
            "196/196 [==============================] - 5s 24ms/step - loss: 0.1646 - val_loss: 0.0535 - lr: 0.0050\n",
            "Epoch 51/160\n",
            "196/196 [==============================] - 5s 24ms/step - loss: 0.0315 - val_loss: 0.0226 - lr: 0.0050\n",
            "Epoch 52/160\n",
            "196/196 [==============================] - 5s 24ms/step - loss: 0.0170 - val_loss: 0.0145 - lr: 0.0050\n",
            "Epoch 53/160\n",
            "196/196 [==============================] - 5s 24ms/step - loss: 0.0308 - val_loss: 0.0210 - lr: 0.0050\n",
            "Epoch 54/160\n",
            "196/196 [==============================] - 5s 24ms/step - loss: 0.0115 - val_loss: 0.0080 - lr: 0.0050\n",
            "Epoch 55/160\n",
            "196/196 [==============================] - 5s 24ms/step - loss: 0.0143 - val_loss: 0.7402 - lr: 0.0050\n",
            "Epoch 56/160\n",
            "196/196 [==============================] - 5s 24ms/step - loss: 0.0525 - val_loss: 0.0117 - lr: 0.0050\n",
            "Epoch 57/160\n",
            "196/196 [==============================] - 5s 24ms/step - loss: 0.0086 - val_loss: 0.0110 - lr: 0.0050\n",
            "Epoch 58/160\n",
            "196/196 [==============================] - ETA: 0s - loss: 0.0058\n",
            "Epoch 58: ReduceLROnPlateau reducing learning rate to 0.0024999999441206455.\n",
            "196/196 [==============================] - 5s 24ms/step - loss: 0.0058 - val_loss: 0.0072 - lr: 0.0050\n",
            "Epoch 59/160\n",
            "196/196 [==============================] - 5s 24ms/step - loss: 0.0040 - val_loss: 0.0042 - lr: 0.0025\n",
            "Epoch 60/160\n",
            "196/196 [==============================] - 5s 24ms/step - loss: 0.0035 - val_loss: 0.0041 - lr: 0.0025\n",
            "Epoch 61/160\n",
            "196/196 [==============================] - 5s 24ms/step - loss: 0.0032 - val_loss: 0.0039 - lr: 0.0025\n",
            "Epoch 62/160\n",
            "196/196 [==============================] - 5s 24ms/step - loss: 0.0029 - val_loss: 0.0032 - lr: 0.0025\n",
            "Epoch 63/160\n",
            "196/196 [==============================] - 5s 24ms/step - loss: 0.0028 - val_loss: 0.0038 - lr: 0.0025\n",
            "Epoch 64/160\n",
            "196/196 [==============================] - 5s 24ms/step - loss: 0.0026 - val_loss: 0.0051 - lr: 0.0025\n",
            "Epoch 65/160\n",
            "196/196 [==============================] - 5s 24ms/step - loss: 0.0027 - val_loss: 0.0031 - lr: 0.0025\n",
            "Epoch 66/160\n",
            "196/196 [==============================] - 5s 24ms/step - loss: 0.0026 - val_loss: 0.0030 - lr: 0.0025\n",
            "Epoch 67/160\n",
            "196/196 [==============================] - 5s 24ms/step - loss: 0.0023 - val_loss: 0.0025 - lr: 0.0025\n",
            "Epoch 68/160\n",
            "196/196 [==============================] - 5s 24ms/step - loss: 0.0430 - val_loss: 0.0078 - lr: 0.0025\n",
            "Epoch 69/160\n",
            "196/196 [==============================] - 5s 24ms/step - loss: 0.0047 - val_loss: 0.0040 - lr: 0.0025\n",
            "Epoch 70/160\n",
            "196/196 [==============================] - 5s 24ms/step - loss: 0.0029 - val_loss: 0.0032 - lr: 0.0025\n",
            "Epoch 71/160\n",
            "196/196 [==============================] - 5s 24ms/step - loss: 0.0022 - val_loss: 0.0026 - lr: 0.0025\n",
            "Epoch 72/160\n",
            "196/196 [==============================] - 5s 24ms/step - loss: 0.0018 - val_loss: 0.0022 - lr: 0.0025\n",
            "Epoch 73/160\n",
            "196/196 [==============================] - 5s 24ms/step - loss: 0.0017 - val_loss: 0.0022 - lr: 0.0025\n",
            "Epoch 74/160\n",
            "196/196 [==============================] - 5s 24ms/step - loss: 0.0017 - val_loss: 0.0020 - lr: 0.0025\n",
            "Epoch 75/160\n",
            "196/196 [==============================] - 5s 24ms/step - loss: 0.0016 - val_loss: 0.0023 - lr: 0.0025\n",
            "Epoch 76/160\n",
            "196/196 [==============================] - 5s 24ms/step - loss: 0.0414 - val_loss: 0.0123 - lr: 0.0025\n",
            "Epoch 77/160\n",
            "196/196 [==============================] - 5s 24ms/step - loss: 0.0058 - val_loss: 0.0043 - lr: 0.0025\n",
            "Epoch 78/160\n",
            "196/196 [==============================] - 5s 24ms/step - loss: 0.0029 - val_loss: 0.0029 - lr: 0.0025\n",
            "Epoch 79/160\n",
            "196/196 [==============================] - 5s 24ms/step - loss: 0.0021 - val_loss: 0.0024 - lr: 0.0025\n",
            "Epoch 80/160\n",
            "196/196 [==============================] - 5s 24ms/step - loss: 0.0017 - val_loss: 0.0021 - lr: 0.0025\n",
            "Epoch 81/160\n",
            "196/196 [==============================] - 5s 24ms/step - loss: 0.0015 - val_loss: 0.0020 - lr: 0.0025\n",
            "Epoch 82/160\n",
            "196/196 [==============================] - 5s 24ms/step - loss: 0.0015 - val_loss: 0.0018 - lr: 0.0025\n",
            "Epoch 83/160\n",
            "196/196 [==============================] - 5s 24ms/step - loss: 0.0012 - val_loss: 0.0018 - lr: 0.0025\n",
            "Epoch 84/160\n",
            "196/196 [==============================] - 5s 24ms/step - loss: 0.0015 - val_loss: 0.0021 - lr: 0.0025\n",
            "Epoch 85/160\n",
            "196/196 [==============================] - 5s 24ms/step - loss: 0.0309 - val_loss: 0.0065 - lr: 0.0025\n",
            "Epoch 86/160\n",
            "196/196 [==============================] - 5s 24ms/step - loss: 0.0035 - val_loss: 0.0030 - lr: 0.0025\n",
            "Epoch 87/160\n",
            "196/196 [==============================] - 5s 24ms/step - loss: 0.0019 - val_loss: 0.0022 - lr: 0.0025\n",
            "Epoch 88/160\n",
            "196/196 [==============================] - 5s 24ms/step - loss: 0.0014 - val_loss: 0.0018 - lr: 0.0025\n",
            "Epoch 89/160\n",
            "196/196 [==============================] - 5s 24ms/step - loss: 0.0012 - val_loss: 0.0015 - lr: 0.0025\n",
            "Epoch 90/160\n",
            "196/196 [==============================] - 5s 24ms/step - loss: 0.0010 - val_loss: 0.0015 - lr: 0.0025\n",
            "Epoch 91/160\n",
            "196/196 [==============================] - 5s 24ms/step - loss: 9.3582e-04 - val_loss: 0.0014 - lr: 0.0025\n",
            "Epoch 92/160\n",
            "196/196 [==============================] - 5s 24ms/step - loss: 9.3360e-04 - val_loss: 0.0014 - lr: 0.0025\n",
            "Epoch 93/160\n",
            "196/196 [==============================] - 5s 24ms/step - loss: 8.0768e-04 - val_loss: 0.0012 - lr: 0.0025\n",
            "Epoch 94/160\n",
            "196/196 [==============================] - 5s 24ms/step - loss: 0.0393 - val_loss: 0.0118 - lr: 0.0025\n",
            "Epoch 95/160\n",
            "196/196 [==============================] - 5s 24ms/step - loss: 0.0044 - val_loss: 0.0033 - lr: 0.0025\n",
            "Epoch 96/160\n",
            "196/196 [==============================] - 5s 24ms/step - loss: 0.0020 - val_loss: 0.0023 - lr: 0.0025\n",
            "Epoch 97/160\n",
            "196/196 [==============================] - 5s 24ms/step - loss: 0.0014 - val_loss: 0.0019 - lr: 0.0025\n",
            "Epoch 98/160\n",
            "196/196 [==============================] - 5s 24ms/step - loss: 0.0011 - val_loss: 0.0015 - lr: 0.0025\n",
            "Epoch 99/160\n",
            "196/196 [==============================] - 5s 24ms/step - loss: 9.7840e-04 - val_loss: 0.0015 - lr: 0.0025\n",
            "Epoch 100/160\n",
            "196/196 [==============================] - 5s 24ms/step - loss: 9.1326e-04 - val_loss: 0.0014 - lr: 0.0025\n",
            "Epoch 101/160\n",
            "196/196 [==============================] - 5s 24ms/step - loss: 7.7833e-04 - val_loss: 0.0012 - lr: 0.0025\n",
            "Epoch 102/160\n",
            "196/196 [==============================] - 5s 24ms/step - loss: 7.0629e-04 - val_loss: 0.0012 - lr: 0.0025\n",
            "Epoch 103/160\n",
            "196/196 [==============================] - 5s 24ms/step - loss: 5.9657e-04 - val_loss: 0.0010 - lr: 0.0025\n",
            "Epoch 104/160\n",
            "196/196 [==============================] - 5s 24ms/step - loss: 5.9133e-04 - val_loss: 0.0022 - lr: 0.0025\n",
            "Epoch 105/160\n",
            "196/196 [==============================] - 5s 24ms/step - loss: 0.1050 - val_loss: 0.0122 - lr: 0.0025\n",
            "Epoch 106/160\n",
            "196/196 [==============================] - 5s 24ms/step - loss: 0.0068 - val_loss: 0.0054 - lr: 0.0025\n",
            "Epoch 107/160\n",
            "196/196 [==============================] - 5s 24ms/step - loss: 0.0037 - val_loss: 0.0038 - lr: 0.0025\n",
            "Epoch 108/160\n",
            "196/196 [==============================] - 5s 24ms/step - loss: 0.0026 - val_loss: 0.0029 - lr: 0.0025\n",
            "Epoch 109/160\n",
            "196/196 [==============================] - 5s 24ms/step - loss: 0.0020 - val_loss: 0.0025 - lr: 0.0025\n",
            "Epoch 110/160\n",
            "196/196 [==============================] - 5s 24ms/step - loss: 0.0016 - val_loss: 0.0021 - lr: 0.0025\n",
            "Epoch 111/160\n",
            "196/196 [==============================] - 5s 24ms/step - loss: 0.0013 - val_loss: 0.0017 - lr: 0.0025\n",
            "Epoch 112/160\n",
            "196/196 [==============================] - 5s 24ms/step - loss: 0.0011 - val_loss: 0.0015 - lr: 0.0025\n",
            "Epoch 113/160\n",
            "195/196 [============================>.] - ETA: 0s - loss: 9.8948e-04\n",
            "Epoch 113: ReduceLROnPlateau reducing learning rate to 0.0012499999720603228.\n",
            "196/196 [==============================] - 5s 24ms/step - loss: 9.8907e-04 - val_loss: 0.0015 - lr: 0.0025\n",
            "Epoch 114/160\n",
            "196/196 [==============================] - 5s 24ms/step - loss: 7.9903e-04 - val_loss: 0.0012 - lr: 0.0012\n",
            "Epoch 115/160\n",
            "196/196 [==============================] - 5s 24ms/step - loss: 7.2621e-04 - val_loss: 0.0012 - lr: 0.0012\n",
            "Epoch 116/160\n",
            "196/196 [==============================] - 5s 24ms/step - loss: 6.9549e-04 - val_loss: 0.0011 - lr: 0.0012\n",
            "Epoch 117/160\n",
            "196/196 [==============================] - 5s 24ms/step - loss: 6.4702e-04 - val_loss: 0.0010 - lr: 0.0012\n",
            "Epoch 118/160\n",
            "196/196 [==============================] - 5s 24ms/step - loss: 6.0916e-04 - val_loss: 0.0011 - lr: 0.0012\n",
            "Epoch 119/160\n",
            "196/196 [==============================] - 5s 24ms/step - loss: 5.8587e-04 - val_loss: 9.6938e-04 - lr: 0.0012\n",
            "Epoch 120/160\n",
            "196/196 [==============================] - 5s 24ms/step - loss: 5.3869e-04 - val_loss: 9.7909e-04 - lr: 0.0012\n",
            "Epoch 121/160\n",
            "196/196 [==============================] - 5s 24ms/step - loss: 5.2415e-04 - val_loss: 8.8498e-04 - lr: 0.0012\n",
            "Epoch 122/160\n",
            "196/196 [==============================] - 5s 24ms/step - loss: 4.9148e-04 - val_loss: 8.3526e-04 - lr: 0.0012\n",
            "Epoch 123/160\n",
            "196/196 [==============================] - 5s 24ms/step - loss: 4.8159e-04 - val_loss: 9.3740e-04 - lr: 0.0012\n",
            "Epoch 124/160\n",
            "196/196 [==============================] - 5s 24ms/step - loss: 4.7856e-04 - val_loss: 8.0896e-04 - lr: 0.0012\n",
            "Epoch 125/160\n",
            "196/196 [==============================] - 5s 24ms/step - loss: 0.0109 - val_loss: 0.0016 - lr: 0.0012\n",
            "Epoch 126/160\n",
            "196/196 [==============================] - 5s 24ms/step - loss: 8.2019e-04 - val_loss: 0.0011 - lr: 0.0012\n",
            "Epoch 127/160\n",
            "196/196 [==============================] - 5s 24ms/step - loss: 6.1774e-04 - val_loss: 0.0010 - lr: 0.0012\n",
            "Epoch 128/160\n",
            "196/196 [==============================] - 5s 24ms/step - loss: 5.2334e-04 - val_loss: 9.0788e-04 - lr: 0.0012\n",
            "Epoch 129/160\n",
            "196/196 [==============================] - 5s 24ms/step - loss: 4.6615e-04 - val_loss: 8.2726e-04 - lr: 0.0012\n",
            "Epoch 130/160\n",
            "196/196 [==============================] - 5s 24ms/step - loss: 4.2105e-04 - val_loss: 7.9910e-04 - lr: 0.0012\n",
            "Epoch 131/160\n",
            "196/196 [==============================] - 5s 24ms/step - loss: 3.8747e-04 - val_loss: 7.3336e-04 - lr: 0.0012\n",
            "Epoch 132/160\n",
            "196/196 [==============================] - 5s 24ms/step - loss: 3.6234e-04 - val_loss: 6.8845e-04 - lr: 0.0012\n",
            "Epoch 133/160\n",
            "196/196 [==============================] - 5s 24ms/step - loss: 3.3415e-04 - val_loss: 6.5921e-04 - lr: 0.0012\n",
            "Epoch 134/160\n",
            "196/196 [==============================] - 5s 24ms/step - loss: 3.1428e-04 - val_loss: 6.3797e-04 - lr: 0.0012\n",
            "Epoch 135/160\n",
            "196/196 [==============================] - 5s 24ms/step - loss: 2.9917e-04 - val_loss: 6.2230e-04 - lr: 0.0012\n",
            "Epoch 136/160\n",
            "196/196 [==============================] - 5s 24ms/step - loss: 2.8571e-04 - val_loss: 6.0190e-04 - lr: 0.0012\n",
            "Epoch 137/160\n",
            "196/196 [==============================] - 5s 24ms/step - loss: 2.7473e-04 - val_loss: 6.0064e-04 - lr: 0.0012\n",
            "Epoch 138/160\n",
            "196/196 [==============================] - 5s 24ms/step - loss: 2.5560e-04 - val_loss: 5.6090e-04 - lr: 0.0012\n",
            "Epoch 139/160\n",
            "196/196 [==============================] - 5s 24ms/step - loss: 0.0053 - val_loss: 0.0081 - lr: 0.0012\n",
            "Epoch 140/160\n",
            "196/196 [==============================] - 5s 24ms/step - loss: 0.0013 - val_loss: 9.3755e-04 - lr: 0.0012\n",
            "Epoch 141/160\n",
            "196/196 [==============================] - 5s 24ms/step - loss: 4.4099e-04 - val_loss: 7.8509e-04 - lr: 0.0012\n",
            "Epoch 142/160\n",
            "196/196 [==============================] - 5s 24ms/step - loss: 3.4687e-04 - val_loss: 6.7841e-04 - lr: 0.0012\n",
            "Epoch 143/160\n",
            "196/196 [==============================] - 5s 24ms/step - loss: 2.9553e-04 - val_loss: 6.1362e-04 - lr: 0.0012\n",
            "Epoch 144/160\n",
            "196/196 [==============================] - 5s 24ms/step - loss: 2.6129e-04 - val_loss: 5.9294e-04 - lr: 0.0012\n",
            "Epoch 145/160\n",
            "196/196 [==============================] - 5s 24ms/step - loss: 2.3985e-04 - val_loss: 5.6877e-04 - lr: 0.0012\n",
            "Epoch 146/160\n",
            "196/196 [==============================] - 5s 24ms/step - loss: 2.2125e-04 - val_loss: 5.4020e-04 - lr: 0.0012\n",
            "Epoch 147/160\n",
            "196/196 [==============================] - 5s 24ms/step - loss: 2.0662e-04 - val_loss: 5.3107e-04 - lr: 0.0012\n",
            "Epoch 148/160\n",
            "196/196 [==============================] - 5s 24ms/step - loss: 1.9636e-04 - val_loss: 5.0835e-04 - lr: 0.0012\n",
            "Epoch 149/160\n",
            "196/196 [==============================] - 5s 24ms/step - loss: 1.8397e-04 - val_loss: 5.0192e-04 - lr: 0.0012\n",
            "Epoch 150/160\n",
            "196/196 [==============================] - 5s 24ms/step - loss: 1.7557e-04 - val_loss: 4.9804e-04 - lr: 0.0012\n",
            "Epoch 151/160\n",
            "196/196 [==============================] - 5s 24ms/step - loss: 1.6763e-04 - val_loss: 4.8785e-04 - lr: 0.0012\n",
            "Epoch 152/160\n",
            "196/196 [==============================] - 5s 24ms/step - loss: 1.5725e-04 - val_loss: 4.5055e-04 - lr: 0.0012\n",
            "Epoch 153/160\n",
            "196/196 [==============================] - 5s 24ms/step - loss: 0.0196 - val_loss: 0.0041 - lr: 0.0012\n",
            "Epoch 154/160\n",
            "196/196 [==============================] - 5s 24ms/step - loss: 0.0012 - val_loss: 0.0011 - lr: 0.0012\n",
            "Epoch 155/160\n",
            "196/196 [==============================] - 5s 24ms/step - loss: 5.5216e-04 - val_loss: 9.8453e-04 - lr: 0.0012\n",
            "Epoch 156/160\n",
            "196/196 [==============================] - 5s 24ms/step - loss: 4.2486e-04 - val_loss: 7.8169e-04 - lr: 0.0012\n",
            "Epoch 157/160\n",
            "196/196 [==============================] - 5s 24ms/step - loss: 3.4509e-04 - val_loss: 6.8544e-04 - lr: 0.0012\n",
            "Epoch 158/160\n",
            "196/196 [==============================] - 5s 24ms/step - loss: 3.0362e-04 - val_loss: 6.4576e-04 - lr: 0.0012\n",
            "Epoch 159/160\n",
            "196/196 [==============================] - 5s 24ms/step - loss: 2.6945e-04 - val_loss: 6.0641e-04 - lr: 0.0012\n",
            "Epoch 160/160\n",
            "196/196 [==============================] - 5s 24ms/step - loss: 2.4343e-04 - val_loss: 5.6931e-04 - lr: 0.0012\n"
          ]
        },
        {
          "output_type": "execute_result",
          "data": {
            "text/plain": [
              "<keras.callbacks.History at 0x7f4bd6d36310>"
            ]
          },
          "metadata": {},
          "execution_count": 156
        }
      ],
      "source": [
        "model.fit([X_train, X_train, energy_train], Y_train,\n",
        "                    epochs=160,\n",
        "                    batch_size=256,\n",
        "                    shuffle=True,\n",
        "                    callbacks=[h, rlr],\n",
        "                    validation_data=([X_test, X_test, energy_test], Y_test))"
      ],
      "metadata": {
        "pycharm": {
          "name": "#%%\n"
        },
        "colab": {
          "base_uri": "https://localhost:8080/"
        },
        "id": "4yJbmbRn9bRq",
        "outputId": "6ca8cb02-2f5a-46bd-8112-768ffa17c241"
      }
    },
    {
      "cell_type": "code",
      "execution_count": null,
      "outputs": [],
      "source": [
        "import pickle\n",
        "with open(\"Blog_history.pickle\", \"wb\") as f:\n",
        "    pickle.dump(h.history, f)"
      ],
      "metadata": {
        "pycharm": {
          "name": "#%%\n"
        },
        "id": "fZVb3vtV9bRr"
      }
    },
    {
      "cell_type": "code",
      "execution_count": null,
      "outputs": [
        {
          "output_type": "execute_result",
          "data": {
            "text/plain": [
              "<matplotlib.legend.Legend at 0x7f4bd7b50690>"
            ]
          },
          "metadata": {},
          "execution_count": 158
        },
        {
          "output_type": "display_data",
          "data": {
            "text/plain": [
              "<Figure size 432x288 with 1 Axes>"
            ],
            "image/png": "[encoded data removed]"
          },
          "metadata": {
            "needs_background": "light"
          }
        }
      ],
      "source": [
        "plt.plot(h.history[\"loss\"], label=\"Loss\")\n",
        "plt.plot(h.history[\"val_loss\"], label=\"Val_Loss\")\n",
        "plt.yscale(\"log\")\n",
        "plt.legend()"
      ],
      "metadata": {
        "pycharm": {
          "name": "#%%\n"
        },
        "colab": {
          "base_uri": "https://localhost:8080/",
          "height": 283
        },
        "id": "2MmLLOOg9bRs",
        "outputId": "c86204d7-0935-4195-fcb7-f0105453d41a"
      }
    },
    {
      "cell_type": "code",
      "execution_count": null,
      "outputs": [
        {
          "output_type": "stream",
          "name": "stdout",
          "text": [
            "WARNING:tensorflow:Compiled the loaded model, but the compiled metrics have yet to be built. `model.compile_metrics` will be empty until you train or evaluate the model.\n"
          ]
        },
        {
          "output_type": "stream",
          "name": "stderr",
          "text": [
            "2022-04-05 17:55:18.557 WARNING tensorflow: Compiled the loaded model, but the compiled metrics have yet to be built. `model.compile_metrics` will be empty until you train or evaluate the model.\n"
          ]
        }
      ],
      "source": [
        "smiles_to_latent_model = Model(encoder_inputs, neck_outputs)\n",
        "smiles_to_latent_model.save(\"Blog_simple_smi2lat.h5\")"
      ],
      "metadata": {
        "pycharm": {
          "name": "#%%\n"
        },
        "id": "8jnhdSx_9bRs",
        "colab": {
          "base_uri": "https://localhost:8080/"
        },
        "outputId": "8c570040-be6a-4746-bd83-0336a91bb11d"
      }
    },
    {
      "cell_type": "code",
      "source": [
        "latent_input = Input(shape=(latent_dim,))\n",
        "energy_input = Input(shape=(1,))\n",
        "\n",
        "energy_concat_2 = concatenate([latent_input, energy_input])\n",
        "\n",
        "state_h_decoded_2 = decode_h(energy_concat_2)\n",
        "state_c_decoded_2 = decode_c(energy_concat_2)\n",
        "\n",
        "latent_to_states_model = Model([latent_input, energy_input], \n",
        "                               [state_h_decoded_2, state_c_decoded_2])\n",
        "latent_to_states_model.save(\"Blog_simple_lat2state.h5\")\n",
        "latent_to_states_model.summary()"
      ],
      "metadata": {
        "id": "sCjvxQedD8vH",
        "colab": {
          "base_uri": "https://localhost:8080/"
        },
        "outputId": "188fd82b-b1b4-417a-dc34-19a2e8a2b22a"
      },
      "execution_count": null,
      "outputs": [
        {
          "output_type": "stream",
          "name": "stdout",
          "text": [
            "WARNING:tensorflow:Compiled the loaded model, but the compiled metrics have yet to be built. `model.compile_metrics` will be empty until you train or evaluate the model.\n"
          ]
        },
        {
          "output_type": "stream",
          "name": "stderr",
          "text": [
            "2022-04-05 17:55:20.947 WARNING tensorflow: Compiled the loaded model, but the compiled metrics have yet to be built. `model.compile_metrics` will be empty until you train or evaluate the model.\n"
          ]
        },
        {
          "output_type": "stream",
          "name": "stdout",
          "text": [
            "Model: \"model_24\"\n",
            "__________________________________________________________________________________________________\n",
            " Layer (type)                   Output Shape         Param #     Connected to                     \n",
            "==================================================================================================\n",
            " input_38 (InputLayer)          [(None, 64)]         0           []                               \n",
            "                                                                                                  \n",
            " input_39 (InputLayer)          [(None, 1)]          0           []                               \n",
            "                                                                                                  \n",
            " Energy_concat (Concatenate)    (None, 65)           0           ['input_38[0][0]',               \n",
            "                                                                  'input_39[0][0]']               \n",
            "                                                                                                  \n",
            " State_h_decoder (Dense)        (None, 64)           4224        ['Energy_concat[1][0]']          \n",
            "                                                                                                  \n",
            " State_c_decoder (Dense)        (None, 64)           4224        ['Energy_concat[1][0]']          \n",
            "                                                                                                  \n",
            "==================================================================================================\n",
            "Total params: 8,448\n",
            "Trainable params: 8,448\n",
            "Non-trainable params: 0\n",
            "__________________________________________________________________________________________________\n"
          ]
        }
      ]
    },
    {
      "cell_type": "code",
      "source": [
        "inf_decoder_inputs = Input(batch_shape=(1, 1, input_shape[1]))\n",
        "\n",
        "inf_decoder_lstm = LSTM(lstm_dim,\n",
        "                    return_sequences=True,\n",
        "                    unroll=unroll,\n",
        "                    stateful=True\n",
        "                   )\n",
        "inf_decoder_outputs = inf_decoder_lstm(inf_decoder_inputs)\n",
        "inf_decoder_dense = Dense(output_dim, activation='softmax')\n",
        "inf_decoder_outputs = inf_decoder_dense(inf_decoder_outputs)\n",
        "sample_model = Model(inf_decoder_inputs, inf_decoder_outputs)"
      ],
      "metadata": {
        "id": "YgHP2EuKEC-_"
      },
      "execution_count": null,
      "outputs": []
    },
    {
      "cell_type": "code",
      "source": [
        "sample_model.layers[1].set_weights(model.layers[-2].get_weights())\n",
        "sample_model.layers[2].set_weights(model.layers[-1].get_weights())\n",
        "sample_model.save(\"Blog_simple_samplemodel.h5\")\n",
        "\n",
        "sample_model.summary()"
      ],
      "metadata": {
        "id": "-puMWe2MEFoh",
        "colab": {
          "base_uri": "https://localhost:8080/"
        },
        "outputId": "d13503a9-16a9-4546-8a07-4863b50d9add"
      },
      "execution_count": null,
      "outputs": [
        {
          "output_type": "stream",
          "name": "stdout",
          "text": [
            "WARNING:tensorflow:Compiled the loaded model, but the compiled metrics have yet to be built. `model.compile_metrics` will be empty until you train or evaluate the model.\n"
          ]
        },
        {
          "output_type": "stream",
          "name": "stderr",
          "text": [
            "2022-04-05 17:55:26.024 WARNING tensorflow: Compiled the loaded model, but the compiled metrics have yet to be built. `model.compile_metrics` will be empty until you train or evaluate the model.\n"
          ]
        },
        {
          "output_type": "stream",
          "name": "stdout",
          "text": [
            "Model: \"model_25\"\n",
            "_________________________________________________________________\n",
            " Layer (type)                Output Shape              Param #   \n",
            "=================================================================\n",
            " input_40 (InputLayer)       [(1, 1, 22)]              0         \n",
            "                                                                 \n",
            " lstm_26 (LSTM)              (1, 1, 64)                22272     \n",
            "                                                                 \n",
            " dense_40 (Dense)            (1, 1, 22)                1430      \n",
            "                                                                 \n",
            "=================================================================\n",
            "Total params: 23,702\n",
            "Trainable params: 23,702\n",
            "Non-trainable params: 0\n",
            "_________________________________________________________________\n"
          ]
        }
      ]
    },
    {
      "cell_type": "code",
      "source": [
        "x_latent = smiles_to_latent_model.predict(X_test)\n",
        "free_energy_value = 0.5\n",
        "free_energy = np.array([free_energy_value])"
      ],
      "metadata": {
        "id": "i-lBQT2kD0lh"
      },
      "execution_count": null,
      "outputs": []
    },
    {
      "cell_type": "code",
      "source": [
        "def latent_to_smiles(latent, free_energy):\n",
        "    states = latent_to_states_model.predict([latent, free_energy])\n",
        "    sample_model.layers[1].reset_states(states=[states[0], states[1]])\n",
        "    # добавление стартового символа\n",
        "    startidx = char_to_int[\"!\"]\n",
        "    samplevec = np.zeros((1, 1, len(charset)))\n",
        "    samplevec[0,0,startidx] = 1\n",
        "    smiles = \"\"\n",
        "    # предсказание следующего символа\n",
        "    for i in range(embed):\n",
        "        o = sample_model.predict(samplevec)\n",
        "        sampleidx = np.argmax(o)\n",
        "        samplechar = int_to_char[sampleidx]\n",
        "        if samplechar != \"E\":\n",
        "            smiles = smiles + int_to_char[sampleidx]\n",
        "            samplevec = np.zeros((1, 1, len(charset)))\n",
        "            samplevec[0,0,sampleidx] = 1\n",
        "        else:\n",
        "            break\n",
        "    return smiles"
      ],
      "metadata": {
        "id": "d5b7JmsmDXzk"
      },
      "execution_count": null,
      "outputs": []
    },
    {
      "cell_type": "code",
      "source": [
        "smiles = latent_to_smiles(x_latent[10:11], free_energy)\n",
        "print(smiles)\n",
        "print(smiles_test.iloc[10])"
      ],
      "metadata": {
        "colab": {
          "base_uri": "https://localhost:8080/"
        },
        "id": "-QMUdFmXDc8J",
        "outputId": "3837b26b-3af4-441c-c2de-6cd478417843"
      },
      "execution_count": null,
      "outputs": [
        {
          "output_type": "stream",
          "name": "stdout",
          "text": [
            "NN1C(=N)CCC1=N\n",
            "NN1C(=N)CCC1=N\n"
          ]
        }
      ]
    },
    {
      "cell_type": "code",
      "source": [
        "# генерация соединения из latent space с добавлением шума\n",
        "latent = x_latent[0:1]\n",
        "scale = 0.30\n",
        "mols = []\n",
        "for i in range(20):\n",
        "    latent_r = latent + scale*(np.random.randn(latent.shape[1]))\n",
        "    smiles = latent_to_smiles(latent_r, free_energy)\n",
        "    mol = Chem.MolFromSmiles(smiles)\n",
        "    if mol:\n",
        "        mols.append(mol)\n",
        "    else:\n",
        "        print(smiles)\n",
        "\n",
        "Draw.MolsToGridImage(mols, molsPerRow=5)"
      ],
      "metadata": {
        "colab": {
          "base_uri": "https://localhost:8080/",
          "height": 871
        },
        "id": "3TEKWQNsFVd2",
        "outputId": "820b1b93-6877-46aa-b135-12e69a0a6ac2"
      },
      "execution_count": null,
      "outputs": [
        {
          "output_type": "stream",
          "name": "stdout",
          "text": [
            "FC1CCO(CF)O1C\n",
            "FC1CC(O1F)C#N\n",
            "FC1C#NCC(F)=O1\n"
          ]
        },
        {
          "output_type": "execute_result",
          "data": {
            "text/plain": [
              "<PIL.PngImagePlugin.PngImageFile image mode=RGB size=1000x800 at 0x7F4BD3EE89D0>"
            ],
            "image/png": "[encoded data removed]"
          },
          "metadata": {},
          "execution_count": 176
        }
      ]
    },
    {
      "cell_type": "code",
      "source": [
        "import py3Dmol\n",
        "\n",
        "from rdkit import Chem\n",
        "from rdkit.Chem import AllChem\n",
        "\n",
        "def makeblock(smi):\n",
        "    mol = Chem.MolFromSmiles(smi)\n",
        "    mol = Chem.AddHs(mol)\n",
        "    AllChem.EmbedMolecule(mol)\n",
        "    mblock = Chem.MolToMolBlock(mol)\n",
        "    return mblock\n",
        "\n",
        "def render_mol(xyz):\n",
        "    xyzview = py3Dmol.view()\n",
        "    xyzview.addModel(xyz,'mol')\n",
        "    xyzview.setStyle({'stick':{}})\n",
        "    xyzview.setBackgroundColor('white')\n",
        "    xyzview.zoomTo()\n",
        "    xyzview.show()\n",
        "\n",
        "\n",
        "compound_smiles = smiles_train.iloc[0]\n",
        "blk = makeblock(compound_smiles)\n",
        "print(compound_smiles)\n",
        "render_mol(blk)"
      ],
      "metadata": {
        "colab": {
          "base_uri": "https://localhost:8080/",
          "height": 515
        },
        "id": "OrPKMSyBLktL",
        "outputId": "0aec1bab-342a-4dc6-f493-7f80b6c04de4"
      },
      "execution_count": null,
      "outputs": [
        {
          "output_type": "stream",
          "name": "stdout",
          "text": [
            "COc1nncn1O\n"
          ]
        },
        {
          "output_type": "display_data",
          "data": {
            "application/3dmoljs_load.v0": "<div id=\"3dmolviewer_16491838850711026\"  style=\"position: relative; width: 640px; height: 480px\">\n        <p id=\"3dmolwarning_16491838850711026\" style=\"background-color:#ffcccc;color:black\">You appear to be running in JupyterLab (or JavaScript failed to load for some other reason).  You need to install the 3dmol extension: <br>\n        <tt>jupyter labextension install jupyterlab_3dmol</tt></p>\n        </div>\n<script>\n\nvar loadScriptAsync = function(uri){\n  return new Promise((resolve, reject) => {\n    var tag = document.createElement('script');\n    tag.src = uri;\n    tag.async = true;\n    tag.onload = () => {\n      resolve();\n    };\n  var firstScriptTag = document.getElementsByTagName('script')[0];\n  firstScriptTag.parentNode.insertBefore(tag, firstScriptTag);\n});\n};\n\nif(typeof $3Dmolpromise === 'undefined') {\n$3Dmolpromise = null;\n  $3Dmolpromise = loadScriptAsync('https://3dmol.org/build/3Dmol.js');\n}\n\nvar viewer_16491838850711026 = null;\nvar warn = document.getElementById(\"3dmolwarning_16491838850711026\");\nif(warn) {\n    warn.parentNode.removeChild(warn);\n}\n$3Dmolpromise.then(function() {\nviewer_16491838850711026 = $3Dmol.createViewer($(\"#3dmolviewer_16491838850711026\"),{backgroundColor:\"white\"});\nviewer_16491838850711026.zoomTo();\n\tviewer_16491838850711026.addModel(\"\\n     RDKit          3D\\n\\n 13 13  0  0  0  0  0  0  0  0999 V2000\\n   -2.2837   -0.8263    0.0442 C   0  0  0  0  0  0  0  0  0  0  0  0\\n   -0.8972   -0.9247    0.2692 O   0  0  0  0  0  0  0  0  0  0  0  0\\n   -0.0250    0.1410    0.0020 C   0  0  0  0  0  0  0  0  0  0  0  0\\n   -0.3118    1.3643   -0.4806 N   0  0  0  0  0  0  0  0  0  0  0  0\\n    0.8226    2.0753   -0.5834 N   0  0  0  0  0  0  0  0  0  0  0  0\\n    1.8494    1.3117   -0.1664 C   0  0  0  0  0  0  0  0  0  0  0  0\\n    1.3047    0.1326    0.1866 N   0  0  0  0  0  0  0  0  0  0  0  0\\n    2.0056   -0.9466    0.6735 O   0  0  0  0  0  0  0  0  0  0  0  0\\n   -2.8048   -1.6172    0.6247 H   0  0  0  0  0  0  0  0  0  0  0  0\\n   -2.5562   -0.9122   -1.0335 H   0  0  0  0  0  0  0  0  0  0  0  0\\n   -2.6578    0.1383    0.4631 H   0  0  0  0  0  0  0  0  0  0  0  0\\n    2.9042    1.5532   -0.1099 H   0  0  0  0  0  0  0  0  0  0  0  0\\n    2.6499   -1.4892    0.1105 H   0  0  0  0  0  0  0  0  0  0  0  0\\n  1  2  1  0\\n  2  3  1  0\\n  3  4  2  0\\n  4  5  1  0\\n  5  6  2  0\\n  6  7  1  0\\n  7  8  1  0\\n  7  3  1  0\\n  1  9  1  0\\n  1 10  1  0\\n  1 11  1  0\\n  6 12  1  0\\n  8 13  1  0\\nM  END\\n\",\"mol\");\n\tviewer_16491838850711026.setStyle({\"stick\": {}});\n\tviewer_16491838850711026.setBackgroundColor(\"white\");\n\tviewer_16491838850711026.zoomTo();\nviewer_16491838850711026.render();\n});\n</script>",
            "text/html": [
              "<div id=\"3dmolviewer_16491838850711026\"  style=\"position: relative; width: 640px; height: 480px\">\n",
              "        <p id=\"3dmolwarning_16491838850711026\" style=\"background-color:#ffcccc;color:black\">You appear to be running in JupyterLab (or JavaScript failed to load for some other reason).  You need to install the 3dmol extension: <br>\n",
              "        <tt>jupyter labextension install jupyterlab_3dmol</tt></p>\n",
              "        </div>\n",
              "<script>\n",
              "\n",
              "var loadScriptAsync = function(uri){\n",
              "  return new Promise((resolve, reject) => {\n",
              "    var tag = document.createElement('script');\n",
              "    tag.src = uri;\n",
              "    tag.async = true;\n",
              "    tag.onload = () => {\n",
              "      resolve();\n",
              "    };\n",
              "  var firstScriptTag = document.getElementsByTagName('script')[0];\n",
              "  firstScriptTag.parentNode.insertBefore(tag, firstScriptTag);\n",
              "});\n",
              "};\n",
              "\n",
              "if(typeof $3Dmolpromise === 'undefined') {\n",
              "$3Dmolpromise = null;\n",
              "  $3Dmolpromise = loadScriptAsync('https://3dmol.org/build/3Dmol.js');\n",
              "}\n",
              "\n",
              "var viewer_16491838850711026 = null;\n",
              "var warn = document.getElementById(\"3dmolwarning_16491838850711026\");\n",
              "if(warn) {\n",
              "    warn.parentNode.removeChild(warn);\n",
              "}\n",
              "$3Dmolpromise.then(function() {\n",
              "viewer_16491838850711026 = $3Dmol.createViewer($(\"#3dmolviewer_16491838850711026\"),{backgroundColor:\"white\"});\n",
              "viewer_16491838850711026.zoomTo();\n",
              "\tviewer_16491838850711026.addModel(\"\\n     RDKit          3D\\n\\n 13 13  0  0  0  0  0  0  0  0999 V2000\\n   -2.2837   -0.8263    0.0442 C   0  0  0  0  0  0  0  0  0  0  0  0\\n   -0.8972   -0.9247    0.2692 O   0  0  0  0  0  0  0  0  0  0  0  0\\n   -0.0250    0.1410    0.0020 C   0  0  0  0  0  0  0  0  0  0  0  0\\n   -0.3118    1.3643   -0.4806 N   0  0  0  0  0  0  0  0  0  0  0  0\\n    0.8226    2.0753   -0.5834 N   0  0  0  0  0  0  0  0  0  0  0  0\\n    1.8494    1.3117   -0.1664 C   0  0  0  0  0  0  0  0  0  0  0  0\\n    1.3047    0.1326    0.1866 N   0  0  0  0  0  0  0  0  0  0  0  0\\n    2.0056   -0.9466    0.6735 O   0  0  0  0  0  0  0  0  0  0  0  0\\n   -2.8048   -1.6172    0.6247 H   0  0  0  0  0  0  0  0  0  0  0  0\\n   -2.5562   -0.9122   -1.0335 H   0  0  0  0  0  0  0  0  0  0  0  0\\n   -2.6578    0.1383    0.4631 H   0  0  0  0  0  0  0  0  0  0  0  0\\n    2.9042    1.5532   -0.1099 H   0  0  0  0  0  0  0  0  0  0  0  0\\n    2.6499   -1.4892    0.1105 H   0  0  0  0  0  0  0  0  0  0  0  0\\n  1  2  1  0\\n  2  3  1  0\\n  3  4  2  0\\n  4  5  1  0\\n  5  6  2  0\\n  6  7  1  0\\n  7  8  1  0\\n  7  3  1  0\\n  1  9  1  0\\n  1 10  1  0\\n  1 11  1  0\\n  6 12  1  0\\n  8 13  1  0\\nM  END\\n\",\"mol\");\n",
              "\tviewer_16491838850711026.setStyle({\"stick\": {}});\n",
              "\tviewer_16491838850711026.setBackgroundColor(\"white\");\n",
              "\tviewer_16491838850711026.zoomTo();\n",
              "viewer_16491838850711026.render();\n",
              "});\n",
              "</script>"
            ]
          },
          "metadata": {}
        }
      ]
    },
    {
      "cell_type": "code",
      "source": [
        "mol = AllChem.MolFromSmiles(compound_smiles)\n",
        "mol = Chem.AddHs(mol)\n",
        "Draw.MolToImage(mol)"
      ],
      "metadata": {
        "colab": {
          "base_uri": "https://localhost:8080/",
          "height": 317
        },
        "id": "LpCtmo1eROsU",
        "outputId": "724fe500-ba2a-48cc-abbb-cfe485451d93"
      },
      "execution_count": null,
      "outputs": [
        {
          "output_type": "execute_result",
          "data": {
            "text/plain": [
              "<PIL.PngImagePlugin.PngImageFile image mode=RGB size=300x300 at 0x7F4BD802F290>"
            ],
            "image/png": "[encoded data removed]"
          },
          "metadata": {},
          "execution_count": 76
        }
      ]
    }
  ],
  "metadata": {
    "kernelspec": {
      "display_name": "Python 3",
      "language": "python",
      "name": "python3"
    },
    "language_info": {
      "codemirror_mode": {
        "name": "ipython",
        "version": 2
      },
      "file_extension": ".py",
      "mimetype": "text/x-python",
      "name": "python",
      "nbconvert_exporter": "python",
      "pygments_lexer": "ipython2",
      "version": "2.7.6"
    },
    "colab": {
      "name": "lstm_net.ipynb",
      "provenance": [],
      "collapsed_sections": []
    },
    "accelerator": "GPU"
  },
  "nbformat": 4,
  "nbformat_minor": 0
}