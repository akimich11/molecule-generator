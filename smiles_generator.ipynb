{
  "cells": [
    {
      "cell_type": "markdown",
      "source": [
        "## Some imports"
      ],
      "metadata": {
        "id": "PajqXzD7-Syy"
      }
    },
    {
      "cell_type": "code",
      "source": [
        "from google.colab import drive\n",
        "\n",
        "!pip install rdkit-pypi\n",
        "!pip install py3Dmol\n",
        "drive.mount('/content/drive')"
      ],
      "metadata": {
        "id": "sWq2eoRc9lWJ",
        "colab": {
          "base_uri": "https://localhost:8080/"
        },
        "outputId": "1da1936c-42b7-43b0-9c0f-ce4420078993"
      },
      "execution_count": 1,
      "outputs": [
        {
          "output_type": "stream",
          "name": "stdout",
          "text": [
            "Collecting rdkit-pypi\n",
            "  Downloading rdkit_pypi-2022.3.1-cp37-cp37m-manylinux_2_17_x86_64.manylinux2014_x86_64.whl (22.5 MB)\n",
            "\u001b[K     |████████████████████████████████| 22.5 MB 1.2 MB/s \n",
            "\u001b[?25hRequirement already satisfied: numpy>=1.19 in /usr/local/lib/python3.7/dist-packages (from rdkit-pypi) (1.21.5)\n",
            "Requirement already satisfied: Pillow in /usr/local/lib/python3.7/dist-packages (from rdkit-pypi) (7.1.2)\n",
            "Installing collected packages: rdkit-pypi\n",
            "Successfully installed rdkit-pypi-2022.3.1\n",
            "Collecting py3Dmol\n",
            "  Downloading py3Dmol-1.8.0-py2.py3-none-any.whl (6.4 kB)\n",
            "Installing collected packages: py3Dmol\n",
            "Successfully installed py3Dmol-1.8.0\n",
            "Mounted at /content/drive\n"
          ]
        }
      ]
    },
    {
      "cell_type": "code",
      "execution_count": 11,
      "metadata": {
        "collapsed": true,
        "pycharm": {
          "name": "#%%\n"
        },
        "id": "o1JsuEnM9bRb"
      },
      "outputs": [],
      "source": [
        "import os\n",
        "import pandas as pd\n",
        "import numpy as np\n",
        "from rdkit import Chem\n",
        "from rdkit.Chem import Draw, Descriptors\n",
        "from matplotlib import pyplot as plt\n",
        "\n",
        "from keras.models import Model\n",
        "from keras.layers import Input\n",
        "from keras.layers import LSTM\n",
        "from keras.layers import Dense\n",
        "from keras.layers import Concatenate\n",
        "from keras.layers import BatchNormalization\n",
        "from keras import regularizers\n",
        "from tensorflow.keras.utils import plot_model\n",
        "from tensorflow.keras.optimizers import Adam\n",
        "\n",
        "from sklearn.model_selection import train_test_split"
      ]
    },
    {
      "cell_type": "markdown",
      "source": [
        "## Data preprocessing\n",
        "Dataset contains drug-like compounds which can be potential inhibitors of GP120 - CD4 interaction. Compounds are stored in SMILES format. Also data contains binding free energy for molecules."
      ],
      "metadata": {
        "id": "ptoVzozSCM7m"
      }
    },
    {
      "cell_type": "code",
      "execution_count": 3,
      "outputs": [
        {
          "output_type": "execute_result",
          "data": {
            "text/plain": [
              "   energy                                             smiles\n",
              "0    -8.1     Cc1ccc(C(=O)CN2NN=C(C3CC3)[C@@H]2c2ccccc2F)cc1\n",
              "1    -8.0  CCOC1=CC(=O)[C@@H](CC2=NNN(CC(=O)c3ccc(C)cc3)[...\n",
              "2    -7.7  Cc1ccc(C(=O)CN2NN=C(CNC(C)(C)CO)[C@H]2C(C)(C)C...\n",
              "3    -7.1  Cc1ccc(OC[C@H]2C(CN3CCOCC3)=NNN2CC(=O)c2ccc(C)...\n",
              "4    -6.8        Cc1ccc(C(=O)CN2NN=C(CCO)[C@@H]2C2(O)CC2)cc1"
            ],
            "text/html": [
              "\n",
              "  <div id=\"df-6d72fb18-4ffb-47b6-861b-96c90f6bcdcf\">\n",
              "    <div class=\"colab-df-container\">\n",
              "      <div>\n",
              "<style scoped>\n",
              "    .dataframe tbody tr th:only-of-type {\n",
              "        vertical-align: middle;\n",
              "    }\n",
              "\n",
              "    .dataframe tbody tr th {\n",
              "        vertical-align: top;\n",
              "    }\n",
              "\n",
              "    .dataframe thead th {\n",
              "        text-align: right;\n",
              "    }\n",
              "</style>\n",
              "<table border=\"1\" class=\"dataframe\">\n",
              "  <thead>\n",
              "    <tr style=\"text-align: right;\">\n",
              "      <th></th>\n",
              "      <th>energy</th>\n",
              "      <th>smiles</th>\n",
              "    </tr>\n",
              "  </thead>\n",
              "  <tbody>\n",
              "    <tr>\n",
              "      <th>0</th>\n",
              "      <td>-8.1</td>\n",
              "      <td>Cc1ccc(C(=O)CN2NN=C(C3CC3)[C@@H]2c2ccccc2F)cc1</td>\n",
              "    </tr>\n",
              "    <tr>\n",
              "      <th>1</th>\n",
              "      <td>-8.0</td>\n",
              "      <td>CCOC1=CC(=O)[C@@H](CC2=NNN(CC(=O)c3ccc(C)cc3)[...</td>\n",
              "    </tr>\n",
              "    <tr>\n",
              "      <th>2</th>\n",
              "      <td>-7.7</td>\n",
              "      <td>Cc1ccc(C(=O)CN2NN=C(CNC(C)(C)CO)[C@H]2C(C)(C)C...</td>\n",
              "    </tr>\n",
              "    <tr>\n",
              "      <th>3</th>\n",
              "      <td>-7.1</td>\n",
              "      <td>Cc1ccc(OC[C@H]2C(CN3CCOCC3)=NNN2CC(=O)c2ccc(C)...</td>\n",
              "    </tr>\n",
              "    <tr>\n",
              "      <th>4</th>\n",
              "      <td>-6.8</td>\n",
              "      <td>Cc1ccc(C(=O)CN2NN=C(CCO)[C@@H]2C2(O)CC2)cc1</td>\n",
              "    </tr>\n",
              "  </tbody>\n",
              "</table>\n",
              "</div>\n",
              "      <button class=\"colab-df-convert\" onclick=\"convertToInteractive('df-6d72fb18-4ffb-47b6-861b-96c90f6bcdcf')\"\n",
              "              title=\"Convert this dataframe to an interactive table.\"\n",
              "              style=\"display:none;\">\n",
              "        \n",
              "  <svg xmlns=\"http://www.w3.org/2000/svg\" height=\"24px\"viewBox=\"0 0 24 24\"\n",
              "       width=\"24px\">\n",
              "    <path d=\"M0 0h24v24H0V0z\" fill=\"none\"/>\n",
              "    <path d=\"M18.56 5.44l.94 2.06.94-2.06 2.06-.94-2.06-.94-.94-2.06-.94 2.06-2.06.94zm-11 1L8.5 8.5l.94-2.06 2.06-.94-2.06-.94L8.5 2.5l-.94 2.06-2.06.94zm10 10l.94 2.06.94-2.06 2.06-.94-2.06-.94-.94-2.06-.94 2.06-2.06.94z\"/><path d=\"M17.41 7.96l-1.37-1.37c-.4-.4-.92-.59-1.43-.59-.52 0-1.04.2-1.43.59L10.3 9.45l-7.72 7.72c-.78.78-.78 2.05 0 2.83L4 21.41c.39.39.9.59 1.41.59.51 0 1.02-.2 1.41-.59l7.78-7.78 2.81-2.81c.8-.78.8-2.07 0-2.86zM5.41 20L4 18.59l7.72-7.72 1.47 1.35L5.41 20z\"/>\n",
              "  </svg>\n",
              "      </button>\n",
              "      \n",
              "  <style>\n",
              "    .colab-df-container {\n",
              "      display:flex;\n",
              "      flex-wrap:wrap;\n",
              "      gap: 12px;\n",
              "    }\n",
              "\n",
              "    .colab-df-convert {\n",
              "      background-color: #E8F0FE;\n",
              "      border: none;\n",
              "      border-radius: 50%;\n",
              "      cursor: pointer;\n",
              "      display: none;\n",
              "      fill: #1967D2;\n",
              "      height: 32px;\n",
              "      padding: 0 0 0 0;\n",
              "      width: 32px;\n",
              "    }\n",
              "\n",
              "    .colab-df-convert:hover {\n",
              "      background-color: #E2EBFA;\n",
              "      box-shadow: 0px 1px 2px rgba(60, 64, 67, 0.3), 0px 1px 3px 1px rgba(60, 64, 67, 0.15);\n",
              "      fill: #174EA6;\n",
              "    }\n",
              "\n",
              "    [theme=dark] .colab-df-convert {\n",
              "      background-color: #3B4455;\n",
              "      fill: #D2E3FC;\n",
              "    }\n",
              "\n",
              "    [theme=dark] .colab-df-convert:hover {\n",
              "      background-color: #434B5C;\n",
              "      box-shadow: 0px 1px 3px 1px rgba(0, 0, 0, 0.15);\n",
              "      filter: drop-shadow(0px 1px 2px rgba(0, 0, 0, 0.3));\n",
              "      fill: #FFFFFF;\n",
              "    }\n",
              "  </style>\n",
              "\n",
              "      <script>\n",
              "        const buttonEl =\n",
              "          document.querySelector('#df-6d72fb18-4ffb-47b6-861b-96c90f6bcdcf button.colab-df-convert');\n",
              "        buttonEl.style.display =\n",
              "          google.colab.kernel.accessAllowed ? 'block' : 'none';\n",
              "\n",
              "        async function convertToInteractive(key) {\n",
              "          const element = document.querySelector('#df-6d72fb18-4ffb-47b6-861b-96c90f6bcdcf');\n",
              "          const dataTable =\n",
              "            await google.colab.kernel.invokeFunction('convertToInteractive',\n",
              "                                                     [key], {});\n",
              "          if (!dataTable) return;\n",
              "\n",
              "          const docLinkHtml = 'Like what you see? Visit the ' +\n",
              "            '<a target=\"_blank\" href=https://colab.research.google.com/notebooks/data_table.ipynb>data table notebook</a>'\n",
              "            + ' to learn more about interactive tables.';\n",
              "          element.innerHTML = '';\n",
              "          dataTable['output_type'] = 'display_data';\n",
              "          await google.colab.output.renderOutput(dataTable, element);\n",
              "          const docLink = document.createElement('div');\n",
              "          docLink.innerHTML = docLinkHtml;\n",
              "          element.appendChild(docLink);\n",
              "        }\n",
              "      </script>\n",
              "    </div>\n",
              "  </div>\n",
              "  "
            ]
          },
          "metadata": {},
          "execution_count": 3
        }
      ],
      "source": [
        "DATASETS_FOLDER = '/content/drive/MyDrive/datasets/gp120'\n",
        "\n",
        "smifile = f'{DATASETS_FOLDER}/gp120_cleaned.csv'\n",
        "data = pd.read_csv(smifile, header=0)\n",
        "del data['babel_smiles'], data['filepath_smi']\n",
        "data.head()"
      ],
      "metadata": {
        "pycharm": {
          "name": "#%%\n"
        },
        "id": "uL67MCpO9bRi",
        "colab": {
          "base_uri": "https://localhost:8080/",
          "height": 206
        },
        "outputId": "f7a24a53-5f19-44ea-ceba-1d1e724687d2"
      }
    },
    {
      "cell_type": "markdown",
      "source": [
        "### Train and test sets creation\n",
        "First of all, we need to shuffle our data and divide it into train and test datasets."
      ],
      "metadata": {
        "id": "Xj_pTtWeP5vi"
      }
    },
    {
      "cell_type": "code",
      "execution_count": 4,
      "outputs": [
        {
          "output_type": "stream",
          "name": "stdout",
          "text": [
            "(67842, 1)\n",
            "(3571, 1)\n"
          ]
        }
      ],
      "source": [
        "data = data.sample(frac=1, random_state=42)\n",
        "\n",
        "smiles_train, smiles_test = train_test_split(data.drop('energy', axis=1), test_size=0.05, shuffle=False)\n",
        "energy_train, energy_test = train_test_split(data.drop('smiles', axis=1), test_size=0.05, shuffle=False)\n",
        "print(smiles_train.shape)\n",
        "print(smiles_test.shape)"
      ],
      "metadata": {
        "pycharm": {
          "name": "#%%\n"
        },
        "colab": {
          "base_uri": "https://localhost:8080/"
        },
        "id": "6hGC5ZQq9bRi",
        "outputId": "7ad99bbe-0722-4327-da77-66eb242d131e"
      }
    },
    {
      "cell_type": "markdown",
      "source": [
        "### SMILES alphabet\n",
        "The autoencoder input layer receives a tensor of numbers and works with it. So we need to vectorize SMILES representation of molecules. This can be done with one-hot encoding. To create binary vector which represents SMILES, we need to count number of distinct symbols in compound formulas and the max length of word in dataset first. We also add \"!\" and \"E\" symbols to alphabet as start and end symbols."
      ],
      "metadata": {
        "id": "PR8SRe3pQXq-"
      }
    },
    {
      "cell_type": "code",
      "execution_count": 5,
      "outputs": [
        {
          "output_type": "stream",
          "name": "stdout",
          "text": [
            "alphabet size: 32\n",
            "max smiles len: 95\n"
          ]
        }
      ],
      "source": [
        "charset = set(\"\".join(list(data.smiles)) + \"!E\")\n",
        "char_to_int = dict((c, i) for i, c in enumerate(charset))\n",
        "int_to_char = dict((i, c) for i, c in enumerate(charset))\n",
        "embed = max([len(smile) for smile in data.smiles]) + 5\n",
        "\n",
        "print(f'alphabet size: {len(charset)}')\n",
        "print(f'max smiles len: {embed}')"
      ],
      "metadata": {
        "pycharm": {
          "name": "#%%\n"
        },
        "colab": {
          "base_uri": "https://localhost:8080/"
        },
        "id": "3oh9zC159bRk",
        "outputId": "d6fa6f50-3d80-44b2-88aa-2f8b96881729"
      }
    },
    {
      "cell_type": "markdown",
      "source": [
        "### SMILES length distribution"
      ],
      "metadata": {
        "id": "9TikSkEf7zx1"
      }
    },
    {
      "cell_type": "code",
      "source": [
        "data['smiles_len'] = np.array([len(smiles) for smiles in data.smiles])\n",
        "frequencies = data.smiles_len.value_counts()\n",
        "\n",
        "plt.rcParams[\"figure.figsize\"] = (15, 7)\n",
        "plt.bar(frequencies.index, frequencies)\n",
        "plt.xlabel('smiles_len')\n",
        "plt.ylabel('frequency')\n",
        "plt.show()"
      ],
      "metadata": {
        "colab": {
          "base_uri": "https://localhost:8080/",
          "height": 443
        },
        "id": "QFp1LKa27-c-",
        "outputId": "6258c1e5-29fa-4a67-811b-64aa606248c7"
      },
      "execution_count": 6,
      "outputs": [
        {
          "output_type": "display_data",
          "data": {
            "text/plain": [
              "<Figure size 1080x504 with 1 Axes>"
            ],
            "image/png": "[encoded data removed]"
          },
          "metadata": {
            "needs_background": "light"
          }
        }
      ]
    },
    {
      "cell_type": "markdown",
      "source": [
        "### Distribution of chars frequencies"
      ],
      "metadata": {
        "id": "1x4w2aeD8KD3"
      }
    },
    {
      "cell_type": "code",
      "source": [
        "from copy import deepcopy\n",
        "\n",
        "def count_char_freq(char):\n",
        "    return sum([smile.count(char) for smile in data.smiles])\n",
        "\n",
        "tmp_char_set = deepcopy(charset)\n",
        "tmp_char_set.remove('!')\n",
        "tmp_char_set.remove('E')\n",
        "tmp_char_set = list(tmp_char_set)\n",
        "\n",
        "\n",
        "char_freqs = np.array([count_char_freq(char) for char in tmp_char_set])\n",
        "freqs_df = pd.DataFrame(char_freqs, index=tmp_char_set, columns=['frequency'])\n",
        "freqs_df = freqs_df.sort_values('frequency')\n",
        "freqs_df[:10]"
      ],
      "metadata": {
        "colab": {
          "base_uri": "https://localhost:8080/",
          "height": 363
        },
        "id": "-7dJowR78RqB",
        "outputId": "11aa3239-d85c-4669-8d68-5541a7bb8dd3"
      },
      "execution_count": 7,
      "outputs": [
        {
          "output_type": "execute_result",
          "data": {
            "text/plain": [
              "   frequency\n",
              "6          2\n",
              ".         25\n",
              "P         27\n",
              "I         30\n",
              "5         94\n",
              "\\       1198\n",
              "o       1795\n",
              "s       2097\n",
              "/       5044\n",
              "+       5671"
            ],
            "text/html": [
              "\n",
              "  <div id=\"df-2303ace9-4a8f-4de2-8db1-c0c60de503cb\">\n",
              "    <div class=\"colab-df-container\">\n",
              "      <div>\n",
              "<style scoped>\n",
              "    .dataframe tbody tr th:only-of-type {\n",
              "        vertical-align: middle;\n",
              "    }\n",
              "\n",
              "    .dataframe tbody tr th {\n",
              "        vertical-align: top;\n",
              "    }\n",
              "\n",
              "    .dataframe thead th {\n",
              "        text-align: right;\n",
              "    }\n",
              "</style>\n",
              "<table border=\"1\" class=\"dataframe\">\n",
              "  <thead>\n",
              "    <tr style=\"text-align: right;\">\n",
              "      <th></th>\n",
              "      <th>frequency</th>\n",
              "    </tr>\n",
              "  </thead>\n",
              "  <tbody>\n",
              "    <tr>\n",
              "      <th>6</th>\n",
              "      <td>2</td>\n",
              "    </tr>\n",
              "    <tr>\n",
              "      <th>.</th>\n",
              "      <td>25</td>\n",
              "    </tr>\n",
              "    <tr>\n",
              "      <th>P</th>\n",
              "      <td>27</td>\n",
              "    </tr>\n",
              "    <tr>\n",
              "      <th>I</th>\n",
              "      <td>30</td>\n",
              "    </tr>\n",
              "    <tr>\n",
              "      <th>5</th>\n",
              "      <td>94</td>\n",
              "    </tr>\n",
              "    <tr>\n",
              "      <th>\\</th>\n",
              "      <td>1198</td>\n",
              "    </tr>\n",
              "    <tr>\n",
              "      <th>o</th>\n",
              "      <td>1795</td>\n",
              "    </tr>\n",
              "    <tr>\n",
              "      <th>s</th>\n",
              "      <td>2097</td>\n",
              "    </tr>\n",
              "    <tr>\n",
              "      <th>/</th>\n",
              "      <td>5044</td>\n",
              "    </tr>\n",
              "    <tr>\n",
              "      <th>+</th>\n",
              "      <td>5671</td>\n",
              "    </tr>\n",
              "  </tbody>\n",
              "</table>\n",
              "</div>\n",
              "      <button class=\"colab-df-convert\" onclick=\"convertToInteractive('df-2303ace9-4a8f-4de2-8db1-c0c60de503cb')\"\n",
              "              title=\"Convert this dataframe to an interactive table.\"\n",
              "              style=\"display:none;\">\n",
              "        \n",
              "  <svg xmlns=\"http://www.w3.org/2000/svg\" height=\"24px\"viewBox=\"0 0 24 24\"\n",
              "       width=\"24px\">\n",
              "    <path d=\"M0 0h24v24H0V0z\" fill=\"none\"/>\n",
              "    <path d=\"M18.56 5.44l.94 2.06.94-2.06 2.06-.94-2.06-.94-.94-2.06-.94 2.06-2.06.94zm-11 1L8.5 8.5l.94-2.06 2.06-.94-2.06-.94L8.5 2.5l-.94 2.06-2.06.94zm10 10l.94 2.06.94-2.06 2.06-.94-2.06-.94-.94-2.06-.94 2.06-2.06.94z\"/><path d=\"M17.41 7.96l-1.37-1.37c-.4-.4-.92-.59-1.43-.59-.52 0-1.04.2-1.43.59L10.3 9.45l-7.72 7.72c-.78.78-.78 2.05 0 2.83L4 21.41c.39.39.9.59 1.41.59.51 0 1.02-.2 1.41-.59l7.78-7.78 2.81-2.81c.8-.78.8-2.07 0-2.86zM5.41 20L4 18.59l7.72-7.72 1.47 1.35L5.41 20z\"/>\n",
              "  </svg>\n",
              "      </button>\n",
              "      \n",
              "  <style>\n",
              "    .colab-df-container {\n",
              "      display:flex;\n",
              "      flex-wrap:wrap;\n",
              "      gap: 12px;\n",
              "    }\n",
              "\n",
              "    .colab-df-convert {\n",
              "      background-color: #E8F0FE;\n",
              "      border: none;\n",
              "      border-radius: 50%;\n",
              "      cursor: pointer;\n",
              "      display: none;\n",
              "      fill: #1967D2;\n",
              "      height: 32px;\n",
              "      padding: 0 0 0 0;\n",
              "      width: 32px;\n",
              "    }\n",
              "\n",
              "    .colab-df-convert:hover {\n",
              "      background-color: #E2EBFA;\n",
              "      box-shadow: 0px 1px 2px rgba(60, 64, 67, 0.3), 0px 1px 3px 1px rgba(60, 64, 67, 0.15);\n",
              "      fill: #174EA6;\n",
              "    }\n",
              "\n",
              "    [theme=dark] .colab-df-convert {\n",
              "      background-color: #3B4455;\n",
              "      fill: #D2E3FC;\n",
              "    }\n",
              "\n",
              "    [theme=dark] .colab-df-convert:hover {\n",
              "      background-color: #434B5C;\n",
              "      box-shadow: 0px 1px 3px 1px rgba(0, 0, 0, 0.15);\n",
              "      filter: drop-shadow(0px 1px 2px rgba(0, 0, 0, 0.3));\n",
              "      fill: #FFFFFF;\n",
              "    }\n",
              "  </style>\n",
              "\n",
              "      <script>\n",
              "        const buttonEl =\n",
              "          document.querySelector('#df-2303ace9-4a8f-4de2-8db1-c0c60de503cb button.colab-df-convert');\n",
              "        buttonEl.style.display =\n",
              "          google.colab.kernel.accessAllowed ? 'block' : 'none';\n",
              "\n",
              "        async function convertToInteractive(key) {\n",
              "          const element = document.querySelector('#df-2303ace9-4a8f-4de2-8db1-c0c60de503cb');\n",
              "          const dataTable =\n",
              "            await google.colab.kernel.invokeFunction('convertToInteractive',\n",
              "                                                     [key], {});\n",
              "          if (!dataTable) return;\n",
              "\n",
              "          const docLinkHtml = 'Like what you see? Visit the ' +\n",
              "            '<a target=\"_blank\" href=https://colab.research.google.com/notebooks/data_table.ipynb>data table notebook</a>'\n",
              "            + ' to learn more about interactive tables.';\n",
              "          element.innerHTML = '';\n",
              "          dataTable['output_type'] = 'display_data';\n",
              "          await google.colab.output.renderOutput(dataTable, element);\n",
              "          const docLink = document.createElement('div');\n",
              "          docLink.innerHTML = docLinkHtml;\n",
              "          element.appendChild(docLink);\n",
              "        }\n",
              "      </script>\n",
              "    </div>\n",
              "  </div>\n",
              "  "
            ]
          },
          "metadata": {},
          "execution_count": 7
        }
      ]
    },
    {
      "cell_type": "code",
      "source": [
        "plt.rcParams[\"figure.figsize\"] = (15, 7)\n",
        "plt.bar(freqs_df.index, freqs_df.frequency)\n",
        "plt.show()"
      ],
      "metadata": {
        "colab": {
          "base_uri": "https://localhost:8080/",
          "height": 428
        },
        "id": "CN6Qtoi68ULa",
        "outputId": "fa97cb73-bbc6-480f-cdf7-17f2647c5d88"
      },
      "execution_count": 8,
      "outputs": [
        {
          "output_type": "display_data",
          "data": {
            "text/plain": [
              "<Figure size 1080x504 with 1 Axes>"
            ],
            "image/png": "[encoded data removed]"
          },
          "metadata": {
            "needs_background": "light"
          }
        }
      ]
    },
    {
      "cell_type": "markdown",
      "source": [
        "### SMILES vectorization\n",
        "Now we can begin vectorization procedure."
      ],
      "metadata": {
        "id": "jOAcO80ER_QS"
      }
    },
    {
      "cell_type": "code",
      "execution_count": 9,
      "outputs": [],
      "source": [
        "def vectorize(smiles):\n",
        "    one_hot = np.zeros((smiles.shape[0], embed, len(charset)), dtype=np.int8)\n",
        "    for i, (smile,) in enumerate(smiles):\n",
        "        one_hot[i, 0, char_to_int[\"!\"]] = 1\n",
        "        for j, c in enumerate(smile):\n",
        "            one_hot[i, j + 1, char_to_int[c]] = 1\n",
        "        one_hot[i, len(smile) + 1:, char_to_int[\"E\"]] = 1\n",
        "    return one_hot[:, 0:-1, :], one_hot[:, 1:, :]"
      ],
      "metadata": {
        "pycharm": {
          "name": "#%%\n"
        },
        "id": "MFCYodFQ9bRl"
      }
    },
    {
      "cell_type": "code",
      "execution_count": 10,
      "outputs": [
        {
          "output_type": "stream",
          "name": "stdout",
          "text": [
            "smiles    CC[C@@](C)(OC(C)=O)[C@H]1C(CN2CCOCC2)=NNN1CCc1...\n",
            "Name: 59679, dtype: object\n"
          ]
        },
        {
          "output_type": "execute_result",
          "data": {
            "text/plain": [
              "<matplotlib.image.AxesImage at 0x7f7d6c415ad0>"
            ]
          },
          "metadata": {},
          "execution_count": 10
        },
        {
          "output_type": "display_data",
          "data": {
            "text/plain": [
              "<Figure size 1152x392.17 with 1 Axes>"
            ],
            "image/png": "[encoded data removed]"
          },
          "metadata": {
            "needs_background": "light"
          }
        }
      ],
      "source": [
        "X_train, Y_train = vectorize(smiles_train.values)\n",
        "X_test, Y_test = vectorize(smiles_test.values)\n",
        "print(smiles_train.iloc[0])\n",
        "plt.matshow(X_train[0].T)"
      ],
      "metadata": {
        "pycharm": {
          "name": "#%%\n"
        },
        "colab": {
          "base_uri": "https://localhost:8080/",
          "height": 409
        },
        "id": "YB3YngJC9bRm",
        "outputId": "50c97c00-7da4-4628-b63a-8903b8c4e133"
      }
    },
    {
      "cell_type": "markdown",
      "source": [
        "## Model definition and training"
      ],
      "metadata": {
        "id": "aKzezrHS8nee"
      }
    },
    {
      "cell_type": "code",
      "execution_count": 28,
      "outputs": [],
      "source": [
        "input_shape = X_train.shape[1:]\n",
        "output_dim = Y_train.shape[-1]\n",
        "latent_dim = 128\n",
        "lstm_dim = 128\n",
        "\n",
        "unroll = False\n",
        "encoder_inputs = Input(shape=input_shape, name='Smiles_input_1')\n",
        "\n",
        "lstm_1 = LSTM(lstm_dim, return_state=True, return_sequences=True,\n",
        "               unroll=unroll, name='Encoder_lstm')\n",
        "lstm_2 = LSTM(lstm_dim, return_state=True,\n",
        "               unroll=unroll, name='Encoder_lstm')\n",
        "\n",
        "encoder_outputs, state_h, state_c = lstm_1(encoder_inputs)\n",
        "encoder_outputs, state_h, state_c = lstm_2(encoder_inputs)\n",
        "\n",
        "states = Concatenate(axis=-1, name='States_concat')([state_h, state_c])\n",
        "neck = Dense(latent_dim, activation=\"relu\", name='Encoder_neck')\n",
        "neck_outputs = neck(states)\n",
        "\n",
        "free_energy_inputs = Input(shape=(1,), name='Energy_input')\n",
        "concatenate = Concatenate(axis=-1, name='Energy_concat')\n",
        "energy_concat = concatenate([neck_outputs, free_energy_inputs])\n",
        "\n",
        "decode_h = Dense(lstm_dim, name='State_h_decoder', activation=\"relu\")\n",
        "decode_c = Dense(lstm_dim, name='State_c_decoder', activation=\"relu\")\n",
        "state_h_decoded = decode_h(energy_concat)\n",
        "state_c_decoded = decode_c(energy_concat)\n",
        "\n",
        "batch_norm_h = BatchNormalization(name='State_h_BN')(state_h_decoded)\n",
        "batch_norm_c = BatchNormalization(name='State_c_BN')(state_c_decoded)\n",
        "\n",
        "encoder_states = [batch_norm_h, batch_norm_c]\n",
        "decoder_inputs = Input(shape=input_shape, name='Smiles_input_2')\n",
        "\n",
        "\n",
        "decoder_lstm = LSTM(lstm_dim,\n",
        "                    return_sequences=True,\n",
        "                    unroll=unroll,\n",
        "                    name='Decoder_lstm'\n",
        "                    )\n",
        "decoder_outputs = decoder_lstm(decoder_inputs, initial_state=encoder_states)\n",
        "decoder_dense = Dense(output_dim, activation='softmax', name='Decoder_output')\n",
        "decoder_outputs = decoder_dense(decoder_outputs)"
      ],
      "metadata": {
        "pycharm": {
          "name": "#%%\n"
        },
        "id": "NYK7ai3L9bRn"
      }
    },
    {
      "cell_type": "code",
      "source": [
        "state_c.shape"
      ],
      "metadata": {
        "id": "oQ7e4VVh3mQc",
        "outputId": "9f648497-c301-48c6-951f-8d57caccb47f",
        "colab": {
          "base_uri": "https://localhost:8080/"
        }
      },
      "execution_count": 22,
      "outputs": [
        {
          "output_type": "execute_result",
          "data": {
            "text/plain": [
              "TensorShape([None, 64])"
            ]
          },
          "metadata": {},
          "execution_count": 22
        }
      ]
    },
    {
      "cell_type": "code",
      "source": [
        "model = Model([encoder_inputs, decoder_inputs, free_energy_inputs], decoder_outputs, name='Lstm_autoencoder')\n",
        "plot_model(model, to_file='model.png', show_layer_activations=True)\n",
        "print(model.summary())"
      ],
      "metadata": {
        "colab": {
          "base_uri": "https://localhost:8080/"
        },
        "id": "WCY05NxqGM5d",
        "outputId": "f09739a8-5701-4a8a-b3ca-f0338bf35a5e"
      },
      "execution_count": 29,
      "outputs": [
        {
          "output_type": "stream",
          "name": "stdout",
          "text": [
            "Model: \"Lstm_autoencoder\"\n",
            "__________________________________________________________________________________________________\n",
            " Layer (type)                   Output Shape         Param #     Connected to                     \n",
            "==================================================================================================\n",
            " Smiles_input_1 (InputLayer)    [(None, 94, 32)]     0           []                               \n",
            "                                                                                                  \n",
            " Encoder_lstm (LSTM)            [(None, 128),        82432       ['Smiles_input_1[0][0]']         \n",
            "                                 (None, 128),                                                     \n",
            "                                 (None, 128)]                                                     \n",
            "                                                                                                  \n",
            " States_concat (Concatenate)    (None, 256)          0           ['Encoder_lstm[0][1]',           \n",
            "                                                                  'Encoder_lstm[0][2]']           \n",
            "                                                                                                  \n",
            " Encoder_neck (Dense)           (None, 128)          32896       ['States_concat[0][0]']          \n",
            "                                                                                                  \n",
            " Energy_input (InputLayer)      [(None, 1)]          0           []                               \n",
            "                                                                                                  \n",
            " Energy_concat (Concatenate)    (None, 129)          0           ['Encoder_neck[0][0]',           \n",
            "                                                                  'Energy_input[0][0]']           \n",
            "                                                                                                  \n",
            " State_h_decoder (Dense)        (None, 128)          16640       ['Energy_concat[0][0]']          \n",
            "                                                                                                  \n",
            " State_c_decoder (Dense)        (None, 128)          16640       ['Energy_concat[0][0]']          \n",
            "                                                                                                  \n",
            " Smiles_input_2 (InputLayer)    [(None, 94, 32)]     0           []                               \n",
            "                                                                                                  \n",
            " State_h_BN (BatchNormalization  (None, 128)         512         ['State_h_decoder[0][0]']        \n",
            " )                                                                                                \n",
            "                                                                                                  \n",
            " State_c_BN (BatchNormalization  (None, 128)         512         ['State_c_decoder[0][0]']        \n",
            " )                                                                                                \n",
            "                                                                                                  \n",
            " Decoder_lstm (LSTM)            (None, 94, 128)      82432       ['Smiles_input_2[0][0]',         \n",
            "                                                                  'State_h_BN[0][0]',             \n",
            "                                                                  'State_c_BN[0][0]']             \n",
            "                                                                                                  \n",
            " Decoder_output (Dense)         (None, 94, 32)       4128        ['Decoder_lstm[0][0]']           \n",
            "                                                                                                  \n",
            "==================================================================================================\n",
            "Total params: 236,192\n",
            "Trainable params: 235,680\n",
            "Non-trainable params: 512\n",
            "__________________________________________________________________________________________________\n",
            "None\n"
          ]
        }
      ]
    },
    {
      "cell_type": "code",
      "execution_count": 30,
      "outputs": [],
      "source": [
        "from keras.callbacks import History, ReduceLROnPlateau\n",
        "h = History()\n",
        "rlr = ReduceLROnPlateau(monitor='val_loss', factor=0.5, patience=10, min_lr=0.000001, verbose=1, min_delta=1e-5)\n",
        "\n",
        "opt = Adam(learning_rate=0.005)\n",
        "model.compile(optimizer=opt, loss='categorical_crossentropy')"
      ],
      "metadata": {
        "pycharm": {
          "name": "#%%\n"
        },
        "id": "JTYpIgFN9bRp"
      }
    },
    {
      "cell_type": "code",
      "execution_count": 31,
      "outputs": [
        {
          "output_type": "stream",
          "name": "stdout",
          "text": [
            "Epoch 1/50\n",
            "266/266 [==============================] - 11s 24ms/step - loss: 0.7755 - val_loss: 0.4783 - lr: 0.0050\n",
            "Epoch 2/50\n",
            "266/266 [==============================] - 6s 21ms/step - loss: 0.2897 - val_loss: 0.9444 - lr: 0.0050\n",
            "Epoch 3/50\n",
            "266/266 [==============================] - 6s 21ms/step - loss: 0.2410 - val_loss: 0.9506 - lr: 0.0050\n",
            "Epoch 4/50\n",
            "266/266 [==============================] - 6s 21ms/step - loss: 0.1687 - val_loss: 0.6946 - lr: 0.0050\n",
            "Epoch 5/50\n",
            "266/266 [==============================] - 6s 21ms/step - loss: 0.1467 - val_loss: 0.8569 - lr: 0.0050\n",
            "Epoch 6/50\n",
            "266/266 [==============================] - 6s 21ms/step - loss: 0.1316 - val_loss: 0.6132 - lr: 0.0050\n",
            "Epoch 7/50\n",
            "266/266 [==============================] - 6s 21ms/step - loss: 0.1171 - val_loss: 0.9572 - lr: 0.0050\n",
            "Epoch 8/50\n",
            "266/266 [==============================] - 6s 21ms/step - loss: 0.1071 - val_loss: 0.6243 - lr: 0.0050\n",
            "Epoch 9/50\n",
            "266/266 [==============================] - 6s 21ms/step - loss: 0.0968 - val_loss: 1.0314 - lr: 0.0050\n",
            "Epoch 10/50\n",
            "266/266 [==============================] - 6s 21ms/step - loss: 0.1029 - val_loss: 1.2563 - lr: 0.0050\n",
            "Epoch 11/50\n",
            "265/266 [============================>.] - ETA: 0s - loss: 0.0870\n",
            "Epoch 11: ReduceLROnPlateau reducing learning rate to 0.0024999999441206455.\n",
            "266/266 [==============================] - 6s 21ms/step - loss: 0.0870 - val_loss: 0.8289 - lr: 0.0050\n",
            "Epoch 12/50\n",
            "266/266 [==============================] - 6s 21ms/step - loss: 0.0747 - val_loss: 0.5446 - lr: 0.0025\n",
            "Epoch 13/50\n",
            "266/266 [==============================] - 6s 21ms/step - loss: 0.0701 - val_loss: 0.3557 - lr: 0.0025\n",
            "Epoch 14/50\n",
            "266/266 [==============================] - 6s 21ms/step - loss: 0.0634 - val_loss: 0.4150 - lr: 0.0025\n",
            "Epoch 15/50\n",
            "266/266 [==============================] - 6s 21ms/step - loss: 0.0612 - val_loss: 1.2369 - lr: 0.0025\n",
            "Epoch 16/50\n",
            "266/266 [==============================] - 6s 21ms/step - loss: 0.0613 - val_loss: 1.2060 - lr: 0.0025\n",
            "Epoch 17/50\n",
            "266/266 [==============================] - 6s 21ms/step - loss: 0.0620 - val_loss: 0.7476 - lr: 0.0025\n",
            "Epoch 18/50\n",
            "266/266 [==============================] - 6s 21ms/step - loss: 0.0585 - val_loss: 0.6478 - lr: 0.0025\n",
            "Epoch 19/50\n",
            "266/266 [==============================] - 6s 23ms/step - loss: 0.0664 - val_loss: 1.0638 - lr: 0.0025\n",
            "Epoch 20/50\n",
            "266/266 [==============================] - 6s 21ms/step - loss: 0.0700 - val_loss: 0.6041 - lr: 0.0025\n",
            "Epoch 21/50\n",
            "266/266 [==============================] - 6s 21ms/step - loss: 0.0551 - val_loss: 0.5654 - lr: 0.0025\n",
            "Epoch 22/50\n",
            "266/266 [==============================] - 6s 21ms/step - loss: 0.0542 - val_loss: 0.2858 - lr: 0.0025\n",
            "Epoch 23/50\n",
            "266/266 [==============================] - 6s 22ms/step - loss: 0.0470 - val_loss: 0.7272 - lr: 0.0025\n",
            "Epoch 24/50\n",
            "266/266 [==============================] - 6s 23ms/step - loss: 0.0556 - val_loss: 0.5208 - lr: 0.0025\n",
            "Epoch 25/50\n",
            "266/266 [==============================] - 6s 21ms/step - loss: 0.0516 - val_loss: 0.5242 - lr: 0.0025\n",
            "Epoch 26/50\n",
            "266/266 [==============================] - 6s 21ms/step - loss: 0.0478 - val_loss: 0.4840 - lr: 0.0025\n",
            "Epoch 27/50\n",
            "266/266 [==============================] - 6s 21ms/step - loss: 0.0459 - val_loss: 0.4722 - lr: 0.0025\n",
            "Epoch 28/50\n",
            "266/266 [==============================] - 6s 21ms/step - loss: 0.0446 - val_loss: 0.3569 - lr: 0.0025\n",
            "Epoch 29/50\n",
            "266/266 [==============================] - 6s 21ms/step - loss: 0.0502 - val_loss: 0.7352 - lr: 0.0025\n",
            "Epoch 30/50\n",
            "266/266 [==============================] - 6s 21ms/step - loss: 0.0485 - val_loss: 0.5212 - lr: 0.0025\n",
            "Epoch 31/50\n",
            "266/266 [==============================] - 6s 21ms/step - loss: 0.0432 - val_loss: 0.4658 - lr: 0.0025\n",
            "Epoch 32/50\n",
            "264/266 [============================>.] - ETA: 0s - loss: 0.0396\n",
            "Epoch 32: ReduceLROnPlateau reducing learning rate to 0.0012499999720603228.\n",
            "266/266 [==============================] - 6s 21ms/step - loss: 0.0396 - val_loss: 0.7284 - lr: 0.0025\n",
            "Epoch 33/50\n",
            "266/266 [==============================] - 6s 21ms/step - loss: 0.0384 - val_loss: 0.8055 - lr: 0.0012\n",
            "Epoch 34/50\n",
            "266/266 [==============================] - 6s 21ms/step - loss: 0.0415 - val_loss: 0.1852 - lr: 0.0012\n",
            "Epoch 35/50\n",
            "266/266 [==============================] - 6s 21ms/step - loss: 0.0357 - val_loss: 0.2944 - lr: 0.0012\n",
            "Epoch 36/50\n",
            "266/266 [==============================] - 6s 21ms/step - loss: 0.0320 - val_loss: 0.1339 - lr: 0.0012\n",
            "Epoch 37/50\n",
            "266/266 [==============================] - 6s 21ms/step - loss: 0.0350 - val_loss: 0.2215 - lr: 0.0012\n",
            "Epoch 38/50\n",
            "266/266 [==============================] - 6s 21ms/step - loss: 0.0321 - val_loss: 0.3878 - lr: 0.0012\n",
            "Epoch 39/50\n",
            "266/266 [==============================] - 6s 21ms/step - loss: 0.0314 - val_loss: 0.0800 - lr: 0.0012\n",
            "Epoch 40/50\n",
            "266/266 [==============================] - 6s 21ms/step - loss: 0.0284 - val_loss: 0.2214 - lr: 0.0012\n",
            "Epoch 41/50\n",
            "266/266 [==============================] - 6s 21ms/step - loss: 0.0315 - val_loss: 0.2559 - lr: 0.0012\n",
            "Epoch 42/50\n",
            "266/266 [==============================] - 6s 21ms/step - loss: 0.0308 - val_loss: 0.2009 - lr: 0.0012\n",
            "Epoch 43/50\n",
            "266/266 [==============================] - 6s 22ms/step - loss: 0.0279 - val_loss: 0.0877 - lr: 0.0012\n",
            "Epoch 44/50\n",
            "266/266 [==============================] - 6s 21ms/step - loss: 0.0367 - val_loss: 0.1621 - lr: 0.0012\n",
            "Epoch 45/50\n",
            "266/266 [==============================] - 6s 22ms/step - loss: 0.0302 - val_loss: 0.1864 - lr: 0.0012\n",
            "Epoch 46/50\n",
            "266/266 [==============================] - 6s 21ms/step - loss: 0.0272 - val_loss: 0.1965 - lr: 0.0012\n",
            "Epoch 47/50\n",
            "266/266 [==============================] - 6s 21ms/step - loss: 0.0303 - val_loss: 0.3693 - lr: 0.0012\n",
            "Epoch 48/50\n",
            "266/266 [==============================] - 6s 21ms/step - loss: 0.0322 - val_loss: 0.3017 - lr: 0.0012\n",
            "Epoch 49/50\n",
            "264/266 [============================>.] - ETA: 0s - loss: 0.0299\n",
            "Epoch 49: ReduceLROnPlateau reducing learning rate to 0.0006249999860301614.\n",
            "266/266 [==============================] - 6s 21ms/step - loss: 0.0299 - val_loss: 0.3549 - lr: 0.0012\n",
            "Epoch 50/50\n",
            "266/266 [==============================] - 6s 21ms/step - loss: 0.0269 - val_loss: 0.1569 - lr: 6.2500e-04\n"
          ]
        },
        {
          "output_type": "execute_result",
          "data": {
            "text/plain": [
              "<keras.callbacks.History at 0x7f7ce9063d90>"
            ]
          },
          "metadata": {},
          "execution_count": 31
        }
      ],
      "source": [
        "model.fit([X_train, X_train, energy_train], Y_train,\n",
        "                    epochs=50,\n",
        "                    batch_size=256,\n",
        "                    shuffle=True,\n",
        "                    callbacks=[h, rlr],\n",
        "                    validation_data=([X_test, X_test, energy_test], Y_test))"
      ],
      "metadata": {
        "pycharm": {
          "name": "#%%\n"
        },
        "id": "4yJbmbRn9bRq",
        "outputId": "737c9178-b299-4a6d-d726-844364ddb060",
        "colab": {
          "base_uri": "https://localhost:8080/"
        }
      }
    },
    {
      "cell_type": "code",
      "execution_count": 18,
      "outputs": [],
      "source": [
        "import pickle\n",
        "with open(\"Blog_history.pickle\", \"wb\") as f:\n",
        "    pickle.dump(h.history, f)"
      ],
      "metadata": {
        "pycharm": {
          "name": "#%%\n"
        },
        "id": "fZVb3vtV9bRr"
      }
    },
    {
      "cell_type": "code",
      "execution_count": 32,
      "outputs": [
        {
          "output_type": "execute_result",
          "data": {
            "text/plain": [
              "<matplotlib.legend.Legend at 0x7f7ce8581890>"
            ]
          },
          "metadata": {},
          "execution_count": 32
        },
        {
          "output_type": "display_data",
          "data": {
            "text/plain": [
              "<Figure size 1080x504 with 1 Axes>"
            ],
            "image/png": "[encoded data removed]"
          },
          "metadata": {
            "needs_background": "light"
          }
        }
      ],
      "source": [
        "plt.plot(h.history[\"loss\"], label=\"Loss\")\n",
        "plt.plot(h.history[\"val_loss\"], label=\"Val_Loss\")\n",
        "plt.yscale(\"log\")\n",
        "plt.legend()"
      ],
      "metadata": {
        "pycharm": {
          "name": "#%%\n"
        },
        "colab": {
          "base_uri": "https://localhost:8080/",
          "height": 446
        },
        "id": "2MmLLOOg9bRs",
        "outputId": "59633e11-c9a9-4642-d91c-781525bdea2e"
      }
    },
    {
      "cell_type": "code",
      "source": [
        "plt.plot(h.history[\"loss\"], label=\"Loss\")\n",
        "plt.plot(h.history[\"val_loss\"], label=\"Val_Loss\")\n",
        "plt.yscale(\"log\")\n",
        "plt.legend()"
      ],
      "metadata": {
        "id": "LAbCOMn04ro_",
        "outputId": "4ec37836-c0e0-477c-e5ce-82b2023fa37c",
        "colab": {
          "base_uri": "https://localhost:8080/",
          "height": 446
        }
      },
      "execution_count": 27,
      "outputs": [
        {
          "output_type": "execute_result",
          "data": {
            "text/plain": [
              "<matplotlib.legend.Legend at 0x7f7d8199a790>"
            ]
          },
          "metadata": {},
          "execution_count": 27
        },
        {
          "output_type": "display_data",
          "data": {
            "text/plain": [
              "<Figure size 1080x504 with 1 Axes>"
            ],
            "image/png": "[encoded data removed]"
          },
          "metadata": {
            "needs_background": "light"
          }
        }
      ]
    },
    {
      "cell_type": "markdown",
      "source": [
        "## Split autoencoder into 2 models"
      ],
      "metadata": {
        "id": "NnPhik6S87I_"
      }
    },
    {
      "cell_type": "code",
      "execution_count": null,
      "outputs": [],
      "source": [
        "smiles_to_latent_model = Model(encoder_inputs, neck_outputs)\n",
        "smiles_to_latent_model.save(\"Blog_simple_smi2lat.h5\")"
      ],
      "metadata": {
        "pycharm": {
          "name": "#%%\n"
        },
        "id": "8jnhdSx_9bRs"
      }
    },
    {
      "cell_type": "code",
      "source": [
        "latent_input = Input(shape=(latent_dim,))\n",
        "energy_input = Input(shape=(1,))\n",
        "\n",
        "energy_concat_2 = concatenate([latent_input, energy_input])\n",
        "\n",
        "state_h_decoded_2 = decode_h(energy_concat_2)\n",
        "state_c_decoded_2 = decode_c(energy_concat_2)\n",
        "\n",
        "latent_to_states_model = Model([latent_input, energy_input], \n",
        "                               [state_h_decoded_2, state_c_decoded_2])\n",
        "latent_to_states_model.save(\"Blog_simple_lat2state.h5\")\n",
        "latent_to_states_model.summary()"
      ],
      "metadata": {
        "id": "sCjvxQedD8vH",
        "colab": {
          "base_uri": "https://localhost:8080/"
        },
        "outputId": "188fd82b-b1b4-417a-dc34-19a2e8a2b22a"
      },
      "execution_count": null,
      "outputs": [
        {
          "output_type": "stream",
          "name": "stdout",
          "text": [
            "WARNING:tensorflow:Compiled the loaded model, but the compiled metrics have yet to be built. `model.compile_metrics` will be empty until you train or evaluate the model.\n"
          ]
        },
        {
          "output_type": "stream",
          "name": "stderr",
          "text": [
            "2022-04-05 17:55:20.947 WARNING tensorflow: Compiled the loaded model, but the compiled metrics have yet to be built. `model.compile_metrics` will be empty until you train or evaluate the model.\n"
          ]
        },
        {
          "output_type": "stream",
          "name": "stdout",
          "text": [
            "Model: \"model_24\"\n",
            "__________________________________________________________________________________________________\n",
            " Layer (type)                   Output Shape         Param #     Connected to                     \n",
            "==================================================================================================\n",
            " input_38 (InputLayer)          [(None, 64)]         0           []                               \n",
            "                                                                                                  \n",
            " input_39 (InputLayer)          [(None, 1)]          0           []                               \n",
            "                                                                                                  \n",
            " Energy_concat (Concatenate)    (None, 65)           0           ['input_38[0][0]',               \n",
            "                                                                  'input_39[0][0]']               \n",
            "                                                                                                  \n",
            " State_h_decoder (Dense)        (None, 64)           4224        ['Energy_concat[1][0]']          \n",
            "                                                                                                  \n",
            " State_c_decoder (Dense)        (None, 64)           4224        ['Energy_concat[1][0]']          \n",
            "                                                                                                  \n",
            "==================================================================================================\n",
            "Total params: 8,448\n",
            "Trainable params: 8,448\n",
            "Non-trainable params: 0\n",
            "__________________________________________________________________________________________________\n"
          ]
        }
      ]
    },
    {
      "cell_type": "code",
      "source": [
        "inf_decoder_inputs = Input(batch_shape=(1, 1, input_shape[1]))\n",
        "\n",
        "inf_decoder_lstm = LSTM(lstm_dim,\n",
        "                    return_sequences=True,\n",
        "                    unroll=unroll,\n",
        "                    stateful=True\n",
        "                   )\n",
        "inf_decoder_outputs = inf_decoder_lstm(inf_decoder_inputs)\n",
        "inf_decoder_dense = Dense(output_dim, activation='softmax')\n",
        "inf_decoder_outputs = inf_decoder_dense(inf_decoder_outputs)\n",
        "sample_model = Model(inf_decoder_inputs, inf_decoder_outputs)"
      ],
      "metadata": {
        "id": "YgHP2EuKEC-_"
      },
      "execution_count": null,
      "outputs": []
    },
    {
      "cell_type": "code",
      "source": [
        "sample_model.layers[1].set_weights(model.layers[-2].get_weights())\n",
        "sample_model.layers[2].set_weights(model.layers[-1].get_weights())\n",
        "sample_model.save(\"Blog_simple_samplemodel.h5\")\n",
        "\n",
        "sample_model.summary()"
      ],
      "metadata": {
        "id": "-puMWe2MEFoh",
        "colab": {
          "base_uri": "https://localhost:8080/"
        },
        "outputId": "d13503a9-16a9-4546-8a07-4863b50d9add"
      },
      "execution_count": null,
      "outputs": [
        {
          "output_type": "stream",
          "name": "stdout",
          "text": [
            "WARNING:tensorflow:Compiled the loaded model, but the compiled metrics have yet to be built. `model.compile_metrics` will be empty until you train or evaluate the model.\n"
          ]
        },
        {
          "output_type": "stream",
          "name": "stderr",
          "text": [
            "2022-04-05 17:55:26.024 WARNING tensorflow: Compiled the loaded model, but the compiled metrics have yet to be built. `model.compile_metrics` will be empty until you train or evaluate the model.\n"
          ]
        },
        {
          "output_type": "stream",
          "name": "stdout",
          "text": [
            "Model: \"model_25\"\n",
            "_________________________________________________________________\n",
            " Layer (type)                Output Shape              Param #   \n",
            "=================================================================\n",
            " input_40 (InputLayer)       [(1, 1, 22)]              0         \n",
            "                                                                 \n",
            " lstm_26 (LSTM)              (1, 1, 64)                22272     \n",
            "                                                                 \n",
            " dense_40 (Dense)            (1, 1, 22)                1430      \n",
            "                                                                 \n",
            "=================================================================\n",
            "Total params: 23,702\n",
            "Trainable params: 23,702\n",
            "Non-trainable params: 0\n",
            "_________________________________________________________________\n"
          ]
        }
      ]
    },
    {
      "cell_type": "markdown",
      "source": [
        "## New compounds generation"
      ],
      "metadata": {
        "id": "UIHyudwF9_bL"
      }
    },
    {
      "cell_type": "code",
      "source": [
        "x_latent = smilesmodel_to_latent_model.predict(X_test)\n",
        "free_energy_value = -8\n",
        "free_energy = np.array([free_energy_value])"
      ],
      "metadata": {
        "id": "i-lBQT2kD0lh"
      },
      "execution_count": null,
      "outputs": []
    },
    {
      "cell_type": "code",
      "source": [
        "def latent_to_smiles(latent, free_energy):\n",
        "    states = latent_to_states_model.predict([latent, free_energy])\n",
        "    sample_model.layers[1].reset_states(states=[states[0], states[1]])\n",
        "    # добавление стартового символа\n",
        "    startidx = char_to_int[\"!\"]\n",
        "    samplevec = np.zeros((1, 1, len(charset)))\n",
        "    samplevec[0,0,startidx] = 1\n",
        "    smiles = \"\"\n",
        "    # предсказание следующего символа\n",
        "    for i in range(embed):\n",
        "        o = sample_model.predict(samplevec)\n",
        "        sampleidx = np.argmax(o)\n",
        "        samplechar = int_to_char[sampleidx]\n",
        "        if samplechar != \"E\":\n",
        "            smiles = smiles + int_to_char[sampleidx]\n",
        "            samplevec = np.zeros((1, 1, len(charset)))\n",
        "            samplevec[0,0,sampleidx] = 1\n",
        "        else:\n",
        "            break\n",
        "    return smiles"
      ],
      "metadata": {
        "id": "d5b7JmsmDXzk"
      },
      "execution_count": null,
      "outputs": []
    },
    {
      "cell_type": "code",
      "source": [
        "smiles = latent_to_smiles(x_latent[10:11], free_energy)\n",
        "print(smiles)\n",
        "print(smiles_test.iloc[10])"
      ],
      "metadata": {
        "colab": {
          "base_uri": "https://localhost:8080/"
        },
        "id": "-QMUdFmXDc8J",
        "outputId": "3837b26b-3af4-441c-c2de-6cd478417843"
      },
      "execution_count": null,
      "outputs": [
        {
          "output_type": "stream",
          "name": "stdout",
          "text": [
            "NN1C(=N)CCC1=N\n",
            "NN1C(=N)CCC1=N\n"
          ]
        }
      ]
    },
    {
      "cell_type": "code",
      "source": [
        "# генерация соединения из latent space с добавлением шума\n",
        "latent = x_latent[0:1]\n",
        "scale = 0.30\n",
        "mols = []\n",
        "for i in range(20):\n",
        "    latent_r = latent + scale*(np.random.randn(latent.shape[1]))\n",
        "    smiles = latent_to_smiles(latent_r, free_energy)\n",
        "    mol = Chem.MolFromSmiles(smiles)\n",
        "    if mol:\n",
        "        mols.append(mol)\n",
        "    else:\n",
        "        print(smiles)\n",
        "\n",
        "Draw.MolsToGridImage(mols, molsPerRow=5)"
      ],
      "metadata": {
        "colab": {
          "base_uri": "https://localhost:8080/",
          "height": 871
        },
        "id": "3TEKWQNsFVd2",
        "outputId": "820b1b93-6877-46aa-b135-12e69a0a6ac2"
      },
      "execution_count": null,
      "outputs": [
        {
          "output_type": "stream",
          "name": "stdout",
          "text": [
            "FC1CCO(CF)O1C\n",
            "FC1CC(O1F)C#N\n",
            "FC1C#NCC(F)=O1\n"
          ]
        },
        {
          "output_type": "execute_result",
          "data": {
            "text/plain": [
              "<PIL.PngImagePlugin.PngImageFile image mode=RGB size=1000x800 at 0x7F4BD3EE89D0>"
            ],
            "image/png": "[encoded data removed]"
          },
          "metadata": {},
          "execution_count": 176
        }
      ]
    },
    {
      "cell_type": "markdown",
      "source": [
        "## 3D molecule visualization"
      ],
      "metadata": {
        "id": "fDP2r-bs-Hfs"
      }
    },
    {
      "cell_type": "code",
      "source": [
        "import py3Dmol\n",
        "\n",
        "from rdkit import Chem\n",
        "from rdkit.Chem import AllChem\n",
        "\n",
        "def makeblock(smi):\n",
        "    mol = Chem.MolFromSmiles(smi)\n",
        "    mol = Chem.AddHs(mol)\n",
        "    AllChem.EmbedMolecule(mol)\n",
        "    mblock = Chem.MolToMolBlock(mol)\n",
        "    return mblock\n",
        "\n",
        "def render_mol(xyz):\n",
        "    xyzview = py3Dmol.view()\n",
        "    xyzview.addModel(xyz,'mol')\n",
        "    xyzview.setStyle({'stick':{}})\n",
        "    xyzview.setBackgroundColor('white')\n",
        "    xyzview.zoomTo()\n",
        "    xyzview.show()\n",
        "\n",
        "\n",
        "compound_smiles = smiles_train.iloc[0]\n",
        "blk = makeblock(compound_smiles)\n",
        "print(compound_smiles)\n",
        "render_mol(blk)"
      ],
      "metadata": {
        "colab": {
          "base_uri": "https://localhost:8080/",
          "height": 515
        },
        "id": "OrPKMSyBLktL",
        "outputId": "0aec1bab-342a-4dc6-f493-7f80b6c04de4"
      },
      "execution_count": null,
      "outputs": [
        {
          "output_type": "stream",
          "name": "stdout",
          "text": [
            "COc1nncn1O\n"
          ]
        },
        {
          "output_type": "display_data",
          "data": {
            "application/3dmoljs_load.v0": "<div id=\"3dmolviewer_16491838850711026\"  style=\"position: relative; width: 640px; height: 480px\">\n        <p id=\"3dmolwarning_16491838850711026\" style=\"background-color:#ffcccc;color:black\">You appear to be running in JupyterLab (or JavaScript failed to load for some other reason).  You need to install the 3dmol extension: <br>\n        <tt>jupyter labextension install jupyterlab_3dmol</tt></p>\n        </div>\n<script>\n\nvar loadScriptAsync = function(uri){\n  return new Promise((resolve, reject) => {\n    var tag = document.createElement('script');\n    tag.src = uri;\n    tag.async = true;\n    tag.onload = () => {\n      resolve();\n    };\n  var firstScriptTag = document.getElementsByTagName('script')[0];\n  firstScriptTag.parentNode.insertBefore(tag, firstScriptTag);\n});\n};\n\nif(typeof $3Dmolpromise === 'undefined') {\n$3Dmolpromise = null;\n  $3Dmolpromise = loadScriptAsync('https://3dmol.org/build/3Dmol.js');\n}\n\nvar viewer_16491838850711026 = null;\nvar warn = document.getElementById(\"3dmolwarning_16491838850711026\");\nif(warn) {\n    warn.parentNode.removeChild(warn);\n}\n$3Dmolpromise.then(function() {\nviewer_16491838850711026 = $3Dmol.createViewer($(\"#3dmolviewer_16491838850711026\"),{backgroundColor:\"white\"});\nviewer_16491838850711026.zoomTo();\n\tviewer_16491838850711026.addModel(\"\\n     RDKit          3D\\n\\n 13 13  0  0  0  0  0  0  0  0999 V2000\\n   -2.2837   -0.8263    0.0442 C   0  0  0  0  0  0  0  0  0  0  0  0\\n   -0.8972   -0.9247    0.2692 O   0  0  0  0  0  0  0  0  0  0  0  0\\n   -0.0250    0.1410    0.0020 C   0  0  0  0  0  0  0  0  0  0  0  0\\n   -0.3118    1.3643   -0.4806 N   0  0  0  0  0  0  0  0  0  0  0  0\\n    0.8226    2.0753   -0.5834 N   0  0  0  0  0  0  0  0  0  0  0  0\\n    1.8494    1.3117   -0.1664 C   0  0  0  0  0  0  0  0  0  0  0  0\\n    1.3047    0.1326    0.1866 N   0  0  0  0  0  0  0  0  0  0  0  0\\n    2.0056   -0.9466    0.6735 O   0  0  0  0  0  0  0  0  0  0  0  0\\n   -2.8048   -1.6172    0.6247 H   0  0  0  0  0  0  0  0  0  0  0  0\\n   -2.5562   -0.9122   -1.0335 H   0  0  0  0  0  0  0  0  0  0  0  0\\n   -2.6578    0.1383    0.4631 H   0  0  0  0  0  0  0  0  0  0  0  0\\n    2.9042    1.5532   -0.1099 H   0  0  0  0  0  0  0  0  0  0  0  0\\n    2.6499   -1.4892    0.1105 H   0  0  0  0  0  0  0  0  0  0  0  0\\n  1  2  1  0\\n  2  3  1  0\\n  3  4  2  0\\n  4  5  1  0\\n  5  6  2  0\\n  6  7  1  0\\n  7  8  1  0\\n  7  3  1  0\\n  1  9  1  0\\n  1 10  1  0\\n  1 11  1  0\\n  6 12  1  0\\n  8 13  1  0\\nM  END\\n\",\"mol\");\n\tviewer_16491838850711026.setStyle({\"stick\": {}});\n\tviewer_16491838850711026.setBackgroundColor(\"white\");\n\tviewer_16491838850711026.zoomTo();\nviewer_16491838850711026.render();\n});\n</script>",
            "text/html": [
              "<div id=\"3dmolviewer_16491838850711026\"  style=\"position: relative; width: 640px; height: 480px\">\n",
              "        <p id=\"3dmolwarning_16491838850711026\" style=\"background-color:#ffcccc;color:black\">You appear to be running in JupyterLab (or JavaScript failed to load for some other reason).  You need to install the 3dmol extension: <br>\n",
              "        <tt>jupyter labextension install jupyterlab_3dmol</tt></p>\n",
              "        </div>\n",
              "<script>\n",
              "\n",
              "var loadScriptAsync = function(uri){\n",
              "  return new Promise((resolve, reject) => {\n",
              "    var tag = document.createElement('script');\n",
              "    tag.src = uri;\n",
              "    tag.async = true;\n",
              "    tag.onload = () => {\n",
              "      resolve();\n",
              "    };\n",
              "  var firstScriptTag = document.getElementsByTagName('script')[0];\n",
              "  firstScriptTag.parentNode.insertBefore(tag, firstScriptTag);\n",
              "});\n",
              "};\n",
              "\n",
              "if(typeof $3Dmolpromise === 'undefined') {\n",
              "$3Dmolpromise = null;\n",
              "  $3Dmolpromise = loadScriptAsync('https://3dmol.org/build/3Dmol.js');\n",
              "}\n",
              "\n",
              "var viewer_16491838850711026 = null;\n",
              "var warn = document.getElementById(\"3dmolwarning_16491838850711026\");\n",
              "if(warn) {\n",
              "    warn.parentNode.removeChild(warn);\n",
              "}\n",
              "$3Dmolpromise.then(function() {\n",
              "viewer_16491838850711026 = $3Dmol.createViewer($(\"#3dmolviewer_16491838850711026\"),{backgroundColor:\"white\"});\n",
              "viewer_16491838850711026.zoomTo();\n",
              "\tviewer_16491838850711026.addModel(\"\\n     RDKit          3D\\n\\n 13 13  0  0  0  0  0  0  0  0999 V2000\\n   -2.2837   -0.8263    0.0442 C   0  0  0  0  0  0  0  0  0  0  0  0\\n   -0.8972   -0.9247    0.2692 O   0  0  0  0  0  0  0  0  0  0  0  0\\n   -0.0250    0.1410    0.0020 C   0  0  0  0  0  0  0  0  0  0  0  0\\n   -0.3118    1.3643   -0.4806 N   0  0  0  0  0  0  0  0  0  0  0  0\\n    0.8226    2.0753   -0.5834 N   0  0  0  0  0  0  0  0  0  0  0  0\\n    1.8494    1.3117   -0.1664 C   0  0  0  0  0  0  0  0  0  0  0  0\\n    1.3047    0.1326    0.1866 N   0  0  0  0  0  0  0  0  0  0  0  0\\n    2.0056   -0.9466    0.6735 O   0  0  0  0  0  0  0  0  0  0  0  0\\n   -2.8048   -1.6172    0.6247 H   0  0  0  0  0  0  0  0  0  0  0  0\\n   -2.5562   -0.9122   -1.0335 H   0  0  0  0  0  0  0  0  0  0  0  0\\n   -2.6578    0.1383    0.4631 H   0  0  0  0  0  0  0  0  0  0  0  0\\n    2.9042    1.5532   -0.1099 H   0  0  0  0  0  0  0  0  0  0  0  0\\n    2.6499   -1.4892    0.1105 H   0  0  0  0  0  0  0  0  0  0  0  0\\n  1  2  1  0\\n  2  3  1  0\\n  3  4  2  0\\n  4  5  1  0\\n  5  6  2  0\\n  6  7  1  0\\n  7  8  1  0\\n  7  3  1  0\\n  1  9  1  0\\n  1 10  1  0\\n  1 11  1  0\\n  6 12  1  0\\n  8 13  1  0\\nM  END\\n\",\"mol\");\n",
              "\tviewer_16491838850711026.setStyle({\"stick\": {}});\n",
              "\tviewer_16491838850711026.setBackgroundColor(\"white\");\n",
              "\tviewer_16491838850711026.zoomTo();\n",
              "viewer_16491838850711026.render();\n",
              "});\n",
              "</script>"
            ]
          },
          "metadata": {}
        }
      ]
    },
    {
      "cell_type": "code",
      "source": [
        "mol = AllChem.MolFromSmiles(compound_smiles)\n",
        "mol = Chem.AddHs(mol)\n",
        "Draw.MolToImage(mol)"
      ],
      "metadata": {
        "colab": {
          "base_uri": "https://localhost:8080/",
          "height": 317
        },
        "id": "LpCtmo1eROsU",
        "outputId": "724fe500-ba2a-48cc-abbb-cfe485451d93"
      },
      "execution_count": null,
      "outputs": [
        {
          "output_type": "execute_result",
          "data": {
            "text/plain": [
              "<PIL.PngImagePlugin.PngImageFile image mode=RGB size=300x300 at 0x7F4BD802F290>"
            ],
            "image/png": "[encoded data removed]"
          },
          "metadata": {},
          "execution_count": 76
        }
      ]
    }
  ],
  "metadata": {
    "kernelspec": {
      "display_name": "Python 3",
      "language": "python",
      "name": "python3"
    },
    "language_info": {
      "codemirror_mode": {
        "name": "ipython",
        "version": 2
      },
      "file_extension": ".py",
      "mimetype": "text/x-python",
      "name": "python",
      "nbconvert_exporter": "python",
      "pygments_lexer": "ipython2",
      "version": "2.7.6"
    },
    "colab": {
      "name": "lstm_net.ipynb",
      "provenance": [],
      "collapsed_sections": []
    },
    "accelerator": "GPU"
  },
  "nbformat": 4,
  "nbformat_minor": 0
}