{
  "cells": [
    {
      "cell_type": "markdown",
      "source": [
        "## Some imports"
      ],
      "metadata": {
        "id": "PajqXzD7-Syy"
      }
    },
    {
      "cell_type": "code",
      "source": [
        "from google.colab import drive\n",
        "\n",
        "!pip install rdkit-pypi\n",
        "!pip install py3Dmol\n",
        "drive.mount('/content/drive')"
      ],
      "metadata": {
        "id": "sWq2eoRc9lWJ",
        "colab": {
          "base_uri": "https://localhost:8080/"
        },
        "outputId": "9cacb7e7-33b5-4f63-fb4d-a07fe59eafc1"
      },
      "execution_count": null,
      "outputs": [
        {
          "output_type": "stream",
          "name": "stdout",
          "text": [
            "Requirement already satisfied: rdkit-pypi in /usr/local/lib/python3.7/dist-packages (2022.3.1)\n",
            "Requirement already satisfied: Pillow in /usr/local/lib/python3.7/dist-packages (from rdkit-pypi) (7.1.2)\n",
            "Requirement already satisfied: numpy>=1.19 in /usr/local/lib/python3.7/dist-packages (from rdkit-pypi) (1.21.5)\n",
            "Requirement already satisfied: py3Dmol in /usr/local/lib/python3.7/dist-packages (1.8.0)\n",
            "Drive already mounted at /content/drive; to attempt to forcibly remount, call drive.mount(\"/content/drive\", force_remount=True).\n"
          ]
        }
      ]
    },
    {
      "cell_type": "code",
      "execution_count": null,
      "metadata": {
        "collapsed": true,
        "pycharm": {
          "name": "#%%\n"
        },
        "id": "o1JsuEnM9bRb"
      },
      "outputs": [],
      "source": [
        "import os\n",
        "import pandas as pd\n",
        "import numpy as np\n",
        "from rdkit import Chem\n",
        "from rdkit.Chem import Draw, Descriptors\n",
        "from matplotlib import pyplot as plt\n",
        "\n",
        "from keras.models import Model\n",
        "from keras.layers import Input\n",
        "from keras.layers import LSTM\n",
        "from keras.layers import Dense\n",
        "from keras.layers import Concatenate\n",
        "from keras.layers import BatchNormalization\n",
        "from keras import regularizers\n",
        "from tensorflow.keras.utils import plot_model\n",
        "from tensorflow.keras.optimizers import Adam\n",
        "\n",
        "from sklearn.model_selection import train_test_split"
      ]
    },
    {
      "cell_type": "markdown",
      "source": [
        "## Data preprocessing\n",
        "Dataset contains drug-like compounds which can be potential inhibitors of GP120 - CD4 interaction. Compounds are stored in SMILES format. Also data contains binding free energy for molecules."
      ],
      "metadata": {
        "id": "ptoVzozSCM7m"
      }
    },
    {
      "cell_type": "code",
      "execution_count": null,
      "outputs": [
        {
          "output_type": "execute_result",
          "data": {
            "text/plain": [
              "   energy                                             smiles\n",
              "0    -8.1     Cc1ccc(C(=O)CN2NN=C(C3CC3)[C@@H]2c2ccccc2F)cc1\n",
              "1    -8.0  CCOC1=CC(=O)[C@@H](CC2=NNN(CC(=O)c3ccc(C)cc3)[...\n",
              "2    -7.7  Cc1ccc(C(=O)CN2NN=C(CNC(C)(C)CO)[C@H]2C(C)(C)C...\n",
              "3    -7.1  Cc1ccc(OC[C@H]2C(CN3CCOCC3)=NNN2CC(=O)c2ccc(C)...\n",
              "4    -6.8        Cc1ccc(C(=O)CN2NN=C(CCO)[C@@H]2C2(O)CC2)cc1"
            ],
            "text/html": [
              "\n",
              "  <div id=\"df-988b81fa-0652-4eb5-b41c-bc7f4f875397\">\n",
              "    <div class=\"colab-df-container\">\n",
              "      <div>\n",
              "<style scoped>\n",
              "    .dataframe tbody tr th:only-of-type {\n",
              "        vertical-align: middle;\n",
              "    }\n",
              "\n",
              "    .dataframe tbody tr th {\n",
              "        vertical-align: top;\n",
              "    }\n",
              "\n",
              "    .dataframe thead th {\n",
              "        text-align: right;\n",
              "    }\n",
              "</style>\n",
              "<table border=\"1\" class=\"dataframe\">\n",
              "  <thead>\n",
              "    <tr style=\"text-align: right;\">\n",
              "      <th></th>\n",
              "      <th>energy</th>\n",
              "      <th>smiles</th>\n",
              "    </tr>\n",
              "  </thead>\n",
              "  <tbody>\n",
              "    <tr>\n",
              "      <th>0</th>\n",
              "      <td>-8.1</td>\n",
              "      <td>Cc1ccc(C(=O)CN2NN=C(C3CC3)[C@@H]2c2ccccc2F)cc1</td>\n",
              "    </tr>\n",
              "    <tr>\n",
              "      <th>1</th>\n",
              "      <td>-8.0</td>\n",
              "      <td>CCOC1=CC(=O)[C@@H](CC2=NNN(CC(=O)c3ccc(C)cc3)[...</td>\n",
              "    </tr>\n",
              "    <tr>\n",
              "      <th>2</th>\n",
              "      <td>-7.7</td>\n",
              "      <td>Cc1ccc(C(=O)CN2NN=C(CNC(C)(C)CO)[C@H]2C(C)(C)C...</td>\n",
              "    </tr>\n",
              "    <tr>\n",
              "      <th>3</th>\n",
              "      <td>-7.1</td>\n",
              "      <td>Cc1ccc(OC[C@H]2C(CN3CCOCC3)=NNN2CC(=O)c2ccc(C)...</td>\n",
              "    </tr>\n",
              "    <tr>\n",
              "      <th>4</th>\n",
              "      <td>-6.8</td>\n",
              "      <td>Cc1ccc(C(=O)CN2NN=C(CCO)[C@@H]2C2(O)CC2)cc1</td>\n",
              "    </tr>\n",
              "  </tbody>\n",
              "</table>\n",
              "</div>\n",
              "      <button class=\"colab-df-convert\" onclick=\"convertToInteractive('df-988b81fa-0652-4eb5-b41c-bc7f4f875397')\"\n",
              "              title=\"Convert this dataframe to an interactive table.\"\n",
              "              style=\"display:none;\">\n",
              "        \n",
              "  <svg xmlns=\"http://www.w3.org/2000/svg\" height=\"24px\"viewBox=\"0 0 24 24\"\n",
              "       width=\"24px\">\n",
              "    <path d=\"M0 0h24v24H0V0z\" fill=\"none\"/>\n",
              "    <path d=\"M18.56 5.44l.94 2.06.94-2.06 2.06-.94-2.06-.94-.94-2.06-.94 2.06-2.06.94zm-11 1L8.5 8.5l.94-2.06 2.06-.94-2.06-.94L8.5 2.5l-.94 2.06-2.06.94zm10 10l.94 2.06.94-2.06 2.06-.94-2.06-.94-.94-2.06-.94 2.06-2.06.94z\"/><path d=\"M17.41 7.96l-1.37-1.37c-.4-.4-.92-.59-1.43-.59-.52 0-1.04.2-1.43.59L10.3 9.45l-7.72 7.72c-.78.78-.78 2.05 0 2.83L4 21.41c.39.39.9.59 1.41.59.51 0 1.02-.2 1.41-.59l7.78-7.78 2.81-2.81c.8-.78.8-2.07 0-2.86zM5.41 20L4 18.59l7.72-7.72 1.47 1.35L5.41 20z\"/>\n",
              "  </svg>\n",
              "      </button>\n",
              "      \n",
              "  <style>\n",
              "    .colab-df-container {\n",
              "      display:flex;\n",
              "      flex-wrap:wrap;\n",
              "      gap: 12px;\n",
              "    }\n",
              "\n",
              "    .colab-df-convert {\n",
              "      background-color: #E8F0FE;\n",
              "      border: none;\n",
              "      border-radius: 50%;\n",
              "      cursor: pointer;\n",
              "      display: none;\n",
              "      fill: #1967D2;\n",
              "      height: 32px;\n",
              "      padding: 0 0 0 0;\n",
              "      width: 32px;\n",
              "    }\n",
              "\n",
              "    .colab-df-convert:hover {\n",
              "      background-color: #E2EBFA;\n",
              "      box-shadow: 0px 1px 2px rgba(60, 64, 67, 0.3), 0px 1px 3px 1px rgba(60, 64, 67, 0.15);\n",
              "      fill: #174EA6;\n",
              "    }\n",
              "\n",
              "    [theme=dark] .colab-df-convert {\n",
              "      background-color: #3B4455;\n",
              "      fill: #D2E3FC;\n",
              "    }\n",
              "\n",
              "    [theme=dark] .colab-df-convert:hover {\n",
              "      background-color: #434B5C;\n",
              "      box-shadow: 0px 1px 3px 1px rgba(0, 0, 0, 0.15);\n",
              "      filter: drop-shadow(0px 1px 2px rgba(0, 0, 0, 0.3));\n",
              "      fill: #FFFFFF;\n",
              "    }\n",
              "  </style>\n",
              "\n",
              "      <script>\n",
              "        const buttonEl =\n",
              "          document.querySelector('#df-988b81fa-0652-4eb5-b41c-bc7f4f875397 button.colab-df-convert');\n",
              "        buttonEl.style.display =\n",
              "          google.colab.kernel.accessAllowed ? 'block' : 'none';\n",
              "\n",
              "        async function convertToInteractive(key) {\n",
              "          const element = document.querySelector('#df-988b81fa-0652-4eb5-b41c-bc7f4f875397');\n",
              "          const dataTable =\n",
              "            await google.colab.kernel.invokeFunction('convertToInteractive',\n",
              "                                                     [key], {});\n",
              "          if (!dataTable) return;\n",
              "\n",
              "          const docLinkHtml = 'Like what you see? Visit the ' +\n",
              "            '<a target=\"_blank\" href=https://colab.research.google.com/notebooks/data_table.ipynb>data table notebook</a>'\n",
              "            + ' to learn more about interactive tables.';\n",
              "          element.innerHTML = '';\n",
              "          dataTable['output_type'] = 'display_data';\n",
              "          await google.colab.output.renderOutput(dataTable, element);\n",
              "          const docLink = document.createElement('div');\n",
              "          docLink.innerHTML = docLinkHtml;\n",
              "          element.appendChild(docLink);\n",
              "        }\n",
              "      </script>\n",
              "    </div>\n",
              "  </div>\n",
              "  "
            ]
          },
          "metadata": {},
          "execution_count": 118
        }
      ],
      "source": [
        "DATASETS_FOLDER = '/content/drive/MyDrive/datasets/gp120'\n",
        "\n",
        "smifile = f'{DATASETS_FOLDER}/gp120_cleaned.csv'\n",
        "data = pd.read_csv(smifile, header=0)\n",
        "del data['babel_smiles'], data['filepath_smi']\n",
        "data.head()"
      ],
      "metadata": {
        "pycharm": {
          "name": "#%%\n"
        },
        "id": "uL67MCpO9bRi",
        "colab": {
          "base_uri": "https://localhost:8080/"
        },
        "outputId": "8685f8af-cf02-4b6c-a989-03bb2c6764ae"
      }
    },
    {
      "cell_type": "markdown",
      "source": [
        "### Train and test sets creation"
      ],
      "metadata": {
        "id": "Xj_pTtWeP5vi"
      }
    },
    {
      "cell_type": "code",
      "execution_count": null,
      "outputs": [
        {
          "output_type": "stream",
          "name": "stdout",
          "text": [
            "(57130,)\n",
            "(14283,)\n"
          ]
        }
      ],
      "source": [
        "full_train = data.sample(frac=0.8, random_state=42) \n",
        "full_test = data.drop(full_train.index)\n",
        "\n",
        "smiles_train, energy_train = full_train.smiles, full_train.energy\n",
        "smiles_test, energy_test = full_test.smiles, full_test.energy\n",
        "\n",
        "\n",
        "print(smiles_train.shape)\n",
        "print(smiles_test.shape)"
      ],
      "metadata": {
        "pycharm": {
          "name": "#%%\n"
        },
        "colab": {
          "base_uri": "https://localhost:8080/"
        },
        "id": "6hGC5ZQq9bRi",
        "outputId": "1cc872d1-a216-49eb-d288-c86c6ab42a82"
      }
    },
    {
      "cell_type": "markdown",
      "source": [
        "### SMILES alphabet"
      ],
      "metadata": {
        "id": "PR8SRe3pQXq-"
      }
    },
    {
      "cell_type": "code",
      "execution_count": null,
      "outputs": [
        {
          "output_type": "stream",
          "name": "stdout",
          "text": [
            "alphabet size: 32\n",
            "max smiles len: 95\n"
          ]
        }
      ],
      "source": [
        "charset = set(\"\".join(list(data.smiles)) + \"!E\")\n",
        "char_to_int = dict((c, i) for i, c in enumerate(charset))\n",
        "int_to_char = dict((i, c) for i, c in enumerate(charset))\n",
        "embed = max([len(smile) for smile in data.smiles]) + 5\n",
        "\n",
        "print(f'alphabet size: {len(charset)}')\n",
        "print(f'max smiles len: {embed}')"
      ],
      "metadata": {
        "pycharm": {
          "name": "#%%\n"
        },
        "colab": {
          "base_uri": "https://localhost:8080/"
        },
        "id": "3oh9zC159bRk",
        "outputId": "fcb8811b-4374-4eee-ac39-0cf47e73a3bc"
      }
    },
    {
      "cell_type": "markdown",
      "source": [
        "### SMILES length distribution"
      ],
      "metadata": {
        "id": "9TikSkEf7zx1"
      }
    },
    {
      "cell_type": "code",
      "source": [
        "data['smiles_len'] = np.array([len(smiles) for smiles in data.smiles])\n",
        "frequencies = data.smiles_len.value_counts()\n",
        "\n",
        "plt.rcParams[\"figure.figsize\"] = (15, 7)\n",
        "plt.bar(frequencies.index, frequencies)\n",
        "plt.xlabel('smiles_len')\n",
        "plt.ylabel('frequency')\n",
        "plt.show()"
      ],
      "metadata": {
        "colab": {
          "base_uri": "https://localhost:8080/"
        },
        "id": "QFp1LKa27-c-",
        "outputId": "9cc85053-b594-461d-961b-8b36b6dd405d"
      },
      "execution_count": null,
      "outputs": [
        {
          "output_type": "display_data",
          "data": {
            "text/plain": [
              "<Figure size 1080x504 with 1 Axes>"
            ],
            "image/png": "[encoded data removed]"
          },
          "metadata": {
            "needs_background": "light"
          }
        }
      ]
    },
    {
      "cell_type": "markdown",
      "source": [
        "### Distribution of chars frequencies"
      ],
      "metadata": {
        "id": "1x4w2aeD8KD3"
      }
    },
    {
      "cell_type": "code",
      "source": [
        "from copy import deepcopy\n",
        "\n",
        "def count_char_freq(char):\n",
        "    return sum([smile.count(char) for smile in data.smiles])\n",
        "\n",
        "tmp_char_set = deepcopy(charset)\n",
        "tmp_char_set.remove('!')\n",
        "tmp_char_set.remove('E')\n",
        "tmp_char_set = list(tmp_char_set)\n",
        "\n",
        "\n",
        "char_freqs = np.array([count_char_freq(char) for char in tmp_char_set])\n",
        "freqs_df = pd.DataFrame(char_freqs, index=tmp_char_set, columns=['frequency'])\n",
        "freqs_df = freqs_df.sort_values('frequency')\n",
        "freqs_df[:10]"
      ],
      "metadata": {
        "colab": {
          "base_uri": "https://localhost:8080/"
        },
        "id": "-7dJowR78RqB",
        "outputId": "e0d49dd6-da1f-4e9f-f477-140e6e9ae16f"
      },
      "execution_count": null,
      "outputs": [
        {
          "output_type": "execute_result",
          "data": {
            "text/plain": [
              "   frequency\n",
              "6          2\n",
              ".         25\n",
              "P         27\n",
              "I         30\n",
              "5         94\n",
              "\\       1198\n",
              "o       1795\n",
              "s       2097\n",
              "/       5044\n",
              "+       5671"
            ],
            "text/html": [
              "\n",
              "  <div id=\"df-47d3a2d5-44df-457c-bd00-fd5170f07fca\">\n",
              "    <div class=\"colab-df-container\">\n",
              "      <div>\n",
              "<style scoped>\n",
              "    .dataframe tbody tr th:only-of-type {\n",
              "        vertical-align: middle;\n",
              "    }\n",
              "\n",
              "    .dataframe tbody tr th {\n",
              "        vertical-align: top;\n",
              "    }\n",
              "\n",
              "    .dataframe thead th {\n",
              "        text-align: right;\n",
              "    }\n",
              "</style>\n",
              "<table border=\"1\" class=\"dataframe\">\n",
              "  <thead>\n",
              "    <tr style=\"text-align: right;\">\n",
              "      <th></th>\n",
              "      <th>frequency</th>\n",
              "    </tr>\n",
              "  </thead>\n",
              "  <tbody>\n",
              "    <tr>\n",
              "      <th>6</th>\n",
              "      <td>2</td>\n",
              "    </tr>\n",
              "    <tr>\n",
              "      <th>.</th>\n",
              "      <td>25</td>\n",
              "    </tr>\n",
              "    <tr>\n",
              "      <th>P</th>\n",
              "      <td>27</td>\n",
              "    </tr>\n",
              "    <tr>\n",
              "      <th>I</th>\n",
              "      <td>30</td>\n",
              "    </tr>\n",
              "    <tr>\n",
              "      <th>5</th>\n",
              "      <td>94</td>\n",
              "    </tr>\n",
              "    <tr>\n",
              "      <th>\\</th>\n",
              "      <td>1198</td>\n",
              "    </tr>\n",
              "    <tr>\n",
              "      <th>o</th>\n",
              "      <td>1795</td>\n",
              "    </tr>\n",
              "    <tr>\n",
              "      <th>s</th>\n",
              "      <td>2097</td>\n",
              "    </tr>\n",
              "    <tr>\n",
              "      <th>/</th>\n",
              "      <td>5044</td>\n",
              "    </tr>\n",
              "    <tr>\n",
              "      <th>+</th>\n",
              "      <td>5671</td>\n",
              "    </tr>\n",
              "  </tbody>\n",
              "</table>\n",
              "</div>\n",
              "      <button class=\"colab-df-convert\" onclick=\"convertToInteractive('df-47d3a2d5-44df-457c-bd00-fd5170f07fca')\"\n",
              "              title=\"Convert this dataframe to an interactive table.\"\n",
              "              style=\"display:none;\">\n",
              "        \n",
              "  <svg xmlns=\"http://www.w3.org/2000/svg\" height=\"24px\"viewBox=\"0 0 24 24\"\n",
              "       width=\"24px\">\n",
              "    <path d=\"M0 0h24v24H0V0z\" fill=\"none\"/>\n",
              "    <path d=\"M18.56 5.44l.94 2.06.94-2.06 2.06-.94-2.06-.94-.94-2.06-.94 2.06-2.06.94zm-11 1L8.5 8.5l.94-2.06 2.06-.94-2.06-.94L8.5 2.5l-.94 2.06-2.06.94zm10 10l.94 2.06.94-2.06 2.06-.94-2.06-.94-.94-2.06-.94 2.06-2.06.94z\"/><path d=\"M17.41 7.96l-1.37-1.37c-.4-.4-.92-.59-1.43-.59-.52 0-1.04.2-1.43.59L10.3 9.45l-7.72 7.72c-.78.78-.78 2.05 0 2.83L4 21.41c.39.39.9.59 1.41.59.51 0 1.02-.2 1.41-.59l7.78-7.78 2.81-2.81c.8-.78.8-2.07 0-2.86zM5.41 20L4 18.59l7.72-7.72 1.47 1.35L5.41 20z\"/>\n",
              "  </svg>\n",
              "      </button>\n",
              "      \n",
              "  <style>\n",
              "    .colab-df-container {\n",
              "      display:flex;\n",
              "      flex-wrap:wrap;\n",
              "      gap: 12px;\n",
              "    }\n",
              "\n",
              "    .colab-df-convert {\n",
              "      background-color: #E8F0FE;\n",
              "      border: none;\n",
              "      border-radius: 50%;\n",
              "      cursor: pointer;\n",
              "      display: none;\n",
              "      fill: #1967D2;\n",
              "      height: 32px;\n",
              "      padding: 0 0 0 0;\n",
              "      width: 32px;\n",
              "    }\n",
              "\n",
              "    .colab-df-convert:hover {\n",
              "      background-color: #E2EBFA;\n",
              "      box-shadow: 0px 1px 2px rgba(60, 64, 67, 0.3), 0px 1px 3px 1px rgba(60, 64, 67, 0.15);\n",
              "      fill: #174EA6;\n",
              "    }\n",
              "\n",
              "    [theme=dark] .colab-df-convert {\n",
              "      background-color: #3B4455;\n",
              "      fill: #D2E3FC;\n",
              "    }\n",
              "\n",
              "    [theme=dark] .colab-df-convert:hover {\n",
              "      background-color: #434B5C;\n",
              "      box-shadow: 0px 1px 3px 1px rgba(0, 0, 0, 0.15);\n",
              "      filter: drop-shadow(0px 1px 2px rgba(0, 0, 0, 0.3));\n",
              "      fill: #FFFFFF;\n",
              "    }\n",
              "  </style>\n",
              "\n",
              "      <script>\n",
              "        const buttonEl =\n",
              "          document.querySelector('#df-47d3a2d5-44df-457c-bd00-fd5170f07fca button.colab-df-convert');\n",
              "        buttonEl.style.display =\n",
              "          google.colab.kernel.accessAllowed ? 'block' : 'none';\n",
              "\n",
              "        async function convertToInteractive(key) {\n",
              "          const element = document.querySelector('#df-47d3a2d5-44df-457c-bd00-fd5170f07fca');\n",
              "          const dataTable =\n",
              "            await google.colab.kernel.invokeFunction('convertToInteractive',\n",
              "                                                     [key], {});\n",
              "          if (!dataTable) return;\n",
              "\n",
              "          const docLinkHtml = 'Like what you see? Visit the ' +\n",
              "            '<a target=\"_blank\" href=https://colab.research.google.com/notebooks/data_table.ipynb>data table notebook</a>'\n",
              "            + ' to learn more about interactive tables.';\n",
              "          element.innerHTML = '';\n",
              "          dataTable['output_type'] = 'display_data';\n",
              "          await google.colab.output.renderOutput(dataTable, element);\n",
              "          const docLink = document.createElement('div');\n",
              "          docLink.innerHTML = docLinkHtml;\n",
              "          element.appendChild(docLink);\n",
              "        }\n",
              "      </script>\n",
              "    </div>\n",
              "  </div>\n",
              "  "
            ]
          },
          "metadata": {},
          "execution_count": 122
        }
      ]
    },
    {
      "cell_type": "code",
      "source": [
        "plt.rcParams[\"figure.figsize\"] = (15, 7)\n",
        "plt.bar(freqs_df.index, freqs_df.frequency)\n",
        "plt.show()"
      ],
      "metadata": {
        "colab": {
          "base_uri": "https://localhost:8080/"
        },
        "id": "CN6Qtoi68ULa",
        "outputId": "fcd27d81-701d-4002-c4c5-70a62f9c3bf8"
      },
      "execution_count": null,
      "outputs": [
        {
          "output_type": "display_data",
          "data": {
            "text/plain": [
              "<Figure size 1080x504 with 1 Axes>"
            ],
            "image/png": "[encoded data removed]"
          },
          "metadata": {
            "needs_background": "light"
          }
        }
      ]
    },
    {
      "cell_type": "markdown",
      "source": [
        "### SMILES vectorization"
      ],
      "metadata": {
        "id": "jOAcO80ER_QS"
      }
    },
    {
      "cell_type": "code",
      "execution_count": null,
      "outputs": [],
      "source": [
        "def vectorize(smiles):\n",
        "    one_hot = np.zeros((smiles.shape[0], embed, len(charset)), dtype=np.int8)\n",
        "    for i, smile in enumerate(smiles):\n",
        "        one_hot[i, 0, char_to_int[\"!\"]] = 1\n",
        "        for j, c in enumerate(smile):\n",
        "            one_hot[i, j + 1, char_to_int[c]] = 1\n",
        "        one_hot[i, len(smile) + 1:, char_to_int[\"E\"]] = 1\n",
        "    return one_hot[:, 0:-1, :], one_hot[:, 1:, :]"
      ],
      "metadata": {
        "pycharm": {
          "name": "#%%\n"
        },
        "id": "MFCYodFQ9bRl"
      }
    },
    {
      "cell_type": "code",
      "execution_count": null,
      "outputs": [
        {
          "output_type": "stream",
          "name": "stdout",
          "text": [
            "CC[C@@](C)(OC(C)=O)[C@H]1C(CN2CCOCC2)=NNN1CCc1ccc(-c2ncc[nH]2)cc1\n"
          ]
        },
        {
          "output_type": "display_data",
          "data": {
            "text/plain": [
              "<Figure size 1152x392.17 with 1 Axes>"
            ],
            "image/png": "[encoded data removed]"
          },
          "metadata": {
            "needs_background": "light"
          }
        }
      ],
      "source": [
        "X_train, Y_train = vectorize(smiles_train.values)\n",
        "X_test, Y_test = vectorize(smiles_test.values)\n",
        "print(smiles_train.iloc[0])\n",
        "plt.matshow(X_train[0].T)\n",
        "plt.show()"
      ],
      "metadata": {
        "pycharm": {
          "name": "#%%\n"
        },
        "colab": {
          "base_uri": "https://localhost:8080/"
        },
        "id": "YB3YngJC9bRm",
        "outputId": "0ba203a3-bed4-419c-95db-3206d24f54fc"
      }
    },
    {
      "cell_type": "markdown",
      "source": [
        "### Binding energy scaling"
      ],
      "metadata": {
        "id": "NeaFQYLIfR0u"
      }
    },
    {
      "cell_type": "code",
      "source": [
        "from sklearn.preprocessing import MinMaxScaler\n",
        "\n",
        "energy_train = energy_train.to_frame()\n",
        "energy_test = energy_test.to_frame()\n",
        "\n",
        "sc = MinMaxScaler().fit(energy_train)\n",
        "energy_train = sc.transform(energy_train)\n",
        "energy_test = sc.transform(energy_test)"
      ],
      "metadata": {
        "id": "EM7DAsZmfQ5G"
      },
      "execution_count": null,
      "outputs": []
    },
    {
      "cell_type": "markdown",
      "source": [
        "## Model definition and training"
      ],
      "metadata": {
        "id": "aKzezrHS8nee"
      }
    },
    {
      "cell_type": "code",
      "execution_count": null,
      "outputs": [],
      "source": [
        "input_shape = X_train.shape[1:]\n",
        "output_dim = Y_train.shape[-1]\n",
        "latent_dim = 128\n",
        "lstm_dim = 128\n",
        "\n",
        "unroll = False\n",
        "encoder_inputs = Input(shape=input_shape, name='Smiles_input_1')\n",
        "\n",
        "encoder_lstm = LSTM(lstm_dim, return_state=True,\n",
        "                    unroll=unroll, name='Encoder_lstm')\n",
        "\n",
        "encoder_outputs, state_h, state_c = encoder_lstm(encoder_inputs)\n",
        "\n",
        "states = Concatenate(axis=-1, name='States_concat')([state_h, state_c])\n",
        "neck = Dense(latent_dim, activation=\"relu\", name='Encoder_neck')\n",
        "neck_outputs = neck(states)\n",
        "\n",
        "free_energy_inputs = Input(shape=(1,), name='Energy_input')\n",
        "concatenate = Concatenate(axis=-1, name='Energy_concat')\n",
        "energy_concat = concatenate([neck_outputs, free_energy_inputs])\n",
        "\n",
        "decode_h = Dense(lstm_dim, name='State_h_decoder', activation=\"relu\")\n",
        "decode_c = Dense(lstm_dim, name='State_c_decoder', activation=\"relu\")\n",
        "state_h_decoded = decode_h(energy_concat)\n",
        "state_c_decoded = decode_c(energy_concat)\n",
        "\n",
        "encoder_states = [state_h_decoded, state_c_decoded]\n",
        "decoder_inputs = Input(shape=input_shape, name='Smiles_input_2')\n",
        "\n",
        "\n",
        "decoder_lstm = LSTM(lstm_dim,\n",
        "                    return_sequences=True,\n",
        "                    unroll=unroll,\n",
        "                    name='Decoder_lstm'\n",
        "                    )\n",
        "decoder_outputs = decoder_lstm(decoder_inputs, initial_state=encoder_states)\n",
        "decoder_dense = Dense(output_dim, activation='softmax', name='Decoder_output')\n",
        "decoder_outputs = decoder_dense(decoder_outputs)"
      ],
      "metadata": {
        "pycharm": {
          "name": "#%%\n"
        },
        "id": "NYK7ai3L9bRn"
      }
    },
    {
      "cell_type": "code",
      "source": [
        "model = Model([encoder_inputs, decoder_inputs, free_energy_inputs], decoder_outputs, name='Lstm_autoencoder')\n",
        "plot_model(model, to_file='model.png', show_layer_activations=True)\n",
        "print(model.summary())"
      ],
      "metadata": {
        "colab": {
          "base_uri": "https://localhost:8080/"
        },
        "id": "WCY05NxqGM5d",
        "outputId": "a84b98ab-8b05-4898-9964-dbc44e179dfe"
      },
      "execution_count": null,
      "outputs": [
        {
          "output_type": "stream",
          "name": "stdout",
          "text": [
            "Model: \"Lstm_autoencoder\"\n",
            "__________________________________________________________________________________________________\n",
            " Layer (type)                   Output Shape         Param #     Connected to                     \n",
            "==================================================================================================\n",
            " Smiles_input_1 (InputLayer)    [(None, 94, 32)]     0           []                               \n",
            "                                                                                                  \n",
            " Encoder_lstm (LSTM)            [(None, 128),        82432       ['Smiles_input_1[0][0]']         \n",
            "                                 (None, 128),                                                     \n",
            "                                 (None, 128)]                                                     \n",
            "                                                                                                  \n",
            " States_concat (Concatenate)    (None, 256)          0           ['Encoder_lstm[0][1]',           \n",
            "                                                                  'Encoder_lstm[0][2]']           \n",
            "                                                                                                  \n",
            " Encoder_neck (Dense)           (None, 128)          32896       ['States_concat[0][0]']          \n",
            "                                                                                                  \n",
            " Energy_input (InputLayer)      [(None, 1)]          0           []                               \n",
            "                                                                                                  \n",
            " Energy_concat (Concatenate)    (None, 129)          0           ['Encoder_neck[0][0]',           \n",
            "                                                                  'Energy_input[0][0]']           \n",
            "                                                                                                  \n",
            " Smiles_input_2 (InputLayer)    [(None, 94, 32)]     0           []                               \n",
            "                                                                                                  \n",
            " State_h_decoder (Dense)        (None, 128)          16640       ['Energy_concat[0][0]']          \n",
            "                                                                                                  \n",
            " State_c_decoder (Dense)        (None, 128)          16640       ['Energy_concat[0][0]']          \n",
            "                                                                                                  \n",
            " Decoder_lstm (LSTM)            (None, 94, 128)      82432       ['Smiles_input_2[0][0]',         \n",
            "                                                                  'State_h_decoder[0][0]',        \n",
            "                                                                  'State_c_decoder[0][0]']        \n",
            "                                                                                                  \n",
            " Decoder_output (Dense)         (None, 94, 32)       4128        ['Decoder_lstm[0][0]']           \n",
            "                                                                                                  \n",
            "==================================================================================================\n",
            "Total params: 235,168\n",
            "Trainable params: 235,168\n",
            "Non-trainable params: 0\n",
            "__________________________________________________________________________________________________\n",
            "None\n"
          ]
        }
      ]
    },
    {
      "cell_type": "code",
      "execution_count": null,
      "outputs": [],
      "source": [
        "from keras.callbacks import History, ReduceLROnPlateau\n",
        "h = History()\n",
        "rlr = ReduceLROnPlateau(monitor='val_loss', factor=0.5, patience=2, min_lr=0.000001, verbose=1, min_delta=1e-5)\n",
        "\n",
        "opt = Adam(learning_rate=0.005)\n",
        "model.compile(optimizer=opt, loss='categorical_crossentropy')"
      ],
      "metadata": {
        "pycharm": {
          "name": "#%%\n"
        },
        "id": "JTYpIgFN9bRp"
      }
    },
    {
      "cell_type": "code",
      "source": [
        "import pickle\n",
        "\n",
        "def save_history():\n",
        "    with open(\"Blog_history.pickle\", \"wb\") as f:\n",
        "        pickle.dump(h.history, f)\n",
        "\n",
        "def load_history():\n",
        "    with open(\"Blog_history.pickle\", \"rb\") as f:\n",
        "        h.history = pickle.load(f)"
      ],
      "metadata": {
        "id": "jjpTMv3VnCd7"
      },
      "execution_count": null,
      "outputs": []
    },
    {
      "cell_type": "code",
      "execution_count": null,
      "outputs": [
        {
          "output_type": "stream",
          "name": "stdout",
          "text": [
            "Epoch 1/50\n",
            "224/224 [==============================] - 28s 88ms/step - loss: 0.9016 - val_loss: 0.4537 - lr: 0.0050\n",
            "Epoch 2/50\n",
            "224/224 [==============================] - 16s 72ms/step - loss: 0.3608 - val_loss: 0.2938 - lr: 0.0050\n",
            "Epoch 3/50\n",
            "224/224 [==============================] - 15s 68ms/step - loss: 0.2624 - val_loss: 0.2383 - lr: 0.0050\n",
            "Epoch 4/50\n",
            "224/224 [==============================] - 15s 68ms/step - loss: 0.2213 - val_loss: 0.2127 - lr: 0.0050\n",
            "Epoch 5/50\n",
            "224/224 [==============================] - 15s 68ms/step - loss: 0.1997 - val_loss: 0.1951 - lr: 0.0050\n",
            "Epoch 6/50\n",
            "224/224 [==============================] - 15s 68ms/step - loss: 0.1857 - val_loss: 0.1801 - lr: 0.0050\n",
            "Epoch 7/50\n",
            "224/224 [==============================] - 16s 71ms/step - loss: 0.1748 - val_loss: 0.1765 - lr: 0.0050\n",
            "Epoch 8/50\n",
            "224/224 [==============================] - 15s 68ms/step - loss: 0.1669 - val_loss: 0.1831 - lr: 0.0050\n",
            "Epoch 9/50\n",
            "224/224 [==============================] - 15s 68ms/step - loss: 0.1607 - val_loss: 0.1665 - lr: 0.0050\n",
            "Epoch 10/50\n",
            "224/224 [==============================] - 15s 68ms/step - loss: 0.1561 - val_loss: 0.1560 - lr: 0.0050\n",
            "Epoch 11/50\n",
            "224/224 [==============================] - 15s 68ms/step - loss: 0.1508 - val_loss: 0.1519 - lr: 0.0050\n",
            "Epoch 12/50\n",
            "224/224 [==============================] - 15s 68ms/step - loss: 0.1474 - val_loss: 0.1473 - lr: 0.0050\n",
            "Epoch 13/50\n",
            "224/224 [==============================] - 15s 68ms/step - loss: 0.1438 - val_loss: 0.1446 - lr: 0.0050\n",
            "Epoch 14/50\n",
            "224/224 [==============================] - 15s 68ms/step - loss: 0.1408 - val_loss: 0.1439 - lr: 0.0050\n",
            "Epoch 15/50\n",
            "224/224 [==============================] - 15s 68ms/step - loss: 0.1385 - val_loss: 0.1390 - lr: 0.0050\n",
            "Epoch 16/50\n",
            "224/224 [==============================] - 15s 68ms/step - loss: 0.1358 - val_loss: 0.1371 - lr: 0.0050\n",
            "Epoch 17/50\n",
            "224/224 [==============================] - 15s 68ms/step - loss: 0.1356 - val_loss: 0.1366 - lr: 0.0050\n",
            "Epoch 18/50\n",
            "224/224 [==============================] - 15s 68ms/step - loss: 0.1322 - val_loss: 0.1355 - lr: 0.0050\n",
            "Epoch 19/50\n",
            "224/224 [==============================] - 15s 68ms/step - loss: 0.1308 - val_loss: 0.1336 - lr: 0.0050\n",
            "Epoch 20/50\n",
            "224/224 [==============================] - 15s 68ms/step - loss: 0.1289 - val_loss: 0.1325 - lr: 0.0050\n",
            "Epoch 21/50\n",
            "224/224 [==============================] - 15s 68ms/step - loss: 0.1275 - val_loss: 0.1334 - lr: 0.0050\n",
            "Epoch 22/50\n",
            "223/224 [============================>.] - ETA: 0s - loss: 0.1261\n",
            "Epoch 22: ReduceLROnPlateau reducing learning rate to 0.0024999999441206455.\n",
            "224/224 [==============================] - 15s 68ms/step - loss: 0.1261 - val_loss: 0.1326 - lr: 0.0050\n",
            "Epoch 23/50\n",
            "224/224 [==============================] - 15s 68ms/step - loss: 0.1184 - val_loss: 0.1214 - lr: 0.0025\n",
            "Epoch 24/50\n",
            "224/224 [==============================] - 15s 68ms/step - loss: 0.1170 - val_loss: 0.1197 - lr: 0.0025\n",
            "Epoch 25/50\n",
            "224/224 [==============================] - 15s 68ms/step - loss: 0.1168 - val_loss: 0.1191 - lr: 0.0025\n",
            "Epoch 26/50\n",
            "224/224 [==============================] - 15s 68ms/step - loss: 0.1161 - val_loss: 0.1193 - lr: 0.0025\n",
            "Epoch 27/50\n",
            "224/224 [==============================] - 15s 68ms/step - loss: 0.1150 - val_loss: 0.1190 - lr: 0.0025\n",
            "Epoch 28/50\n",
            "224/224 [==============================] - 15s 68ms/step - loss: 0.1152 - val_loss: 0.1176 - lr: 0.0025\n",
            "Epoch 29/50\n",
            "224/224 [==============================] - 15s 68ms/step - loss: 0.1138 - val_loss: 0.1186 - lr: 0.0025\n",
            "Epoch 30/50\n",
            "224/224 [==============================] - 15s 68ms/step - loss: 0.1141 - val_loss: 0.1171 - lr: 0.0025\n",
            "Epoch 31/50\n",
            "224/224 [==============================] - 15s 68ms/step - loss: 0.1125 - val_loss: 0.1154 - lr: 0.0025\n",
            "Epoch 32/50\n",
            "224/224 [==============================] - 15s 68ms/step - loss: 0.1122 - val_loss: 0.1198 - lr: 0.0025\n",
            "Epoch 33/50\n",
            "223/224 [============================>.] - ETA: 0s - loss: 0.1118\n",
            "Epoch 33: ReduceLROnPlateau reducing learning rate to 0.0012499999720603228.\n",
            "224/224 [==============================] - 15s 68ms/step - loss: 0.1118 - val_loss: 0.1231 - lr: 0.0025\n",
            "Epoch 34/50\n",
            "224/224 [==============================] - 15s 68ms/step - loss: 0.1070 - val_loss: 0.1103 - lr: 0.0012\n",
            "Epoch 35/50\n",
            "224/224 [==============================] - 15s 68ms/step - loss: 0.1035 - val_loss: 0.1055 - lr: 0.0012\n",
            "Epoch 36/50\n",
            "224/224 [==============================] - 15s 68ms/step - loss: 0.0989 - val_loss: 0.1009 - lr: 0.0012\n",
            "Epoch 37/50\n",
            "224/224 [==============================] - 15s 68ms/step - loss: 0.0953 - val_loss: 0.0991 - lr: 0.0012\n",
            "Epoch 38/50\n",
            "224/224 [==============================] - 15s 68ms/step - loss: 0.0929 - val_loss: 0.0962 - lr: 0.0012\n",
            "Epoch 39/50\n",
            "224/224 [==============================] - 15s 68ms/step - loss: 0.0908 - val_loss: 0.0947 - lr: 0.0012\n",
            "Epoch 40/50\n",
            "224/224 [==============================] - 15s 68ms/step - loss: 0.0886 - val_loss: 0.0924 - lr: 0.0012\n",
            "Epoch 41/50\n",
            "224/224 [==============================] - 15s 68ms/step - loss: 0.0872 - val_loss: 0.0906 - lr: 0.0012\n",
            "Epoch 42/50\n",
            "224/224 [==============================] - 15s 68ms/step - loss: 0.0862 - val_loss: 0.0895 - lr: 0.0012\n",
            "Epoch 43/50\n",
            "224/224 [==============================] - 15s 68ms/step - loss: 0.0848 - val_loss: 0.0878 - lr: 0.0012\n",
            "Epoch 44/50\n",
            "224/224 [==============================] - 15s 68ms/step - loss: 0.0842 - val_loss: 0.0882 - lr: 0.0012\n",
            "Epoch 45/50\n",
            "224/224 [==============================] - 15s 68ms/step - loss: 0.0830 - val_loss: 0.0877 - lr: 0.0012\n",
            "Epoch 46/50\n",
            "224/224 [==============================] - 15s 68ms/step - loss: 0.0818 - val_loss: 0.0857 - lr: 0.0012\n",
            "Epoch 47/50\n",
            "224/224 [==============================] - 15s 68ms/step - loss: 0.0815 - val_loss: 0.0904 - lr: 0.0012\n",
            "Epoch 48/50\n",
            "224/224 [==============================] - 15s 68ms/step - loss: 0.0814 - val_loss: 0.0851 - lr: 0.0012\n",
            "Epoch 49/50\n",
            "224/224 [==============================] - 15s 68ms/step - loss: 0.0796 - val_loss: 0.0847 - lr: 0.0012\n",
            "Epoch 50/50\n",
            "224/224 [==============================] - 15s 68ms/step - loss: 0.0791 - val_loss: 0.0853 - lr: 0.0012\n"
          ]
        },
        {
          "output_type": "execute_result",
          "data": {
            "text/plain": [
              "<keras.callbacks.History at 0x7fd25dfd0f90>"
            ]
          },
          "metadata": {},
          "execution_count": 131
        }
      ],
      "source": [
        "save_history()\n",
        "model.fit([X_train, X_train, energy_train], Y_train,\n",
        "                    epochs=50,\n",
        "                    batch_size=256,\n",
        "                    shuffle=True,\n",
        "                    callbacks=[h, rlr],\n",
        "                    validation_data=([X_test, X_test, energy_test], Y_test))"
      ],
      "metadata": {
        "pycharm": {
          "name": "#%%\n"
        },
        "id": "4yJbmbRn9bRq",
        "outputId": "2eb0a934-e007-4021-aab3-7cbf9224e44c",
        "colab": {
          "base_uri": "https://localhost:8080/"
        }
      }
    },
    {
      "cell_type": "code",
      "execution_count": null,
      "outputs": [
        {
          "output_type": "display_data",
          "data": {
            "text/plain": [
              "<Figure size 1080x504 with 1 Axes>"
            ],
            "image/png": "[encoded data removed]"
          },
          "metadata": {
            "needs_background": "light"
          }
        }
      ],
      "source": [
        "# save_history()\n",
        "# load_history()\n",
        "plt.plot(h.history[\"loss\"], label=\"Loss\")\n",
        "plt.plot(h.history[\"val_loss\"], label=\"Val_Loss\")\n",
        "plt.yscale(\"log\")\n",
        "plt.legend()\n",
        "plt.show()"
      ],
      "metadata": {
        "pycharm": {
          "name": "#%%\n"
        },
        "colab": {
          "base_uri": "https://localhost:8080/",
          "height": 432
        },
        "id": "2MmLLOOg9bRs",
        "outputId": "d43b1add-9ff0-4023-ba35-80c00ba6b8fd"
      }
    },
    {
      "cell_type": "markdown",
      "source": [
        "## Split autoencoder into 2 models"
      ],
      "metadata": {
        "id": "NnPhik6S87I_"
      }
    },
    {
      "cell_type": "code",
      "execution_count": null,
      "outputs": [
        {
          "output_type": "stream",
          "name": "stdout",
          "text": [
            "WARNING:tensorflow:Compiled the loaded model, but the compiled metrics have yet to be built. `model.compile_metrics` will be empty until you train or evaluate the model.\n"
          ]
        }
      ],
      "source": [
        "smiles_to_latent_model = Model(encoder_inputs, neck_outputs)"
      ],
      "metadata": {
        "pycharm": {
          "name": "#%%\n"
        },
        "id": "8jnhdSx_9bRs",
        "colab": {
          "base_uri": "https://localhost:8080/"
        },
        "outputId": "78b39c1d-281e-449f-904d-4b408e762005"
      }
    },
    {
      "cell_type": "code",
      "source": [
        "latent_input = Input(shape=(latent_dim,))\n",
        "energy_input = Input(shape=(1,))\n",
        "\n",
        "energy_concat_2 = concatenate([latent_input, energy_input])\n",
        "\n",
        "state_h_decoded_2 = decode_h(energy_concat_2)\n",
        "state_c_decoded_2 = decode_c(energy_concat_2)\n",
        "\n",
        "latent_to_states_model = Model([latent_input, energy_input], \n",
        "                               [state_h_decoded_2, state_c_decoded_2])\n",
        "latent_to_states_model.summary()"
      ],
      "metadata": {
        "id": "sCjvxQedD8vH",
        "colab": {
          "base_uri": "https://localhost:8080/"
        },
        "outputId": "cdf8cbd1-dcf3-43e2-bedd-9731bdcdd666"
      },
      "execution_count": null,
      "outputs": [
        {
          "output_type": "stream",
          "name": "stdout",
          "text": [
            "WARNING:tensorflow:Compiled the loaded model, but the compiled metrics have yet to be built. `model.compile_metrics` will be empty until you train or evaluate the model.\n",
            "Model: \"model_7\"\n",
            "__________________________________________________________________________________________________\n",
            " Layer (type)                   Output Shape         Param #     Connected to                     \n",
            "==================================================================================================\n",
            " input_7 (InputLayer)           [(None, 128)]        0           []                               \n",
            "                                                                                                  \n",
            " input_8 (InputLayer)           [(None, 1)]          0           []                               \n",
            "                                                                                                  \n",
            " Energy_concat (Concatenate)    (None, 129)          0           ['input_7[0][0]',                \n",
            "                                                                  'input_8[0][0]']                \n",
            "                                                                                                  \n",
            " State_h_decoder (Dense)        (None, 128)          16640       ['Energy_concat[1][0]']          \n",
            "                                                                                                  \n",
            " State_c_decoder (Dense)        (None, 128)          16640       ['Energy_concat[1][0]']          \n",
            "                                                                                                  \n",
            "==================================================================================================\n",
            "Total params: 33,280\n",
            "Trainable params: 33,280\n",
            "Non-trainable params: 0\n",
            "__________________________________________________________________________________________________\n"
          ]
        }
      ]
    },
    {
      "cell_type": "code",
      "source": [
        "inf_decoder_inputs = Input(batch_shape=(1, 1, input_shape[1]))\n",
        "\n",
        "inf_decoder_lstm = LSTM(lstm_dim,\n",
        "                    return_sequences=True,\n",
        "                    unroll=unroll,\n",
        "                    stateful=True\n",
        "                   )\n",
        "inf_decoder_outputs = inf_decoder_lstm(inf_decoder_inputs)\n",
        "inf_decoder_dense = Dense(output_dim, activation='softmax')\n",
        "inf_decoder_outputs = inf_decoder_dense(inf_decoder_outputs)\n",
        "sample_model = Model(inf_decoder_inputs, inf_decoder_outputs)"
      ],
      "metadata": {
        "id": "YgHP2EuKEC-_"
      },
      "execution_count": null,
      "outputs": []
    },
    {
      "cell_type": "code",
      "source": [
        "sample_model.layers[1].set_weights(model.layers[-2].get_weights())\n",
        "sample_model.layers[2].set_weights(model.layers[-1].get_weights())\n",
        "\n",
        "sample_model.summary()"
      ],
      "metadata": {
        "id": "-puMWe2MEFoh",
        "colab": {
          "base_uri": "https://localhost:8080/"
        },
        "outputId": "680857a5-d538-4896-ae8e-5ccbabdb9ab6"
      },
      "execution_count": null,
      "outputs": [
        {
          "output_type": "stream",
          "name": "stdout",
          "text": [
            "WARNING:tensorflow:Compiled the loaded model, but the compiled metrics have yet to be built. `model.compile_metrics` will be empty until you train or evaluate the model.\n",
            "Model: \"model_8\"\n",
            "_________________________________________________________________\n",
            " Layer (type)                Output Shape              Param #   \n",
            "=================================================================\n",
            " input_9 (InputLayer)        [(1, 1, 32)]              0         \n",
            "                                                                 \n",
            " lstm_2 (LSTM)               (1, 1, 128)               82432     \n",
            "                                                                 \n",
            " dense_2 (Dense)             (1, 1, 32)                4128      \n",
            "                                                                 \n",
            "=================================================================\n",
            "Total params: 86,560\n",
            "Trainable params: 86,560\n",
            "Non-trainable params: 0\n",
            "_________________________________________________________________\n"
          ]
        }
      ]
    },
    {
      "cell_type": "markdown",
      "source": [
        "## New compounds generation"
      ],
      "metadata": {
        "id": "UIHyudwF9_bL"
      }
    },
    {
      "cell_type": "markdown",
      "source": [
        "### Latent space creation"
      ],
      "metadata": {
        "id": "iRHuda6Nr5MW"
      }
    },
    {
      "cell_type": "code",
      "source": [
        "x_latent = smiles_to_latent_model.predict(X_test)"
      ],
      "metadata": {
        "id": "i-lBQT2kD0lh"
      },
      "execution_count": null,
      "outputs": []
    },
    {
      "cell_type": "markdown",
      "source": [
        "### Converting from latent space to SMILES"
      ],
      "metadata": {
        "id": "MkpoMt7zr_Gg"
      }
    },
    {
      "cell_type": "code",
      "source": [
        "def latent_to_smiles(latent, free_energy):\n",
        "    states = latent_to_states_model.predict([latent, free_energy])\n",
        "    sample_model.layers[1].reset_states(states=[states[0], states[1]])\n",
        "    # adding start char\n",
        "    startidx = char_to_int[\"!\"]\n",
        "    samplevec = np.zeros((1, 1, len(charset)))\n",
        "    samplevec[0,0,startidx] = 1\n",
        "    smiles = \"\"\n",
        "    # predict next symbol\n",
        "    for i in range(embed):\n",
        "        o = sample_model.predict(samplevec)\n",
        "        sampleidx = np.argmax(o)\n",
        "        samplechar = int_to_char[sampleidx]\n",
        "        if samplechar != \"E\":\n",
        "            smiles = smiles + int_to_char[sampleidx]\n",
        "            samplevec = np.zeros((1, 1, len(charset)))\n",
        "            samplevec[0,0,sampleidx] = 1\n",
        "        else:\n",
        "            break\n",
        "    return smiles"
      ],
      "metadata": {
        "id": "d5b7JmsmDXzk"
      },
      "execution_count": null,
      "outputs": []
    },
    {
      "cell_type": "code",
      "source": [
        "# comparing original molecule with reconstructed via autoencoder\n",
        "\n",
        "compound_index = 20\n",
        "\n",
        "free_energy = energy_test[compound_index]\n",
        "\n",
        "smiles = latent_to_smiles(x_latent[compound_index:compound_index + 1], free_energy)\n",
        "print(smiles)\n",
        "print(smiles_test.iloc[compound_index])"
      ],
      "metadata": {
        "colab": {
          "base_uri": "https://localhost:8080/"
        },
        "id": "-QMUdFmXDc8J",
        "outputId": "fc3a4c22-0bcd-44d5-d501-1ddb58d64927"
      },
      "execution_count": null,
      "outputs": [
        {
          "output_type": "stream",
          "name": "stdout",
          "text": [
            "C=CCC1=NNN(c2ccc(C(=O)C=O)cc2)[C@H]1c1ccccc1OC\n",
            "CCCNCC1=NNN(CC(=O)c2ccc(C)cc2)[C@@H]1c1ccccc1\n"
          ]
        }
      ]
    },
    {
      "cell_type": "markdown",
      "source": [
        "### Testing validity of generated SMILES\n",
        "To test if SMILES are reconstructed correctly, 500 compounds from test set were passed through autoencoder, and then some checks were performed."
      ],
      "metadata": {
        "id": "CScSWPbTW5HQ"
      }
    },
    {
      "cell_type": "code",
      "source": [
        "from tqdm import tqdm\n",
        "\n",
        "\n",
        "equal_smiles = 0\n",
        "valid_smiles = 0\n",
        "\n",
        "my_range = range(500)\n",
        "\n",
        "with tqdm(my_range, \n",
        "          bar_format=\"{bar} : {percentage:.2f}% | \"\n",
        "                     \"valid: {postfix[0]:.2f}% | \"\n",
        "                     \"equal: {postfix[1]:.2f}% | \"\n",
        "                     \"elapsed: {elapsed} | \"\n",
        "                     \"remaining: {remaining}\", \n",
        "          postfix=[0, 0]) as t:\n",
        "    for i in my_range:\n",
        "        smiles = latent_to_smiles(x_latent[i:i + 1], energy_test[i])\n",
        "        if smiles == smiles_test.iloc[i]:\n",
        "            equal_smiles += 1\n",
        "            valid_smiles += 1  \n",
        "        elif Chem.MolFromSmiles(smiles):\n",
        "            valid_smiles += 1\n",
        "        t.postfix[0] = valid_smiles / (i + 1) * 100\n",
        "        t.postfix[1] = equal_smiles / (i + 1) * 100\n",
        "        t.update()\n"
      ],
      "metadata": {
        "id": "6I3WOTae6UN4",
        "outputId": "7a1f9fc3-d709-49bd-ab72-9fe3e29896ed",
        "colab": {
          "base_uri": "https://localhost:8080/"
        }
      },
      "execution_count": null,
      "outputs": [
        {
          "output_type": "stream",
          "name": "stderr",
          "text": [
            "██████████ : 100.00% | valid: 98.20% | equal: 1.20% | elapsed: 24:20 | remaining: 00:00\n"
          ]
        }
      ]
    },
    {
      "cell_type": "markdown",
      "source": [
        "### Generation from latent space with noise adding\n",
        "To generate new compounds, we can add random noise vector to `x_latent` and get molecules with similar properties. Also we can set any binding energy we want to achieve."
      ],
      "metadata": {
        "id": "DjCrPeVfsFFb"
      }
    },
    {
      "cell_type": "code",
      "source": [
        "latent = x_latent[compound_index:compound_index + 1]\n",
        "scale = 0.5\n",
        "mols = []\n",
        "mols_smiles = []\n",
        "unique_mols = set()\n",
        "\n",
        "\n",
        "for i in range(20):\n",
        "    latent_r = latent + scale*(np.random.randn(latent.shape[1]))\n",
        "    smiles = latent_to_smiles(latent_r, free_energy)\n",
        "    mol = Chem.MolFromSmiles(smiles)\n",
        "    if mol:\n",
        "        if smiles not in unique_mols:\n",
        "            mols.append(mol)\n",
        "            mols_smiles.append(smiles)\n",
        "            unique_mols.add(smiles)\n",
        "        else:\n",
        "          print(f'same: {smiles}')\n",
        "    else:\n",
        "        print(f'invalid: {smiles}')\n",
        "\n",
        "Draw.MolsToGridImage(mols, molsPerRow=5)"
      ],
      "metadata": {
        "colab": {
          "base_uri": "https://localhost:8080/",
          "height": 851
        },
        "id": "3TEKWQNsFVd2",
        "outputId": "634be321-95d3-48c7-ced2-f55fa62088ed"
      },
      "execution_count": null,
      "outputs": [
        {
          "output_type": "stream",
          "name": "stdout",
          "text": [
            "same: C=CC1=NNN(Cc2ccc(C)c(C)c2)[C@H]1[C@@H]1CCC(=O)N1\n",
            "same: C=CC1=NNN(Cc2ccc(C)c(C)c2)[C@H]1[C@@H]1CCC(=O)N1\n",
            "invalid: CCCCCC1=NNN(Cc2ccc(C)c(C)c2)[C@H]1c1ccc(C)nn1C\n"
          ]
        },
        {
          "output_type": "execute_result",
          "data": {
            "text/plain": [
              "<PIL.PngImagePlugin.PngImageFile image mode=RGB size=1000x800 at 0x7FD25E825F90>"
            ],
            "image/png": "[encoded data removed]"
          },
          "metadata": {},
          "execution_count": 140
        }
      ]
    },
    {
      "cell_type": "markdown",
      "source": [
        "## 3D molecule visualization"
      ],
      "metadata": {
        "id": "fDP2r-bs-Hfs"
      }
    },
    {
      "cell_type": "code",
      "source": [
        "import py3Dmol\n",
        "\n",
        "from rdkit import Chem\n",
        "from rdkit.Chem import AllChem\n",
        "\n",
        "def makeblock(mol):\n",
        "    mol = Chem.AddHs(mol)\n",
        "    AllChem.EmbedMolecule(mol)\n",
        "    mblock = Chem.MolToMolBlock(mol)\n",
        "    return mblock\n",
        "\n",
        "def render_mol(xyz):\n",
        "    xyzview = py3Dmol.view()\n",
        "    xyzview.addModel(xyz,'mol')\n",
        "    xyzview.setStyle({'stick':{}})\n",
        "    xyzview.setBackgroundColor('white')\n",
        "    xyzview.zoomTo()\n",
        "    xyzview.show()\n",
        "\n",
        "mol_index = 3\n",
        "\n",
        "blk = makeblock(mols[mol_index])\n",
        "print(mols_smiles[mol_index])\n",
        "render_mol(blk)"
      ],
      "metadata": {
        "colab": {
          "base_uri": "https://localhost:8080/",
          "height": 515
        },
        "id": "OrPKMSyBLktL",
        "outputId": "f6dfda0e-1cf9-4b73-c2dc-c7f48a9a2cd6"
      },
      "execution_count": null,
      "outputs": [
        {
          "output_type": "stream",
          "name": "stdout",
          "text": [
            "CCCCCC1=NNN(c2ccc(CO)cc2)[C@H]1[C@@H]1CCCN1C\n"
          ]
        },
        {
          "output_type": "display_data",
          "data": {
            "application/3dmoljs_load.v0": "<div id=\"3dmolviewer_16497000019978323\"  style=\"position: relative; width: 640px; height: 480px\">\n        <p id=\"3dmolwarning_16497000019978323\" style=\"background-color:#ffcccc;color:black\">You appear to be running in JupyterLab (or JavaScript failed to load for some other reason).  You need to install the 3dmol extension: <br>\n        <tt>jupyter labextension install jupyterlab_3dmol</tt></p>\n        </div>\n<script>\n\nvar loadScriptAsync = function(uri){\n  return new Promise((resolve, reject) => {\n    var tag = document.createElement('script');\n    tag.src = uri;\n    tag.async = true;\n    tag.onload = () => {\n      resolve();\n    };\n  var firstScriptTag = document.getElementsByTagName('script')[0];\n  firstScriptTag.parentNode.insertBefore(tag, firstScriptTag);\n});\n};\n\nif(typeof $3Dmolpromise === 'undefined') {\n$3Dmolpromise = null;\n  $3Dmolpromise = loadScriptAsync('https://3dmol.org/build/3Dmol.js');\n}\n\nvar viewer_16497000019978323 = null;\nvar warn = document.getElementById(\"3dmolwarning_16497000019978323\");\nif(warn) {\n    warn.parentNode.removeChild(warn);\n}\n$3Dmolpromise.then(function() {\nviewer_16497000019978323 = $3Dmol.createViewer($(\"#3dmolviewer_16497000019978323\"),{backgroundColor:\"white\"});\nviewer_16497000019978323.zoomTo();\n\tviewer_16497000019978323.addModel(\"\\n     RDKit          3D\\n\\n 54 56  0  0  0  0  0  0  0  0999 V2000\\n   -5.2795    0.5001    1.7116 C   0  0  0  0  0  0  0  0  0  0  0  0\\n   -4.8578    0.0363    0.3408 C   0  0  0  0  0  0  0  0  0  0  0  0\\n   -3.7905   -1.0417    0.4327 C   0  0  0  0  0  0  0  0  0  0  0  0\\n   -3.3642   -1.5074   -0.9373 C   0  0  0  0  0  0  0  0  0  0  0  0\\n   -2.7769   -0.4587   -1.7864 C   0  0  0  0  0  0  0  0  0  0  0  0\\n   -1.5814    0.2588   -1.2960 C   0  0  0  0  0  0  0  0  0  0  0  0\\n   -1.8001    1.4667   -0.8182 N   0  0  0  0  0  0  0  0  0  0  0  0\\n   -0.6823    2.0925   -0.4088 N   0  0  0  0  0  0  0  0  0  0  0  0\\n    0.4086    1.2168   -0.6602 N   0  0  0  0  0  0  0  0  0  0  0  0\\n    1.7222    1.6885   -0.5000 C   0  0  0  0  0  0  0  0  0  0  0  0\\n    2.6809    1.4458   -1.4401 C   0  0  0  0  0  0  0  0  0  0  0  0\\n    3.9727    1.8777   -1.3553 C   0  0  0  0  0  0  0  0  0  0  0  0\\n    4.3459    2.6083   -0.2518 C   0  0  0  0  0  0  0  0  0  0  0  0\\n    5.7340    3.1083   -0.0978 C   0  0  0  0  0  0  0  0  0  0  0  0\\n    6.5578    2.1946    0.5457 O   0  0  0  0  0  0  0  0  0  0  0  0\\n    3.4256    2.8872    0.7327 C   0  0  0  0  0  0  0  0  0  0  0  0\\n    2.1162    2.4273    0.6075 C   0  0  0  0  0  0  0  0  0  0  0  0\\n   -0.1864   -0.0398   -1.0682 C   0  0  1  0  0  0  0  0  0  0  0  0\\n    0.1521   -1.0057    0.0490 C   0  0  2  0  0  0  0  0  0  0  0  0\\n    1.6580   -1.1661    0.0373 C   0  0  0  0  0  0  0  0  0  0  0  0\\n    1.8843   -2.6002    0.5133 C   0  0  0  0  0  0  0  0  0  0  0  0\\n    0.7228   -3.2776   -0.2068 C   0  0  0  0  0  0  0  0  0  0  0  0\\n   -0.3665   -2.3020   -0.0180 N   0  0  0  0  0  0  0  0  0  0  0  0\\n   -0.9054   -2.6611    1.3130 C   0  0  0  0  0  0  0  0  0  0  0  0\\n   -4.6451    1.3677    2.0564 H   0  0  0  0  0  0  0  0  0  0  0  0\\n   -6.3349    0.8420    1.7335 H   0  0  0  0  0  0  0  0  0  0  0  0\\n   -5.1024   -0.3136    2.4353 H   0  0  0  0  0  0  0  0  0  0  0  0\\n   -4.4590    0.9104   -0.2074 H   0  0  0  0  0  0  0  0  0  0  0  0\\n   -5.7583   -0.3241   -0.1846 H   0  0  0  0  0  0  0  0  0  0  0  0\\n   -4.2386   -1.9118    0.9536 H   0  0  0  0  0  0  0  0  0  0  0  0\\n   -2.9536   -0.6828    1.0589 H   0  0  0  0  0  0  0  0  0  0  0  0\\n   -4.3704   -1.8308   -1.4152 H   0  0  0  0  0  0  0  0  0  0  0  0\\n   -2.7551   -2.3986   -0.8700 H   0  0  0  0  0  0  0  0  0  0  0  0\\n   -3.6247    0.2490   -2.0592 H   0  0  0  0  0  0  0  0  0  0  0  0\\n   -2.5651   -0.9416   -2.7869 H   0  0  0  0  0  0  0  0  0  0  0  0\\n   -0.6283    3.0538    0.0182 H   0  0  0  0  0  0  0  0  0  0  0  0\\n    2.3936    0.8668   -2.3191 H   0  0  0  0  0  0  0  0  0  0  0  0\\n    4.7186    1.6787   -2.1047 H   0  0  0  0  0  0  0  0  0  0  0  0\\n    5.6710    4.0786    0.4734 H   0  0  0  0  0  0  0  0  0  0  0  0\\n    6.1656    3.3845   -1.0775 H   0  0  0  0  0  0  0  0  0  0  0  0\\n    6.2719    2.1824    1.5074 H   0  0  0  0  0  0  0  0  0  0  0  0\\n    3.7419    3.4568    1.5785 H   0  0  0  0  0  0  0  0  0  0  0  0\\n    1.3977    2.6495    1.3839 H   0  0  0  0  0  0  0  0  0  0  0  0\\n    0.3410   -0.3476   -1.9994 H   0  0  0  0  0  0  0  0  0  0  0  0\\n   -0.1176   -0.5318    1.0375 H   0  0  0  0  0  0  0  0  0  0  0  0\\n    2.2129   -0.4493    0.6201 H   0  0  0  0  0  0  0  0  0  0  0  0\\n    2.0217   -1.1916   -1.0229 H   0  0  0  0  0  0  0  0  0  0  0  0\\n    2.8087   -3.0250    0.1026 H   0  0  0  0  0  0  0  0  0  0  0  0\\n    1.7873   -2.6985    1.5882 H   0  0  0  0  0  0  0  0  0  0  0  0\\n    0.8743   -3.3843   -1.2799 H   0  0  0  0  0  0  0  0  0  0  0  0\\n    0.4720   -4.2239    0.2704 H   0  0  0  0  0  0  0  0  0  0  0  0\\n   -0.9327   -1.7449    1.9693 H   0  0  0  0  0  0  0  0  0  0  0  0\\n   -0.2725   -3.3823    1.8444 H   0  0  0  0  0  0  0  0  0  0  0  0\\n   -1.9096   -3.0862    1.2564 H   0  0  0  0  0  0  0  0  0  0  0  0\\n  1  2  1  0\\n  2  3  1  0\\n  3  4  1  0\\n  4  5  1  0\\n  5  6  1  0\\n  6  7  2  0\\n  7  8  1  0\\n  8  9  1  0\\n  9 10  1  0\\n 10 11  2  0\\n 11 12  1  0\\n 12 13  2  0\\n 13 14  1  0\\n 14 15  1  0\\n 13 16  1  0\\n 16 17  2  0\\n  9 18  1  0\\n 18 19  1  0\\n 19 20  1  0\\n 20 21  1  0\\n 21 22  1  0\\n 22 23  1  0\\n 23 24  1  0\\n 18  6  1  0\\n 23 19  1  0\\n 17 10  1  0\\n  1 25  1  0\\n  1 26  1  0\\n  1 27  1  0\\n  2 28  1  0\\n  2 29  1  0\\n  3 30  1  0\\n  3 31  1  0\\n  4 32  1  0\\n  4 33  1  0\\n  5 34  1  0\\n  5 35  1  0\\n  8 36  1  0\\n 11 37  1  0\\n 12 38  1  0\\n 14 39  1  0\\n 14 40  1  0\\n 15 41  1  0\\n 16 42  1  0\\n 17 43  1  0\\n 18 44  1  6\\n 19 45  1  1\\n 20 46  1  0\\n 20 47  1  0\\n 21 48  1  0\\n 21 49  1  0\\n 22 50  1  0\\n 22 51  1  0\\n 24 52  1  0\\n 24 53  1  0\\n 24 54  1  0\\nM  END\\n\",\"mol\");\n\tviewer_16497000019978323.setStyle({\"stick\": {}});\n\tviewer_16497000019978323.setBackgroundColor(\"white\");\n\tviewer_16497000019978323.zoomTo();\nviewer_16497000019978323.render();\n});\n</script>",
            "text/html": [
              "<div id=\"3dmolviewer_16497000019978323\"  style=\"position: relative; width: 640px; height: 480px\">\n",
              "        <p id=\"3dmolwarning_16497000019978323\" style=\"background-color:#ffcccc;color:black\">You appear to be running in JupyterLab (or JavaScript failed to load for some other reason).  You need to install the 3dmol extension: <br>\n",
              "        <tt>jupyter labextension install jupyterlab_3dmol</tt></p>\n",
              "        </div>\n",
              "<script>\n",
              "\n",
              "var loadScriptAsync = function(uri){\n",
              "  return new Promise((resolve, reject) => {\n",
              "    var tag = document.createElement('script');\n",
              "    tag.src = uri;\n",
              "    tag.async = true;\n",
              "    tag.onload = () => {\n",
              "      resolve();\n",
              "    };\n",
              "  var firstScriptTag = document.getElementsByTagName('script')[0];\n",
              "  firstScriptTag.parentNode.insertBefore(tag, firstScriptTag);\n",
              "});\n",
              "};\n",
              "\n",
              "if(typeof $3Dmolpromise === 'undefined') {\n",
              "$3Dmolpromise = null;\n",
              "  $3Dmolpromise = loadScriptAsync('https://3dmol.org/build/3Dmol.js');\n",
              "}\n",
              "\n",
              "var viewer_16497000019978323 = null;\n",
              "var warn = document.getElementById(\"3dmolwarning_16497000019978323\");\n",
              "if(warn) {\n",
              "    warn.parentNode.removeChild(warn);\n",
              "}\n",
              "$3Dmolpromise.then(function() {\n",
              "viewer_16497000019978323 = $3Dmol.createViewer($(\"#3dmolviewer_16497000019978323\"),{backgroundColor:\"white\"});\n",
              "viewer_16497000019978323.zoomTo();\n",
              "\tviewer_16497000019978323.addModel(\"\\n     RDKit          3D\\n\\n 54 56  0  0  0  0  0  0  0  0999 V2000\\n   -5.2795    0.5001    1.7116 C   0  0  0  0  0  0  0  0  0  0  0  0\\n   -4.8578    0.0363    0.3408 C   0  0  0  0  0  0  0  0  0  0  0  0\\n   -3.7905   -1.0417    0.4327 C   0  0  0  0  0  0  0  0  0  0  0  0\\n   -3.3642   -1.5074   -0.9373 C   0  0  0  0  0  0  0  0  0  0  0  0\\n   -2.7769   -0.4587   -1.7864 C   0  0  0  0  0  0  0  0  0  0  0  0\\n   -1.5814    0.2588   -1.2960 C   0  0  0  0  0  0  0  0  0  0  0  0\\n   -1.8001    1.4667   -0.8182 N   0  0  0  0  0  0  0  0  0  0  0  0\\n   -0.6823    2.0925   -0.4088 N   0  0  0  0  0  0  0  0  0  0  0  0\\n    0.4086    1.2168   -0.6602 N   0  0  0  0  0  0  0  0  0  0  0  0\\n    1.7222    1.6885   -0.5000 C   0  0  0  0  0  0  0  0  0  0  0  0\\n    2.6809    1.4458   -1.4401 C   0  0  0  0  0  0  0  0  0  0  0  0\\n    3.9727    1.8777   -1.3553 C   0  0  0  0  0  0  0  0  0  0  0  0\\n    4.3459    2.6083   -0.2518 C   0  0  0  0  0  0  0  0  0  0  0  0\\n    5.7340    3.1083   -0.0978 C   0  0  0  0  0  0  0  0  0  0  0  0\\n    6.5578    2.1946    0.5457 O   0  0  0  0  0  0  0  0  0  0  0  0\\n    3.4256    2.8872    0.7327 C   0  0  0  0  0  0  0  0  0  0  0  0\\n    2.1162    2.4273    0.6075 C   0  0  0  0  0  0  0  0  0  0  0  0\\n   -0.1864   -0.0398   -1.0682 C   0  0  1  0  0  0  0  0  0  0  0  0\\n    0.1521   -1.0057    0.0490 C   0  0  2  0  0  0  0  0  0  0  0  0\\n    1.6580   -1.1661    0.0373 C   0  0  0  0  0  0  0  0  0  0  0  0\\n    1.8843   -2.6002    0.5133 C   0  0  0  0  0  0  0  0  0  0  0  0\\n    0.7228   -3.2776   -0.2068 C   0  0  0  0  0  0  0  0  0  0  0  0\\n   -0.3665   -2.3020   -0.0180 N   0  0  0  0  0  0  0  0  0  0  0  0\\n   -0.9054   -2.6611    1.3130 C   0  0  0  0  0  0  0  0  0  0  0  0\\n   -4.6451    1.3677    2.0564 H   0  0  0  0  0  0  0  0  0  0  0  0\\n   -6.3349    0.8420    1.7335 H   0  0  0  0  0  0  0  0  0  0  0  0\\n   -5.1024   -0.3136    2.4353 H   0  0  0  0  0  0  0  0  0  0  0  0\\n   -4.4590    0.9104   -0.2074 H   0  0  0  0  0  0  0  0  0  0  0  0\\n   -5.7583   -0.3241   -0.1846 H   0  0  0  0  0  0  0  0  0  0  0  0\\n   -4.2386   -1.9118    0.9536 H   0  0  0  0  0  0  0  0  0  0  0  0\\n   -2.9536   -0.6828    1.0589 H   0  0  0  0  0  0  0  0  0  0  0  0\\n   -4.3704   -1.8308   -1.4152 H   0  0  0  0  0  0  0  0  0  0  0  0\\n   -2.7551   -2.3986   -0.8700 H   0  0  0  0  0  0  0  0  0  0  0  0\\n   -3.6247    0.2490   -2.0592 H   0  0  0  0  0  0  0  0  0  0  0  0\\n   -2.5651   -0.9416   -2.7869 H   0  0  0  0  0  0  0  0  0  0  0  0\\n   -0.6283    3.0538    0.0182 H   0  0  0  0  0  0  0  0  0  0  0  0\\n    2.3936    0.8668   -2.3191 H   0  0  0  0  0  0  0  0  0  0  0  0\\n    4.7186    1.6787   -2.1047 H   0  0  0  0  0  0  0  0  0  0  0  0\\n    5.6710    4.0786    0.4734 H   0  0  0  0  0  0  0  0  0  0  0  0\\n    6.1656    3.3845   -1.0775 H   0  0  0  0  0  0  0  0  0  0  0  0\\n    6.2719    2.1824    1.5074 H   0  0  0  0  0  0  0  0  0  0  0  0\\n    3.7419    3.4568    1.5785 H   0  0  0  0  0  0  0  0  0  0  0  0\\n    1.3977    2.6495    1.3839 H   0  0  0  0  0  0  0  0  0  0  0  0\\n    0.3410   -0.3476   -1.9994 H   0  0  0  0  0  0  0  0  0  0  0  0\\n   -0.1176   -0.5318    1.0375 H   0  0  0  0  0  0  0  0  0  0  0  0\\n    2.2129   -0.4493    0.6201 H   0  0  0  0  0  0  0  0  0  0  0  0\\n    2.0217   -1.1916   -1.0229 H   0  0  0  0  0  0  0  0  0  0  0  0\\n    2.8087   -3.0250    0.1026 H   0  0  0  0  0  0  0  0  0  0  0  0\\n    1.7873   -2.6985    1.5882 H   0  0  0  0  0  0  0  0  0  0  0  0\\n    0.8743   -3.3843   -1.2799 H   0  0  0  0  0  0  0  0  0  0  0  0\\n    0.4720   -4.2239    0.2704 H   0  0  0  0  0  0  0  0  0  0  0  0\\n   -0.9327   -1.7449    1.9693 H   0  0  0  0  0  0  0  0  0  0  0  0\\n   -0.2725   -3.3823    1.8444 H   0  0  0  0  0  0  0  0  0  0  0  0\\n   -1.9096   -3.0862    1.2564 H   0  0  0  0  0  0  0  0  0  0  0  0\\n  1  2  1  0\\n  2  3  1  0\\n  3  4  1  0\\n  4  5  1  0\\n  5  6  1  0\\n  6  7  2  0\\n  7  8  1  0\\n  8  9  1  0\\n  9 10  1  0\\n 10 11  2  0\\n 11 12  1  0\\n 12 13  2  0\\n 13 14  1  0\\n 14 15  1  0\\n 13 16  1  0\\n 16 17  2  0\\n  9 18  1  0\\n 18 19  1  0\\n 19 20  1  0\\n 20 21  1  0\\n 21 22  1  0\\n 22 23  1  0\\n 23 24  1  0\\n 18  6  1  0\\n 23 19  1  0\\n 17 10  1  0\\n  1 25  1  0\\n  1 26  1  0\\n  1 27  1  0\\n  2 28  1  0\\n  2 29  1  0\\n  3 30  1  0\\n  3 31  1  0\\n  4 32  1  0\\n  4 33  1  0\\n  5 34  1  0\\n  5 35  1  0\\n  8 36  1  0\\n 11 37  1  0\\n 12 38  1  0\\n 14 39  1  0\\n 14 40  1  0\\n 15 41  1  0\\n 16 42  1  0\\n 17 43  1  0\\n 18 44  1  6\\n 19 45  1  1\\n 20 46  1  0\\n 20 47  1  0\\n 21 48  1  0\\n 21 49  1  0\\n 22 50  1  0\\n 22 51  1  0\\n 24 52  1  0\\n 24 53  1  0\\n 24 54  1  0\\nM  END\\n\",\"mol\");\n",
              "\tviewer_16497000019978323.setStyle({\"stick\": {}});\n",
              "\tviewer_16497000019978323.setBackgroundColor(\"white\");\n",
              "\tviewer_16497000019978323.zoomTo();\n",
              "viewer_16497000019978323.render();\n",
              "});\n",
              "</script>"
            ]
          },
          "metadata": {}
        }
      ]
    },
    {
      "cell_type": "code",
      "source": [
        "mol = Chem.AddHs(mols[mol_index])\n",
        "Draw.MolToImage(mol)"
      ],
      "metadata": {
        "colab": {
          "base_uri": "https://localhost:8080/",
          "height": 317
        },
        "id": "LpCtmo1eROsU",
        "outputId": "8053934e-fdd5-40ce-e49d-6c85dc8c7258"
      },
      "execution_count": null,
      "outputs": [
        {
          "output_type": "execute_result",
          "data": {
            "text/plain": [
              "<PIL.PngImagePlugin.PngImageFile image mode=RGB size=300x300 at 0x7FD2971C7150>"
            ],
            "image/png": "[encoded data removed]"
          },
          "metadata": {},
          "execution_count": 142
        }
      ]
    }
  ],
  "metadata": {
    "kernelspec": {
      "display_name": "Python 3",
      "language": "python",
      "name": "python3"
    },
    "language_info": {
      "codemirror_mode": {
        "name": "ipython",
        "version": 2
      },
      "file_extension": ".py",
      "mimetype": "text/x-python",
      "name": "python",
      "nbconvert_exporter": "python",
      "pygments_lexer": "ipython2",
      "version": "2.7.6"
    },
    "colab": {
      "name": "lstm_net.ipynb",
      "provenance": [],
      "collapsed_sections": []
    },
    "accelerator": "GPU"
  },
  "nbformat": 4,
  "nbformat_minor": 0
}