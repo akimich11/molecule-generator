{
 "cells": [
  {
   "cell_type": "markdown",
   "metadata": {
    "id": "PajqXzD7-Syy"
   },
   "source": [
    "## Some imports"
   ]
  },
  {
   "cell_type": "code",
   "execution_count": 22,
   "metadata": {
    "id": "o1JsuEnM9bRb",
    "pycharm": {
     "name": "#%%\n"
    }
   },
   "outputs": [],
   "source": [
    "import os\n",
    "import pandas as pd\n",
    "import numpy as np\n",
    "from rdkit import Chem\n",
    "from rdkit.Chem import Draw, Descriptors\n",
    "from matplotlib import pyplot as plt\n",
    "\n",
    "from keras.models import Model\n",
    "from keras.layers import Input\n",
    "from keras.layers import LSTM\n",
    "from keras.layers import Dense\n",
    "from keras.layers import Concatenate\n",
    "from keras.layers import BatchNormalization\n",
    "from keras import regularizers\n",
    "from tensorflow.keras.utils import plot_model\n",
    "from tensorflow.keras.optimizers import Adam\n",
    "\n",
    "from sklearn.model_selection import train_test_split"
   ]
  },
  {
   "cell_type": "markdown",
   "metadata": {
    "id": "ptoVzozSCM7m"
   },
   "source": [
    "## Data preprocessing\n",
    "Dataset contains drug-like compounds which are potential inhibitors of GP120 - CD4 interaction. Compounds are stored in SMILES format. Also data contains binding energy for molecules."
   ]
  },
  {
   "cell_type": "code",
   "execution_count": 23,
   "metadata": {
    "colab": {
     "base_uri": "https://localhost:8080/",
     "height": 0
    },
    "id": "uL67MCpO9bRi",
    "outputId": "581f82b9-de46-48c1-8c9d-5053a4691f75",
    "pycharm": {
     "name": "#%%\n"
    }
   },
   "outputs": [
    {
     "data": {
      "text/html": [
       "<div>\n",
       "<style scoped>\n",
       "    .dataframe tbody tr th:only-of-type {\n",
       "        vertical-align: middle;\n",
       "    }\n",
       "\n",
       "    .dataframe tbody tr th {\n",
       "        vertical-align: top;\n",
       "    }\n",
       "\n",
       "    .dataframe thead th {\n",
       "        text-align: right;\n",
       "    }\n",
       "</style>\n",
       "<table border=\"1\" class=\"dataframe\">\n",
       "  <thead>\n",
       "    <tr style=\"text-align: right;\">\n",
       "      <th></th>\n",
       "      <th>energy</th>\n",
       "      <th>smiles</th>\n",
       "    </tr>\n",
       "  </thead>\n",
       "  <tbody>\n",
       "    <tr>\n",
       "      <th>0</th>\n",
       "      <td>-8.1</td>\n",
       "      <td>Cc1ccc(C(=O)CN2NN=C(C3CC3)[C@@H]2c2ccccc2F)cc1</td>\n",
       "    </tr>\n",
       "    <tr>\n",
       "      <th>1</th>\n",
       "      <td>-8.0</td>\n",
       "      <td>CCOC1=CC(=O)[C@@H](CC2=NNN(CC(=O)c3ccc(C)cc3)[...</td>\n",
       "    </tr>\n",
       "    <tr>\n",
       "      <th>2</th>\n",
       "      <td>-7.7</td>\n",
       "      <td>Cc1ccc(C(=O)CN2NN=C(CNC(C)(C)CO)[C@H]2C(C)(C)C...</td>\n",
       "    </tr>\n",
       "    <tr>\n",
       "      <th>3</th>\n",
       "      <td>-7.1</td>\n",
       "      <td>Cc1ccc(OC[C@H]2C(CN3CCOCC3)=NNN2CC(=O)c2ccc(C)...</td>\n",
       "    </tr>\n",
       "    <tr>\n",
       "      <th>4</th>\n",
       "      <td>-6.8</td>\n",
       "      <td>Cc1ccc(C(=O)CN2NN=C(CCO)[C@@H]2C2(O)CC2)cc1</td>\n",
       "    </tr>\n",
       "  </tbody>\n",
       "</table>\n",
       "</div>"
      ],
      "text/plain": [
       "   energy                                             smiles\n",
       "0    -8.1     Cc1ccc(C(=O)CN2NN=C(C3CC3)[C@@H]2c2ccccc2F)cc1\n",
       "1    -8.0  CCOC1=CC(=O)[C@@H](CC2=NNN(CC(=O)c3ccc(C)cc3)[...\n",
       "2    -7.7  Cc1ccc(C(=O)CN2NN=C(CNC(C)(C)CO)[C@H]2C(C)(C)C...\n",
       "3    -7.1  Cc1ccc(OC[C@H]2C(CN3CCOCC3)=NNN2CC(=O)c2ccc(C)...\n",
       "4    -6.8        Cc1ccc(C(=O)CN2NN=C(CCO)[C@@H]2C2(O)CC2)cc1"
      ]
     },
     "execution_count": 23,
     "metadata": {},
     "output_type": "execute_result"
    }
   ],
   "source": [
    "smifile = 'gp120_cleaned.csv'\n",
    "data = pd.read_csv(smifile, header=0)\n",
    "del data['babel_smiles'], data['filepath_smi']\n",
    "data.head()"
   ]
  },
  {
   "cell_type": "markdown",
   "metadata": {
    "id": "Xj_pTtWeP5vi"
   },
   "source": [
    "### Train and test sets creation"
   ]
  },
  {
   "cell_type": "code",
   "execution_count": 24,
   "metadata": {
    "colab": {
     "base_uri": "https://localhost:8080/"
    },
    "id": "6hGC5ZQq9bRi",
    "outputId": "700009a5-ea1d-42f9-9d62-27669961ab58",
    "pycharm": {
     "name": "#%%\n"
    }
   },
   "outputs": [
    {
     "name": "stdout",
     "output_type": "stream",
     "text": [
      "(57130,)\n",
      "(14283,)\n"
     ]
    }
   ],
   "source": [
    "full_train = data.sample(frac=0.8, random_state=42) \n",
    "full_test = data.drop(full_train.index)\n",
    "\n",
    "smiles_train, energy_train = full_train.smiles, full_train.energy\n",
    "smiles_test, energy_test = full_test.smiles, full_test.energy\n",
    "\n",
    "\n",
    "print(smiles_train.shape)\n",
    "print(smiles_test.shape)"
   ]
  },
  {
   "cell_type": "markdown",
   "metadata": {
    "id": "PR8SRe3pQXq-"
   },
   "source": [
    "### SMILES alphabet"
   ]
  },
  {
   "cell_type": "code",
   "execution_count": 25,
   "metadata": {
    "colab": {
     "base_uri": "https://localhost:8080/"
    },
    "id": "3oh9zC159bRk",
    "outputId": "3e9296c0-6fdf-4c0f-b4ce-96c102dc7381",
    "pycharm": {
     "name": "#%%\n"
    }
   },
   "outputs": [
    {
     "name": "stdout",
     "output_type": "stream",
     "text": [
      "alphabet size: 32\n",
      "max smiles len: 95\n"
     ]
    }
   ],
   "source": [
    "charset = set(\"\".join(list(data.smiles)) + \"!E\")\n",
    "char_to_int = dict((c, i) for i, c in enumerate(charset))\n",
    "int_to_char = dict((i, c) for i, c in enumerate(charset))\n",
    "embed = max([len(smile) for smile in data.smiles]) + 5\n",
    "\n",
    "print(f'alphabet size: {len(charset)}')\n",
    "print(f'max smiles len: {embed}')"
   ]
  },
  {
   "cell_type": "markdown",
   "metadata": {
    "id": "9TikSkEf7zx1"
   },
   "source": [
    "### SMILES length distribution"
   ]
  },
  {
   "cell_type": "code",
   "execution_count": 26,
   "metadata": {
    "colab": {
     "base_uri": "https://localhost:8080/",
     "height": 0
    },
    "id": "QFp1LKa27-c-",
    "outputId": "3c417e39-db0e-431c-c853-37cc943cf950"
   },
   "outputs": [
    {
     "data": {
      "image/png": "[encoded data removed]",
      "text/plain": [
       "<Figure size 1080x504 with 1 Axes>"
      ]
     },
     "metadata": {
      "needs_background": "light"
     },
     "output_type": "display_data"
    }
   ],
   "source": [
    "data['smiles_len'] = np.array([len(smiles) for smiles in data.smiles])\n",
    "frequencies = data.smiles_len.value_counts()\n",
    "\n",
    "plt.rcParams[\"figure.figsize\"] = (15, 7)\n",
    "plt.bar(frequencies.index, frequencies)\n",
    "plt.xlabel('smiles_len')\n",
    "plt.ylabel('frequency')\n",
    "plt.show()"
   ]
  },
  {
   "cell_type": "markdown",
   "metadata": {
    "id": "1x4w2aeD8KD3"
   },
   "source": [
    "### Distribution of chars frequencies"
   ]
  },
  {
   "cell_type": "code",
   "execution_count": 27,
   "metadata": {
    "colab": {
     "base_uri": "https://localhost:8080/",
     "height": 0
    },
    "id": "-7dJowR78RqB",
    "outputId": "04017dcc-62be-44cc-b816-b7bd761608ad"
   },
   "outputs": [
    {
     "data": {
      "text/html": [
       "<div>\n",
       "<style scoped>\n",
       "    .dataframe tbody tr th:only-of-type {\n",
       "        vertical-align: middle;\n",
       "    }\n",
       "\n",
       "    .dataframe tbody tr th {\n",
       "        vertical-align: top;\n",
       "    }\n",
       "\n",
       "    .dataframe thead th {\n",
       "        text-align: right;\n",
       "    }\n",
       "</style>\n",
       "<table border=\"1\" class=\"dataframe\">\n",
       "  <thead>\n",
       "    <tr style=\"text-align: right;\">\n",
       "      <th></th>\n",
       "      <th>frequency</th>\n",
       "    </tr>\n",
       "  </thead>\n",
       "  <tbody>\n",
       "    <tr>\n",
       "      <th>6</th>\n",
       "      <td>2</td>\n",
       "    </tr>\n",
       "    <tr>\n",
       "      <th>.</th>\n",
       "      <td>25</td>\n",
       "    </tr>\n",
       "    <tr>\n",
       "      <th>P</th>\n",
       "      <td>27</td>\n",
       "    </tr>\n",
       "    <tr>\n",
       "      <th>I</th>\n",
       "      <td>30</td>\n",
       "    </tr>\n",
       "    <tr>\n",
       "      <th>5</th>\n",
       "      <td>94</td>\n",
       "    </tr>\n",
       "    <tr>\n",
       "      <th>\\</th>\n",
       "      <td>1198</td>\n",
       "    </tr>\n",
       "    <tr>\n",
       "      <th>o</th>\n",
       "      <td>1795</td>\n",
       "    </tr>\n",
       "    <tr>\n",
       "      <th>s</th>\n",
       "      <td>2097</td>\n",
       "    </tr>\n",
       "    <tr>\n",
       "      <th>/</th>\n",
       "      <td>5044</td>\n",
       "    </tr>\n",
       "    <tr>\n",
       "      <th>+</th>\n",
       "      <td>5671</td>\n",
       "    </tr>\n",
       "  </tbody>\n",
       "</table>\n",
       "</div>"
      ],
      "text/plain": [
       "   frequency\n",
       "6          2\n",
       ".         25\n",
       "P         27\n",
       "I         30\n",
       "5         94\n",
       "\\       1198\n",
       "o       1795\n",
       "s       2097\n",
       "/       5044\n",
       "+       5671"
      ]
     },
     "execution_count": 27,
     "metadata": {},
     "output_type": "execute_result"
    }
   ],
   "source": [
    "from copy import deepcopy\n",
    "\n",
    "def count_char_freq(char):\n",
    "    return sum([smile.count(char) for smile in data.smiles])\n",
    "\n",
    "tmp_char_set = deepcopy(charset)\n",
    "tmp_char_set.remove('!')\n",
    "tmp_char_set.remove('E')\n",
    "tmp_char_set = list(tmp_char_set)\n",
    "\n",
    "\n",
    "char_freqs = np.array([count_char_freq(char) for char in tmp_char_set])\n",
    "freqs_df = pd.DataFrame(char_freqs, index=tmp_char_set, columns=['frequency'])\n",
    "freqs_df = freqs_df.sort_values('frequency')\n",
    "freqs_df[:10]"
   ]
  },
  {
   "cell_type": "code",
   "execution_count": 28,
   "metadata": {
    "colab": {
     "base_uri": "https://localhost:8080/",
     "height": 0
    },
    "id": "CN6Qtoi68ULa",
    "outputId": "0857eb62-39ec-4c3e-8c1e-8b1611433a2f"
   },
   "outputs": [
    {
     "data": {
      "image/png": "[encoded data removed]",
      "text/plain": [
       "<Figure size 1080x504 with 1 Axes>"
      ]
     },
     "metadata": {
      "needs_background": "light"
     },
     "output_type": "display_data"
    }
   ],
   "source": [
    "plt.rcParams[\"figure.figsize\"] = (15, 7)\n",
    "plt.bar(freqs_df.index, freqs_df.frequency)\n",
    "plt.show()"
   ]
  },
  {
   "cell_type": "markdown",
   "metadata": {
    "id": "jOAcO80ER_QS"
   },
   "source": [
    "### SMILES vectorization"
   ]
  },
  {
   "cell_type": "code",
   "execution_count": 29,
   "metadata": {
    "id": "MFCYodFQ9bRl",
    "pycharm": {
     "name": "#%%\n"
    }
   },
   "outputs": [],
   "source": [
    "def vectorize(smiles):\n",
    "    one_hot = np.zeros((smiles.shape[0], embed, len(charset)), dtype=np.int8)\n",
    "    for i, smile in enumerate(smiles):\n",
    "        one_hot[i, 0, char_to_int[\"!\"]] = 1\n",
    "        for j, c in enumerate(smile):\n",
    "            one_hot[i, j + 1, char_to_int[c]] = 1\n",
    "        one_hot[i, len(smile) + 1:, char_to_int[\"E\"]] = 1\n",
    "    return one_hot[:, 0:-1, :], one_hot[:, 1:, :]"
   ]
  },
  {
   "cell_type": "code",
   "execution_count": 30,
   "metadata": {
    "colab": {
     "base_uri": "https://localhost:8080/",
     "height": 0
    },
    "id": "YB3YngJC9bRm",
    "outputId": "9d452c94-3bc1-4226-8e82-a46fc1e2fa33",
    "pycharm": {
     "name": "#%%\n"
    }
   },
   "outputs": [
    {
     "name": "stdout",
     "output_type": "stream",
     "text": [
      "CC[C@@](C)(OC(C)=O)[C@H]1C(CN2CCOCC2)=NNN1CCc1ccc(-c2ncc[nH]2)cc1\n"
     ]
    },
    {
     "data": {
      "image/png": "[encoded data removed]",
      "text/plain": [
       "<Figure size 1152x392.17 with 1 Axes>"
      ]
     },
     "metadata": {
      "needs_background": "light"
     },
     "output_type": "display_data"
    }
   ],
   "source": [
    "X_train, Y_train = vectorize(smiles_train.values)\n",
    "X_test, Y_test = vectorize(smiles_test.values)\n",
    "print(smiles_train.iloc[0])\n",
    "plt.matshow(X_train[0].T)\n",
    "plt.show()"
   ]
  },
  {
   "cell_type": "markdown",
   "metadata": {
    "id": "NeaFQYLIfR0u"
   },
   "source": [
    "### Binding energy scaling\n",
    "Actually, I don't know if scaling of energy is a good idea, but without scaling model generates only invalid SMILES. After energy scaling generated compounds are valid, but I suppose that model can just treat this feature as useless and new compounds don't have expected binding energy. Maybe adding `BatchNormalization` layers to decoder will be useful."
   ]
  },
  {
   "cell_type": "code",
   "execution_count": 31,
   "metadata": {
    "id": "EM7DAsZmfQ5G"
   },
   "outputs": [],
   "source": [
    "from sklearn.preprocessing import MinMaxScaler\n",
    "\n",
    "energy_train = energy_train.to_frame()\n",
    "energy_test = energy_test.to_frame()\n",
    "\n",
    "sc = MinMaxScaler().fit(energy_train)\n",
    "energy_train = sc.transform(energy_train)\n",
    "energy_test = sc.transform(energy_test)"
   ]
  },
  {
   "cell_type": "markdown",
   "metadata": {
    "id": "aKzezrHS8nee"
   },
   "source": [
    "## Model definition and training"
   ]
  },
  {
   "cell_type": "code",
   "execution_count": 64,
   "metadata": {
    "id": "NYK7ai3L9bRn",
    "pycharm": {
     "name": "#%%\n"
    }
   },
   "outputs": [],
   "source": [
    "input_shape = X_train.shape[1:]\n",
    "output_dim = Y_train.shape[-1]\n",
    "latent_dim = 64\n",
    "lstm_dim = 128\n",
    "\n",
    "unroll = False\n",
    "encoder_inputs = Input(shape=input_shape, name='Smiles_input_1')\n",
    "\n",
    "encoder_lstm = LSTM(lstm_dim, return_state=True,\n",
    "                    unroll=unroll, name='Encoder_lstm')\n",
    "\n",
    "encoder_outputs, state_h, state_c = encoder_lstm(encoder_inputs)\n",
    "\n",
    "states = Concatenate(axis=-1, name='States_concat')([state_h, state_c])\n",
    "neck = Dense(latent_dim, activation=\"relu\", name='Encoder_neck')\n",
    "neck_outputs = neck(states)\n",
    "\n",
    "free_energy_inputs = Input(shape=(1,), name='Energy_input')\n",
    "concatenate = Concatenate(axis=-1, name='Energy_concat')\n",
    "energy_concat = concatenate([neck_outputs, free_energy_inputs])\n",
    "\n",
    "decode_h = Dense(lstm_dim, name='State_h_decoder', activation=\"relu\")\n",
    "decode_c = Dense(lstm_dim, name='State_c_decoder', activation=\"relu\")\n",
    "state_h_decoded = decode_h(energy_concat)\n",
    "state_c_decoded = decode_c(energy_concat)\n",
    "\n",
    "encoder_states = [state_h_decoded, state_c_decoded]\n",
    "decoder_inputs = Input(shape=input_shape, name='Smiles_input_2')\n",
    "\n",
    "\n",
    "decoder_lstm = LSTM(lstm_dim,\n",
    "                    return_sequences=True,\n",
    "                    unroll=unroll,\n",
    "                    name='Decoder_lstm'\n",
    "                    )\n",
    "decoder_outputs = decoder_lstm(decoder_inputs, initial_state=encoder_states)\n",
    "decoder_dense = Dense(output_dim, activation='softmax', name='Decoder_output')\n",
    "decoder_outputs = decoder_dense(decoder_outputs)"
   ]
  },
  {
   "cell_type": "code",
   "execution_count": 65,
   "metadata": {
    "colab": {
     "base_uri": "https://localhost:8080/"
    },
    "id": "WCY05NxqGM5d",
    "outputId": "655b363e-6496-448f-b702-6ef256bf8ca7"
   },
   "outputs": [
    {
     "name": "stdout",
     "output_type": "stream",
     "text": [
      "You must install pydot (`pip install pydot`) and install graphviz (see instructions at https://graphviz.gitlab.io/download/) for plot_model/model_to_dot to work.\n",
      "Model: \"Lstm_autoencoder\"\n",
      "__________________________________________________________________________________________________\n",
      " Layer (type)                   Output Shape         Param #     Connected to                     \n",
      "==================================================================================================\n",
      " Smiles_input_1 (InputLayer)    [(None, 94, 32)]     0           []                               \n",
      "                                                                                                  \n",
      " Encoder_lstm (LSTM)            [(None, 128),        82432       ['Smiles_input_1[0][0]']         \n",
      "                                 (None, 128),                                                     \n",
      "                                 (None, 128)]                                                     \n",
      "                                                                                                  \n",
      " States_concat (Concatenate)    (None, 256)          0           ['Encoder_lstm[0][1]',           \n",
      "                                                                  'Encoder_lstm[0][2]']           \n",
      "                                                                                                  \n",
      " Encoder_neck (Dense)           (None, 64)           16448       ['States_concat[0][0]']          \n",
      "                                                                                                  \n",
      " Energy_input (InputLayer)      [(None, 1)]          0           []                               \n",
      "                                                                                                  \n",
      " Energy_concat (Concatenate)    (None, 65)           0           ['Encoder_neck[0][0]',           \n",
      "                                                                  'Energy_input[0][0]']           \n",
      "                                                                                                  \n",
      " Smiles_input_2 (InputLayer)    [(None, 94, 32)]     0           []                               \n",
      "                                                                                                  \n",
      " State_h_decoder (Dense)        (None, 128)          8448        ['Energy_concat[0][0]']          \n",
      "                                                                                                  \n",
      " State_c_decoder (Dense)        (None, 128)          8448        ['Energy_concat[0][0]']          \n",
      "                                                                                                  \n",
      " Decoder_lstm (LSTM)            (None, 94, 128)      82432       ['Smiles_input_2[0][0]',         \n",
      "                                                                  'State_h_decoder[0][0]',        \n",
      "                                                                  'State_c_decoder[0][0]']        \n",
      "                                                                                                  \n",
      " Decoder_output (Dense)         (None, 94, 32)       4128        ['Decoder_lstm[0][0]']           \n",
      "                                                                                                  \n",
      "==================================================================================================\n",
      "Total params: 202,336\n",
      "Trainable params: 202,336\n",
      "Non-trainable params: 0\n",
      "__________________________________________________________________________________________________\n",
      "None\n"
     ]
    }
   ],
   "source": [
    "model = Model([encoder_inputs, decoder_inputs, free_energy_inputs], decoder_outputs, name='Lstm_autoencoder')\n",
    "plot_model(model, to_file='model.png', show_layer_activations=True)\n",
    "print(model.summary())"
   ]
  },
  {
   "cell_type": "code",
   "execution_count": 66,
   "metadata": {
    "id": "JTYpIgFN9bRp",
    "pycharm": {
     "name": "#%%\n"
    }
   },
   "outputs": [],
   "source": [
    "from keras.callbacks import History, ReduceLROnPlateau\n",
    "h = History()\n",
    "rlr = ReduceLROnPlateau(monitor='val_loss', factor=0.5, patience=2, min_lr=0.000001, verbose=1, min_delta=1e-5)\n",
    "\n",
    "opt = Adam(learning_rate=0.005)\n",
    "model.compile(optimizer=opt, loss='categorical_crossentropy')"
   ]
  },
  {
   "cell_type": "code",
   "execution_count": 67,
   "metadata": {
    "id": "jjpTMv3VnCd7"
   },
   "outputs": [],
   "source": [
    "import pickle\n",
    "\n",
    "def save_history():\n",
    "    with open(\"Blog_history.pickle\", \"wb\") as f:\n",
    "        pickle.dump(h.history, f)\n",
    "\n",
    "def load_history():\n",
    "    with open(\"Blog_history.pickle\", \"rb\") as f:\n",
    "        return pickle.load(f)"
   ]
  },
  {
   "cell_type": "code",
   "execution_count": 68,
   "metadata": {
    "colab": {
     "base_uri": "https://localhost:8080/"
    },
    "id": "4yJbmbRn9bRq",
    "outputId": "88349455-cfb9-4ffd-fe14-4ef03d77a650",
    "pycharm": {
     "name": "#%%\n"
    }
   },
   "outputs": [
    {
     "name": "stdout",
     "output_type": "stream",
     "text": [
      "Epoch 1/75\n",
      "224/224 [==============================] - 12s 42ms/step - loss: 0.8683 - val_loss: 0.4370 - lr: 0.0050\n",
      "Epoch 2/75\n",
      "224/224 [==============================] - 8s 37ms/step - loss: 0.3383 - val_loss: 0.2824 - lr: 0.0050\n",
      "Epoch 3/75\n",
      "224/224 [==============================] - 8s 37ms/step - loss: 0.2581 - val_loss: 0.2449 - lr: 0.0050\n",
      "Epoch 4/75\n",
      "224/224 [==============================] - 8s 37ms/step - loss: 0.2282 - val_loss: 0.2188 - lr: 0.0050\n",
      "Epoch 5/75\n",
      "224/224 [==============================] - 8s 37ms/step - loss: 0.2073 - val_loss: 0.2013 - lr: 0.0050\n",
      "Epoch 6/75\n",
      "224/224 [==============================] - 8s 38ms/step - loss: 0.1944 - val_loss: 0.1891 - lr: 0.0050\n",
      "Epoch 7/75\n",
      "224/224 [==============================] - 10s 44ms/step - loss: 0.1805 - val_loss: 0.1775 - lr: 0.0050\n",
      "Epoch 8/75\n",
      "224/224 [==============================] - 9s 40ms/step - loss: 0.1707 - val_loss: 0.1692 - lr: 0.0050\n",
      "Epoch 9/75\n",
      "224/224 [==============================] - 9s 39ms/step - loss: 0.1627 - val_loss: 0.1607 - lr: 0.0050\n",
      "Epoch 10/75\n",
      "224/224 [==============================] - 9s 39ms/step - loss: 0.1563 - val_loss: 0.1584 - lr: 0.0050\n",
      "Epoch 11/75\n",
      "224/224 [==============================] - 9s 39ms/step - loss: 0.1514 - val_loss: 0.1517 - lr: 0.0050\n",
      "Epoch 12/75\n",
      "224/224 [==============================] - 9s 39ms/step - loss: 0.1520 - val_loss: 0.1498 - lr: 0.0050\n",
      "Epoch 13/75\n",
      "224/224 [==============================] - 9s 40ms/step - loss: 0.1446 - val_loss: 0.1449 - lr: 0.0050\n",
      "Epoch 14/75\n",
      "224/224 [==============================] - 9s 39ms/step - loss: 0.1419 - val_loss: 0.1510 - lr: 0.0050\n",
      "Epoch 15/75\n",
      "224/224 [==============================] - 9s 38ms/step - loss: 0.1387 - val_loss: 0.1389 - lr: 0.0050\n",
      "Epoch 16/75\n",
      "224/224 [==============================] - 9s 39ms/step - loss: 0.1361 - val_loss: 0.1409 - lr: 0.0050\n",
      "Epoch 17/75\n",
      "224/224 [==============================] - 9s 39ms/step - loss: 0.1326 - val_loss: 0.1320 - lr: 0.0050\n",
      "Epoch 18/75\n",
      "224/224 [==============================] - 9s 39ms/step - loss: 0.1285 - val_loss: 0.1444 - lr: 0.0050\n",
      "Epoch 19/75\n",
      "223/224 [============================>.] - ETA: 0s - loss: 0.1240\n",
      "Epoch 19: ReduceLROnPlateau reducing learning rate to 0.0024999999441206455.\n",
      "224/224 [==============================] - 9s 39ms/step - loss: 0.1240 - val_loss: 0.1435 - lr: 0.0050\n",
      "Epoch 20/75\n",
      "224/224 [==============================] - 9s 39ms/step - loss: 0.1150 - val_loss: 0.1153 - lr: 0.0025\n",
      "Epoch 21/75\n",
      "224/224 [==============================] - 9s 39ms/step - loss: 0.1114 - val_loss: 0.1131 - lr: 0.0025\n",
      "Epoch 22/75\n",
      "224/224 [==============================] - 9s 39ms/step - loss: 0.1096 - val_loss: 0.1189 - lr: 0.0025\n",
      "Epoch 23/75\n",
      "224/224 [==============================] - 9s 40ms/step - loss: 0.1072 - val_loss: 0.1092 - lr: 0.0025\n",
      "Epoch 24/75\n",
      "224/224 [==============================] - 8s 38ms/step - loss: 0.1060 - val_loss: 0.1066 - lr: 0.0025\n",
      "Epoch 25/75\n",
      "224/224 [==============================] - 9s 40ms/step - loss: 0.1033 - val_loss: 0.1065 - lr: 0.0025\n",
      "Epoch 26/75\n",
      "224/224 [==============================] - 9s 40ms/step - loss: 0.1019 - val_loss: 0.1051 - lr: 0.0025\n",
      "Epoch 27/75\n",
      "224/224 [==============================] - 9s 39ms/step - loss: 0.0998 - val_loss: 0.1046 - lr: 0.0025\n",
      "Epoch 28/75\n",
      "224/224 [==============================] - 9s 38ms/step - loss: 0.0985 - val_loss: 0.1014 - lr: 0.0025\n",
      "Epoch 29/75\n",
      "224/224 [==============================] - 9s 39ms/step - loss: 0.0973 - val_loss: 0.1022 - lr: 0.0025\n",
      "Epoch 30/75\n",
      "224/224 [==============================] - 9s 39ms/step - loss: 0.0960 - val_loss: 0.0984 - lr: 0.0025\n",
      "Epoch 31/75\n",
      "224/224 [==============================] - 9s 39ms/step - loss: 0.0948 - val_loss: 0.0976 - lr: 0.0025\n",
      "Epoch 32/75\n",
      "224/224 [==============================] - 9s 42ms/step - loss: 0.0925 - val_loss: 0.0962 - lr: 0.0025\n",
      "Epoch 33/75\n",
      "224/224 [==============================] - 9s 41ms/step - loss: 0.0914 - val_loss: 0.0971 - lr: 0.0025\n",
      "Epoch 34/75\n",
      "224/224 [==============================] - 9s 38ms/step - loss: 0.0907 - val_loss: 0.0932 - lr: 0.0025\n",
      "Epoch 35/75\n",
      "224/224 [==============================] - 9s 38ms/step - loss: 0.0894 - val_loss: 0.0921 - lr: 0.0025\n",
      "Epoch 36/75\n",
      "224/224 [==============================] - 9s 38ms/step - loss: 0.0886 - val_loss: 0.0938 - lr: 0.0025\n",
      "Epoch 37/75\n",
      "224/224 [==============================] - 9s 39ms/step - loss: 0.0891 - val_loss: 0.0902 - lr: 0.0025\n",
      "Epoch 38/75\n",
      "224/224 [==============================] - 9s 39ms/step - loss: 0.0852 - val_loss: 0.0881 - lr: 0.0025\n",
      "Epoch 39/75\n",
      "224/224 [==============================] - 9s 39ms/step - loss: 0.0851 - val_loss: 0.0915 - lr: 0.0025\n",
      "Epoch 40/75\n",
      "224/224 [==============================] - ETA: 0s - loss: 0.0834\n",
      "Epoch 40: ReduceLROnPlateau reducing learning rate to 0.0012499999720603228.\n",
      "224/224 [==============================] - 9s 39ms/step - loss: 0.0834 - val_loss: 0.0932 - lr: 0.0025\n",
      "Epoch 41/75\n",
      "224/224 [==============================] - 9s 39ms/step - loss: 0.0775 - val_loss: 0.0805 - lr: 0.0012\n",
      "Epoch 42/75\n",
      "224/224 [==============================] - 9s 39ms/step - loss: 0.0752 - val_loss: 0.0794 - lr: 0.0012\n",
      "Epoch 43/75\n",
      "224/224 [==============================] - 9s 39ms/step - loss: 0.0740 - val_loss: 0.0785 - lr: 0.0012\n",
      "Epoch 44/75\n",
      "224/224 [==============================] - 9s 38ms/step - loss: 0.0732 - val_loss: 0.0770 - lr: 0.0012\n",
      "Epoch 45/75\n",
      "224/224 [==============================] - 9s 39ms/step - loss: 0.0726 - val_loss: 0.0791 - lr: 0.0012\n",
      "Epoch 46/75\n",
      "224/224 [==============================] - 9s 39ms/step - loss: 0.0719 - val_loss: 0.0751 - lr: 0.0012\n",
      "Epoch 47/75\n",
      "224/224 [==============================] - 9s 39ms/step - loss: 0.0704 - val_loss: 0.0748 - lr: 0.0012\n",
      "Epoch 48/75\n",
      "224/224 [==============================] - 9s 39ms/step - loss: 0.0700 - val_loss: 0.0757 - lr: 0.0012\n",
      "Epoch 49/75\n",
      "224/224 [==============================] - 9s 38ms/step - loss: 0.0686 - val_loss: 0.0732 - lr: 0.0012\n",
      "Epoch 50/75\n",
      "224/224 [==============================] - 9s 38ms/step - loss: 0.0676 - val_loss: 0.0730 - lr: 0.0012\n",
      "Epoch 51/75\n",
      "224/224 [==============================] - 9s 40ms/step - loss: 0.0665 - val_loss: 0.0707 - lr: 0.0012\n",
      "Epoch 52/75\n",
      "224/224 [==============================] - 9s 38ms/step - loss: 0.0653 - val_loss: 0.0690 - lr: 0.0012\n",
      "Epoch 53/75\n",
      "224/224 [==============================] - 9s 40ms/step - loss: 0.0641 - val_loss: 0.0686 - lr: 0.0012\n",
      "Epoch 54/75\n",
      "224/224 [==============================] - 8s 38ms/step - loss: 0.0631 - val_loss: 0.0701 - lr: 0.0012\n",
      "Epoch 55/75\n",
      "224/224 [==============================] - 8s 38ms/step - loss: 0.0628 - val_loss: 0.0675 - lr: 0.0012\n",
      "Epoch 56/75\n",
      "224/224 [==============================] - 8s 37ms/step - loss: 0.0612 - val_loss: 0.0646 - lr: 0.0012\n",
      "Epoch 57/75\n",
      "224/224 [==============================] - 8s 37ms/step - loss: 0.0601 - val_loss: 0.0650 - lr: 0.0012\n",
      "Epoch 58/75\n",
      "224/224 [==============================] - 8s 38ms/step - loss: 0.0591 - val_loss: 0.0636 - lr: 0.0012\n",
      "Epoch 59/75\n",
      "224/224 [==============================] - 8s 38ms/step - loss: 0.0588 - val_loss: 0.0657 - lr: 0.0012\n",
      "Epoch 60/75\n",
      "223/224 [============================>.] - ETA: 0s - loss: 0.0580\n",
      "Epoch 60: ReduceLROnPlateau reducing learning rate to 0.0006249999860301614.\n",
      "224/224 [==============================] - 8s 38ms/step - loss: 0.0580 - val_loss: 0.0740 - lr: 0.0012\n",
      "Epoch 61/75\n",
      "224/224 [==============================] - 9s 40ms/step - loss: 0.0547 - val_loss: 0.0588 - lr: 6.2500e-04\n",
      "Epoch 62/75\n",
      "224/224 [==============================] - 9s 39ms/step - loss: 0.0533 - val_loss: 0.0583 - lr: 6.2500e-04\n",
      "Epoch 63/75\n",
      "224/224 [==============================] - 9s 38ms/step - loss: 0.0529 - val_loss: 0.0577 - lr: 6.2500e-04\n",
      "Epoch 64/75\n",
      "224/224 [==============================] - 9s 38ms/step - loss: 0.0526 - val_loss: 0.0584 - lr: 6.2500e-04\n",
      "Epoch 65/75\n",
      "224/224 [==============================] - 8s 38ms/step - loss: 0.0521 - val_loss: 0.0568 - lr: 6.2500e-04\n",
      "Epoch 66/75\n",
      "224/224 [==============================] - 8s 37ms/step - loss: 0.0514 - val_loss: 0.0564 - lr: 6.2500e-04\n",
      "Epoch 67/75\n",
      "224/224 [==============================] - 8s 38ms/step - loss: 0.0510 - val_loss: 0.0563 - lr: 6.2500e-04\n",
      "Epoch 68/75\n",
      "224/224 [==============================] - 8s 36ms/step - loss: 0.0504 - val_loss: 0.0552 - lr: 6.2500e-04\n",
      "Epoch 69/75\n",
      "224/224 [==============================] - 8s 37ms/step - loss: 0.0497 - val_loss: 0.0552 - lr: 6.2500e-04\n",
      "Epoch 70/75\n",
      "224/224 [==============================] - 8s 37ms/step - loss: 0.0506 - val_loss: 0.0551 - lr: 6.2500e-04\n",
      "Epoch 71/75\n",
      "224/224 [==============================] - 8s 38ms/step - loss: 0.0488 - val_loss: 0.0543 - lr: 6.2500e-04\n",
      "Epoch 72/75\n",
      "224/224 [==============================] - 9s 38ms/step - loss: 0.0478 - val_loss: 0.0531 - lr: 6.2500e-04\n",
      "Epoch 73/75\n",
      "224/224 [==============================] - 9s 38ms/step - loss: 0.0484 - val_loss: 0.0527 - lr: 6.2500e-04\n",
      "Epoch 74/75\n",
      "224/224 [==============================] - 9s 38ms/step - loss: 0.0468 - val_loss: 0.0520 - lr: 6.2500e-04\n",
      "Epoch 75/75\n",
      "224/224 [==============================] - 9s 38ms/step - loss: 0.0474 - val_loss: 0.0539 - lr: 6.2500e-04\n"
     ]
    },
    {
     "data": {
      "text/plain": [
       "<keras.callbacks.History at 0x7fab48361b80>"
      ]
     },
     "execution_count": 68,
     "metadata": {},
     "output_type": "execute_result"
    }
   ],
   "source": [
    "model.fit([X_train, X_train, energy_train], Y_train,\n",
    "                    epochs=75,\n",
    "                    batch_size=256,\n",
    "                    shuffle=True,\n",
    "                    callbacks=[h, rlr],\n",
    "                    validation_data=([X_test, X_test, energy_test], Y_test))"
   ]
  },
  {
   "cell_type": "code",
   "execution_count": 71,
   "metadata": {
    "colab": {
     "base_uri": "https://localhost:8080/",
     "height": 428
    },
    "id": "2MmLLOOg9bRs",
    "outputId": "18a959e0-55e1-4a4e-c259-233f9c11da84",
    "pycharm": {
     "name": "#%%\n"
    }
   },
   "outputs": [
    {
     "data": {
      "image/png": "[encoded data removed]",
      "text/plain": [
       "<Figure size 1080x504 with 1 Axes>"
      ]
     },
     "metadata": {
      "needs_background": "light"
     },
     "output_type": "display_data"
    }
   ],
   "source": [
    "save_history()\n",
    "\n",
    "plt.plot(h.history[\"loss\"], label=\"Loss\")\n",
    "plt.plot(h.history[\"val_loss\"], label=\"Val_Loss\")\n",
    "\n",
    "plt.yscale(\"log\")\n",
    "plt.legend()\n",
    "plt.show()"
   ]
  },
  {
   "cell_type": "markdown",
   "metadata": {
    "id": "NnPhik6S87I_"
   },
   "source": [
    "## Model splitting into encoder and decoder"
   ]
  },
  {
   "cell_type": "code",
   "execution_count": 72,
   "metadata": {
    "id": "8jnhdSx_9bRs",
    "pycharm": {
     "name": "#%%\n"
    }
   },
   "outputs": [],
   "source": [
    "smiles_to_latent_model = Model(encoder_inputs, neck_outputs)"
   ]
  },
  {
   "cell_type": "code",
   "execution_count": 73,
   "metadata": {
    "colab": {
     "base_uri": "https://localhost:8080/"
    },
    "id": "sCjvxQedD8vH",
    "outputId": "18343ba5-3c1d-4790-b032-7125d2d5757d"
   },
   "outputs": [
    {
     "name": "stdout",
     "output_type": "stream",
     "text": [
      "Model: \"model_4\"\n",
      "__________________________________________________________________________________________________\n",
      " Layer (type)                   Output Shape         Param #     Connected to                     \n",
      "==================================================================================================\n",
      " input_4 (InputLayer)           [(None, 64)]         0           []                               \n",
      "                                                                                                  \n",
      " input_5 (InputLayer)           [(None, 1)]          0           []                               \n",
      "                                                                                                  \n",
      " Energy_concat (Concatenate)    (None, 65)           0           ['input_4[0][0]',                \n",
      "                                                                  'input_5[0][0]']                \n",
      "                                                                                                  \n",
      " State_h_decoder (Dense)        (None, 128)          8448        ['Energy_concat[1][0]']          \n",
      "                                                                                                  \n",
      " State_c_decoder (Dense)        (None, 128)          8448        ['Energy_concat[1][0]']          \n",
      "                                                                                                  \n",
      "==================================================================================================\n",
      "Total params: 16,896\n",
      "Trainable params: 16,896\n",
      "Non-trainable params: 0\n",
      "__________________________________________________________________________________________________\n"
     ]
    }
   ],
   "source": [
    "latent_input = Input(shape=(latent_dim,))\n",
    "energy_input = Input(shape=(1,))\n",
    "\n",
    "energy_concat_2 = concatenate([latent_input, energy_input])\n",
    "\n",
    "state_h_decoded_2 = decode_h(energy_concat_2)\n",
    "state_c_decoded_2 = decode_c(energy_concat_2)\n",
    "\n",
    "latent_to_states_model = Model([latent_input, energy_input], \n",
    "                               [state_h_decoded_2, state_c_decoded_2])\n",
    "latent_to_states_model.summary()"
   ]
  },
  {
   "cell_type": "code",
   "execution_count": 74,
   "metadata": {
    "id": "YgHP2EuKEC-_"
   },
   "outputs": [],
   "source": [
    "inf_decoder_inputs = Input(batch_shape=(1, 1, input_shape[1]))\n",
    "\n",
    "inf_decoder_lstm = LSTM(lstm_dim,\n",
    "                    return_sequences=True,\n",
    "                    unroll=unroll,\n",
    "                    stateful=True\n",
    "                   )\n",
    "inf_decoder_outputs = inf_decoder_lstm(inf_decoder_inputs)\n",
    "inf_decoder_dense = Dense(output_dim, activation='softmax')\n",
    "inf_decoder_outputs = inf_decoder_dense(inf_decoder_outputs)\n",
    "sample_model = Model(inf_decoder_inputs, inf_decoder_outputs)"
   ]
  },
  {
   "cell_type": "code",
   "execution_count": 75,
   "metadata": {
    "colab": {
     "base_uri": "https://localhost:8080/"
    },
    "id": "-puMWe2MEFoh",
    "outputId": "e36a7904-eca3-4d11-ffb3-b80e87e18c2c"
   },
   "outputs": [
    {
     "name": "stdout",
     "output_type": "stream",
     "text": [
      "Model: \"model_5\"\n",
      "_________________________________________________________________\n",
      " Layer (type)                Output Shape              Param #   \n",
      "=================================================================\n",
      " input_6 (InputLayer)        [(1, 1, 32)]              0         \n",
      "                                                                 \n",
      " lstm_1 (LSTM)               (1, 1, 128)               82432     \n",
      "                                                                 \n",
      " dense_1 (Dense)             (1, 1, 32)                4128      \n",
      "                                                                 \n",
      "=================================================================\n",
      "Total params: 86,560\n",
      "Trainable params: 86,560\n",
      "Non-trainable params: 0\n",
      "_________________________________________________________________\n"
     ]
    }
   ],
   "source": [
    "sample_model.layers[1].set_weights(model.layers[-2].get_weights())\n",
    "sample_model.layers[2].set_weights(model.layers[-1].get_weights())\n",
    "\n",
    "sample_model.summary()"
   ]
  },
  {
   "cell_type": "code",
   "execution_count": null,
   "metadata": {},
   "outputs": [],
   "source": [
    "model.save('autoencoder_model')\n",
    "smiles_to_latent_model.save('autoencoder_smiles_to_latent_model')\n",
    "latent_to_states_model.save('autoencoder_latent_to_states_model')\n",
    "sample_model.save('autoencoder_sample_model')"
   ]
  },
  {
   "cell_type": "markdown",
   "metadata": {
    "id": "UIHyudwF9_bL"
   },
   "source": [
    "## New compounds generation"
   ]
  },
  {
   "cell_type": "code",
   "execution_count": null,
   "metadata": {},
   "outputs": [],
   "source": [
    "model = keras.models.load_model('autoencoder_model')\n",
    "smiles_to_latent_model = keras.models.load_model('autoencoder_smiles_to_latent_model')\n",
    "latent_to_states_model = keras.models.load_model('autoencoder_latent_to_states_model')\n",
    "sample_model = keras.models.load_model('autoencoder_sample_model')"
   ]
  },
  {
   "cell_type": "markdown",
   "metadata": {
    "id": "iRHuda6Nr5MW"
   },
   "source": [
    "### Latent space creation"
   ]
  },
  {
   "cell_type": "code",
   "execution_count": 76,
   "metadata": {
    "id": "i-lBQT2kD0lh"
   },
   "outputs": [],
   "source": [
    "x_latent = smiles_to_latent_model.predict(X_test)"
   ]
  },
  {
   "cell_type": "markdown",
   "metadata": {
    "id": "MkpoMt7zr_Gg"
   },
   "source": [
    "### Converting from latent space to SMILES"
   ]
  },
  {
   "cell_type": "code",
   "execution_count": 77,
   "metadata": {
    "id": "d5b7JmsmDXzk"
   },
   "outputs": [],
   "source": [
    "def latent_to_smiles(latent, free_energy):\n",
    "    states = latent_to_states_model.predict([latent, free_energy])\n",
    "    sample_model.layers[1].reset_states(states=[states[0], states[1]])\n",
    "    # adding start char\n",
    "    startidx = char_to_int[\"!\"]\n",
    "    samplevec = np.zeros((1, 1, len(charset)))\n",
    "    samplevec[0,0,startidx] = 1\n",
    "    smiles = \"\"\n",
    "    # predict next symbol\n",
    "    for i in range(embed):\n",
    "        o = sample_model.predict(samplevec)\n",
    "        sampleidx = np.argmax(o)\n",
    "        samplechar = int_to_char[sampleidx]\n",
    "        if samplechar != \"E\":\n",
    "            smiles = smiles + int_to_char[sampleidx]\n",
    "            samplevec = np.zeros((1, 1, len(charset)))\n",
    "            samplevec[0,0,sampleidx] = 1\n",
    "        else:\n",
    "            break\n",
    "    return smiles"
   ]
  },
  {
   "cell_type": "code",
   "execution_count": 78,
   "metadata": {
    "colab": {
     "base_uri": "https://localhost:8080/"
    },
    "id": "-QMUdFmXDc8J",
    "outputId": "714a31e0-67e3-4abc-eeea-8ceb559e1c70"
   },
   "outputs": [
    {
     "name": "stdout",
     "output_type": "stream",
     "text": [
      "CCCCC1=NNN(CC(=O)c2ccc(C)cc2)[C@H]1c1cncc(C(=O)O)c1\n",
      "CCCNCC1=NNN(CC(=O)c2ccc(C)cc2)[C@@H]1c1ccccc1\n"
     ]
    }
   ],
   "source": [
    "# comparing original molecule with reconstructed via autoencoder\n",
    "\n",
    "compound_index = 20\n",
    "\n",
    "free_energy = energy_test[compound_index]\n",
    "\n",
    "smiles = latent_to_smiles(x_latent[compound_index:compound_index + 1], free_energy)\n",
    "print(smiles)\n",
    "print(smiles_test.iloc[compound_index])"
   ]
  },
  {
   "cell_type": "markdown",
   "metadata": {
    "id": "CScSWPbTW5HQ"
   },
   "source": [
    "### Testing validity of generated SMILES\n",
    "To test if SMILES are reconstructed correctly, 500 compounds from test set were passed through autoencoder, and then some checks were performed."
   ]
  },
  {
   "cell_type": "code",
   "execution_count": null,
   "metadata": {
    "colab": {
     "base_uri": "https://localhost:8080/"
    },
    "id": "6I3WOTae6UN4",
    "outputId": "7a1f9fc3-d709-49bd-ab72-9fe3e29896ed"
   },
   "outputs": [
    {
     "name": "stderr",
     "output_type": "stream",
     "text": [
      "██████████ : 100.00% | valid: 98.20% | equal: 1.20% | elapsed: 24:20 | remaining: 00:00\n"
     ]
    }
   ],
   "source": [
    "from tqdm import tqdm\n",
    "\n",
    "\n",
    "equal_smiles = 0\n",
    "valid_smiles = 0\n",
    "\n",
    "my_range = range(500)\n",
    "\n",
    "with tqdm(my_range, \n",
    "          bar_format=\"{bar} : {percentage:.2f}% | \"\n",
    "                     \"valid: {postfix[0]:.2f}% | \"\n",
    "                     \"equal: {postfix[1]:.2f}% | \"\n",
    "                     \"elapsed: {elapsed} | \"\n",
    "                     \"remaining: {remaining}\", \n",
    "          postfix=[0, 0]) as t:\n",
    "    for i in my_range:\n",
    "        smiles = latent_to_smiles(x_latent[i:i + 1], energy_test[i])\n",
    "        if smiles == smiles_test.iloc[i]:\n",
    "            equal_smiles += 1\n",
    "            valid_smiles += 1  \n",
    "        elif Chem.MolFromSmiles(smiles):\n",
    "            valid_smiles += 1\n",
    "        t.postfix[0] = valid_smiles / (i + 1) * 100\n",
    "        t.postfix[1] = equal_smiles / (i + 1) * 100\n",
    "        t.update()\n"
   ]
  },
  {
   "cell_type": "markdown",
   "metadata": {
    "id": "ClVmq-sQjOsy"
   },
   "source": [
    "### Calculating binding energy\n",
    "We will use average energy of inhibitors from dataset, which is $\\approx -6.9$"
   ]
  },
  {
   "cell_type": "code",
   "execution_count": null,
   "metadata": {
    "colab": {
     "base_uri": "https://localhost:8080/"
    },
    "id": "og8ed3SVhquK",
    "outputId": "8cca0bdd-fecc-4af2-be6f-63bfc8de8053"
   },
   "outputs": [],
   "source": [
    "free_energy = np.mean(data.energy)\n",
    "free_energy = sc.transform(pd.DataFrame([free_energy]))"
   ]
  },
  {
   "cell_type": "markdown",
   "metadata": {
    "id": "DjCrPeVfsFFb"
   },
   "source": [
    "### Generation from latent space with noise adding\n",
    "To generate new compounds, we can add random noise vector to `x_latent` and get molecules with similar properties. Also we can set the binding energy we want to achieve."
   ]
  },
  {
   "cell_type": "code",
   "execution_count": 99,
   "metadata": {},
   "outputs": [],
   "source": [
    "def update_progress_bar(t, i, base_mols, unique_mols_per_it, same_mols, invalid_mols, scale, unique_mols_total):\n",
    "    t.postfix[0] = (i + 1) * 100 / base_mols\n",
    "    t.postfix[1] = unique_mols_per_it\n",
    "    t.postfix[2] = same_mols\n",
    "    t.postfix[3] = invalid_mols\n",
    "    t.postfix[4] = scale\n",
    "    t.postfix[5] = unique_mols_total\n",
    "    t.update()"
   ]
  },
  {
   "cell_type": "code",
   "execution_count": 101,
   "metadata": {
    "colab": {
     "base_uri": "https://localhost:8080/",
     "height": 411
    },
    "id": "PL8No9ZrlVXu",
    "outputId": "c60a3252-4c31-4520-c7f6-a74028cbe005"
   },
   "outputs": [
    {
     "name": "stderr",
     "output_type": "stream",
     "text": [
      "100.0% | unique/it: 5 | same: 8 | invalid: 1 | scale: 1.0 | unique total: 836 | elapsed: 2:27:03 | \n"
     ]
    }
   ],
   "source": [
    "from tqdm import tqdm\n",
    "from rdkit import RDLogger\n",
    "\n",
    "\n",
    "RDLogger.DisableLog('rdApp.*')\n",
    "\n",
    "base_mols = 200\n",
    "unique_mols_total = 0\n",
    "\n",
    "smiles_dict = {smiles_test.iloc[i]: [] for i in range(base_mols)}\n",
    "smiles_enumerate = enumerate(smiles_dict)\n",
    "\n",
    "\n",
    "with tqdm(smiles_enumerate, \n",
    "          bar_format=\"{postfix[0]:.1f}% | \"\n",
    "                     \"unique/it: {postfix[1]} | \"\n",
    "                     \"same: {postfix[2]} | \"\n",
    "                     \"invalid: {postfix[3]} | \"\n",
    "                     \"scale: {postfix[4]:.1f} | \"\n",
    "                     \"unique total: {postfix[5]} | \"\n",
    "                     \"elapsed: {elapsed} | \", postfix = [0] * 6) as t:\n",
    "\n",
    "    for i, smiles in smiles_enumerate:\n",
    "        scale = 0.1\n",
    "        same_mols = invalid_mols = unique_mols_per_it = 0\n",
    "        unique_mols = set()\n",
    "        latent = x_latent[i:i + 1]\n",
    "\n",
    "        update_progress_bar(t, i, base_mols, unique_mols_per_it, same_mols, invalid_mols, scale, unique_mols_total)\n",
    "\n",
    "        while unique_mols_per_it < 5:\n",
    "            latent_r = latent + scale * (np.random.randn(latent.shape[1]))\n",
    "            new_smiles = latent_to_smiles(latent_r, free_energy)\n",
    "            mol = Chem.MolFromSmiles(new_smiles)\n",
    "            if mol:\n",
    "                if new_smiles not in unique_mols and new_smiles != smiles:\n",
    "                    unique_mols.add(new_smiles)\n",
    "                    unique_mols_per_it += 1\n",
    "                    unique_mols_total += 1\n",
    "                else:\n",
    "                    same_mols += 1\n",
    "            else:\n",
    "                invalid_mols += 1\n",
    "\n",
    "            if same_mols > 5:\n",
    "                scale += 0.1\n",
    "\n",
    "            if invalid_mols > 5 or scale > 1.5:\n",
    "                break\n",
    "\n",
    "            update_progress_bar(t, i, base_mols, unique_mols_per_it, same_mols, invalid_mols, scale, unique_mols_total)\n",
    "\n",
    "        smiles_dict[smiles] = list(unique_mols)"
   ]
  },
  {
   "cell_type": "code",
   "execution_count": 103,
   "metadata": {},
   "outputs": [],
   "source": [
    "import json\n",
    "\n",
    "\n",
    "with open('new_compounds.json', 'w') as f:\n",
    "    json.dump(smiles_dict, f, indent=4)"
   ]
  },
  {
   "cell_type": "markdown",
   "metadata": {
    "id": "fDP2r-bs-Hfs"
   },
   "source": [
    "## Generated molecules visualization\n",
    "There are 2D and 3D structures of molecules generated based on first compound from test set."
   ]
  },
  {
   "cell_type": "code",
   "execution_count": 107,
   "metadata": {},
   "outputs": [
    {
     "data": {
      "image/png": "[encoded data removed]",
      "text/plain": [
       "<IPython.core.display.Image object>"
      ]
     },
     "execution_count": 107,
     "metadata": {},
     "output_type": "execute_result"
    }
   ],
   "source": [
    "mols = [Chem.MolFromSmiles(smiles) for smiles in smiles_dict[smiles_test.iloc[0]]]\n",
    "Draw.MolsToGridImage(mols, molsPerRow=3)"
   ]
  },
  {
   "cell_type": "code",
   "execution_count": 110,
   "metadata": {
    "colab": {
     "base_uri": "https://localhost:8080/",
     "height": 515
    },
    "id": "OrPKMSyBLktL",
    "outputId": "f6dfda0e-1cf9-4b73-c2dc-c7f48a9a2cd6"
   },
   "outputs": [
    {
     "name": "stdout",
     "output_type": "stream",
     "text": [
      "Cc1ccc(C2=NNN(C[C@@H]3COc4ccccc4O3)[C@H]2C(=O)O)cc1\n"
     ]
    },
    {
     "data": {
      "application/3dmoljs_load.v0": "<div id=\"3dmolviewer_1649853644885212\"  style=\"position: relative; width: 640px; height: 480px\">\n        <p id=\"3dmolwarning_1649853644885212\" style=\"background-color:#ffcccc;color:black\">You appear to be running in JupyterLab (or JavaScript failed to load for some other reason).  You need to install the 3dmol extension: <br>\n        <tt>jupyter labextension install jupyterlab_3dmol</tt></p>\n        </div>\n<script>\n\nvar loadScriptAsync = function(uri){\n  return new Promise((resolve, reject) => {\n    var tag = document.createElement('script');\n    tag.src = uri;\n    tag.async = true;\n    tag.onload = () => {\n      resolve();\n    };\n  var firstScriptTag = document.getElementsByTagName('script')[0];\n  firstScriptTag.parentNode.insertBefore(tag, firstScriptTag);\n});\n};\n\nif(typeof $3Dmolpromise === 'undefined') {\n$3Dmolpromise = null;\n  $3Dmolpromise = loadScriptAsync('https://3dmol.org/build/3Dmol.js');\n}\n\nvar viewer_1649853644885212 = null;\nvar warn = document.getElementById(\"3dmolwarning_1649853644885212\");\nif(warn) {\n    warn.parentNode.removeChild(warn);\n}\n$3Dmolpromise.then(function() {\nviewer_1649853644885212 = $3Dmol.createViewer($(\"#3dmolviewer_1649853644885212\"),{backgroundColor:\"white\"});\nviewer_1649853644885212.zoomTo();\n\tviewer_1649853644885212.addModel(\"\\n     RDKit          3D\\n\\n 45 48  0  0  0  0  0  0  0  0999 V2000\\n   -7.6797    1.4016    0.7992 C   0  0  0  0  0  0  0  0  0  0  0  0\\n   -6.2429    1.1094    0.5341 C   0  0  0  0  0  0  0  0  0  0  0  0\\n   -5.3633    2.0857    0.1444 C   0  0  0  0  0  0  0  0  0  0  0  0\\n   -4.0331    1.8451   -0.1068 C   0  0  0  0  0  0  0  0  0  0  0  0\\n   -3.4915    0.5554    0.0252 C   0  0  0  0  0  0  0  0  0  0  0  0\\n   -2.0794    0.3576   -0.2744 C   0  0  0  0  0  0  0  0  0  0  0  0\\n   -1.3286    1.3337   -0.7795 N   0  0  0  0  0  0  0  0  0  0  0  0\\n   -0.0396    0.9105   -0.9801 N   0  0  0  0  0  0  0  0  0  0  0  0\\n    0.1507   -0.1199   -0.0431 N   0  0  0  0  0  0  0  0  0  0  0  0\\n    1.1697   -1.0450   -0.4890 C   0  0  0  0  0  0  0  0  0  0  0  0\\n    2.5149   -0.5634   -0.0909 C   0  0  2  0  0  0  0  0  0  0  0  0\\n    2.8344    0.8678   -0.3398 C   0  0  0  0  0  0  0  0  0  0  0  0\\n    4.1315    1.1766    0.2069 O   0  0  0  0  0  0  0  0  0  0  0  0\\n    5.1537    0.2579    0.0726 C   0  0  0  0  0  0  0  0  0  0  0  0\\n    6.4645    0.6305    0.3057 C   0  0  0  0  0  0  0  0  0  0  0  0\\n    7.4695   -0.2828    0.1711 C   0  0  0  0  0  0  0  0  0  0  0  0\\n    7.2208   -1.5711   -0.1917 C   0  0  0  0  0  0  0  0  0  0  0  0\\n    5.9321   -1.9534   -0.4250 C   0  0  0  0  0  0  0  0  0  0  0  0\\n    4.9024   -1.0319   -0.2909 C   0  0  0  0  0  0  0  0  0  0  0  0\\n    3.5735   -1.4146   -0.5279 O   0  0  0  0  0  0  0  0  0  0  0  0\\n   -1.1934   -0.7863   -0.0933 C   0  0  1  0  0  0  0  0  0  0  0  0\\n   -1.2598   -1.4586    1.2342 C   0  0  0  0  0  0  0  0  0  0  0  0\\n   -1.9592   -2.4583    1.4696 O   0  0  0  0  0  0  0  0  0  0  0  0\\n   -0.4868   -0.9325    2.2879 O   0  0  0  0  0  0  0  0  0  0  0  0\\n   -4.3662   -0.4090    0.4098 C   0  0  0  0  0  0  0  0  0  0  0  0\\n   -5.7318   -0.1641    0.6686 C   0  0  0  0  0  0  0  0  0  0  0  0\\n   -8.2704    1.2023   -0.0966 H   0  0  0  0  0  0  0  0  0  0  0  0\\n   -7.7808    2.5085    0.9875 H   0  0  0  0  0  0  0  0  0  0  0  0\\n   -8.0256    0.8799    1.7079 H   0  0  0  0  0  0  0  0  0  0  0  0\\n   -5.7731    3.0910    0.0399 H   0  0  0  0  0  0  0  0  0  0  0  0\\n   -3.3661    2.6574   -0.4156 H   0  0  0  0  0  0  0  0  0  0  0  0\\n    0.6652    1.2354   -1.6628 H   0  0  0  0  0  0  0  0  0  0  0  0\\n    1.0446   -1.1476   -1.5928 H   0  0  0  0  0  0  0  0  0  0  0  0\\n    0.9920   -2.0309    0.0194 H   0  0  0  0  0  0  0  0  0  0  0  0\\n    2.5550   -0.6990    1.0512 H   0  0  0  0  0  0  0  0  0  0  0  0\\n    2.1486    1.5981    0.1150 H   0  0  0  0  0  0  0  0  0  0  0  0\\n    2.9394    1.0877   -1.4117 H   0  0  0  0  0  0  0  0  0  0  0  0\\n    6.6725    1.6519    0.5937 H   0  0  0  0  0  0  0  0  0  0  0  0\\n    8.4997    0.0175    0.3588 H   0  0  0  0  0  0  0  0  0  0  0  0\\n    8.0262   -2.2954   -0.2962 H   0  0  0  0  0  0  0  0  0  0  0  0\\n    5.6615   -2.9598   -0.7161 H   0  0  0  0  0  0  0  0  0  0  0  0\\n   -1.2694   -1.4733   -0.9275 H   0  0  0  0  0  0  0  0  0  0  0  0\\n   -0.6248   -1.2669    3.2445 H   0  0  0  0  0  0  0  0  0  0  0  0\\n   -4.0043   -1.4129    0.4987 H   0  0  0  0  0  0  0  0  0  0  0  0\\n   -6.3525   -0.9846    0.9727 H   0  0  0  0  0  0  0  0  0  0  0  0\\n  1  2  1  0\\n  2  3  2  0\\n  3  4  1  0\\n  4  5  2  0\\n  5  6  1  0\\n  6  7  2  0\\n  7  8  1  0\\n  8  9  1  0\\n  9 10  1  0\\n 10 11  1  0\\n 11 12  1  0\\n 12 13  1  0\\n 13 14  1  0\\n 14 15  2  0\\n 15 16  1  0\\n 16 17  2  0\\n 17 18  1  0\\n 18 19  2  0\\n 19 20  1  0\\n  9 21  1  0\\n 21 22  1  0\\n 22 23  2  0\\n 22 24  1  0\\n  5 25  1  0\\n 25 26  2  0\\n 26  2  1  0\\n 21  6  1  0\\n 20 11  1  0\\n 19 14  1  0\\n  1 27  1  0\\n  1 28  1  0\\n  1 29  1  0\\n  3 30  1  0\\n  4 31  1  0\\n  8 32  1  0\\n 10 33  1  0\\n 10 34  1  0\\n 11 35  1  1\\n 12 36  1  0\\n 12 37  1  0\\n 15 38  1  0\\n 16 39  1  0\\n 17 40  1  0\\n 18 41  1  0\\n 21 42  1  6\\n 24 43  1  0\\n 25 44  1  0\\n 26 45  1  0\\nM  END\\n\",\"mol\");\n\tviewer_1649853644885212.setStyle({\"stick\": {}});\n\tviewer_1649853644885212.setBackgroundColor(\"white\");\n\tviewer_1649853644885212.zoomTo();\nviewer_1649853644885212.render();\n});\n</script>",
      "text/html": [
       "<div id=\"3dmolviewer_1649853644885212\"  style=\"position: relative; width: 640px; height: 480px\">\n",
       "        <p id=\"3dmolwarning_1649853644885212\" style=\"background-color:#ffcccc;color:black\">You appear to be running in JupyterLab (or JavaScript failed to load for some other reason).  You need to install the 3dmol extension: <br>\n",
       "        <tt>jupyter labextension install jupyterlab_3dmol</tt></p>\n",
       "        </div>\n",
       "<script>\n",
       "\n",
       "var loadScriptAsync = function(uri){\n",
       "  return new Promise((resolve, reject) => {\n",
       "    var tag = document.createElement('script');\n",
       "    tag.src = uri;\n",
       "    tag.async = true;\n",
       "    tag.onload = () => {\n",
       "      resolve();\n",
       "    };\n",
       "  var firstScriptTag = document.getElementsByTagName('script')[0];\n",
       "  firstScriptTag.parentNode.insertBefore(tag, firstScriptTag);\n",
       "});\n",
       "};\n",
       "\n",
       "if(typeof $3Dmolpromise === 'undefined') {\n",
       "$3Dmolpromise = null;\n",
       "  $3Dmolpromise = loadScriptAsync('https://3dmol.org/build/3Dmol.js');\n",
       "}\n",
       "\n",
       "var viewer_1649853644885212 = null;\n",
       "var warn = document.getElementById(\"3dmolwarning_1649853644885212\");\n",
       "if(warn) {\n",
       "    warn.parentNode.removeChild(warn);\n",
       "}\n",
       "$3Dmolpromise.then(function() {\n",
       "viewer_1649853644885212 = $3Dmol.createViewer($(\"#3dmolviewer_1649853644885212\"),{backgroundColor:\"white\"});\n",
       "viewer_1649853644885212.zoomTo();\n",
       "\tviewer_1649853644885212.addModel(\"\\n     RDKit          3D\\n\\n 45 48  0  0  0  0  0  0  0  0999 V2000\\n   -7.6797    1.4016    0.7992 C   0  0  0  0  0  0  0  0  0  0  0  0\\n   -6.2429    1.1094    0.5341 C   0  0  0  0  0  0  0  0  0  0  0  0\\n   -5.3633    2.0857    0.1444 C   0  0  0  0  0  0  0  0  0  0  0  0\\n   -4.0331    1.8451   -0.1068 C   0  0  0  0  0  0  0  0  0  0  0  0\\n   -3.4915    0.5554    0.0252 C   0  0  0  0  0  0  0  0  0  0  0  0\\n   -2.0794    0.3576   -0.2744 C   0  0  0  0  0  0  0  0  0  0  0  0\\n   -1.3286    1.3337   -0.7795 N   0  0  0  0  0  0  0  0  0  0  0  0\\n   -0.0396    0.9105   -0.9801 N   0  0  0  0  0  0  0  0  0  0  0  0\\n    0.1507   -0.1199   -0.0431 N   0  0  0  0  0  0  0  0  0  0  0  0\\n    1.1697   -1.0450   -0.4890 C   0  0  0  0  0  0  0  0  0  0  0  0\\n    2.5149   -0.5634   -0.0909 C   0  0  2  0  0  0  0  0  0  0  0  0\\n    2.8344    0.8678   -0.3398 C   0  0  0  0  0  0  0  0  0  0  0  0\\n    4.1315    1.1766    0.2069 O   0  0  0  0  0  0  0  0  0  0  0  0\\n    5.1537    0.2579    0.0726 C   0  0  0  0  0  0  0  0  0  0  0  0\\n    6.4645    0.6305    0.3057 C   0  0  0  0  0  0  0  0  0  0  0  0\\n    7.4695   -0.2828    0.1711 C   0  0  0  0  0  0  0  0  0  0  0  0\\n    7.2208   -1.5711   -0.1917 C   0  0  0  0  0  0  0  0  0  0  0  0\\n    5.9321   -1.9534   -0.4250 C   0  0  0  0  0  0  0  0  0  0  0  0\\n    4.9024   -1.0319   -0.2909 C   0  0  0  0  0  0  0  0  0  0  0  0\\n    3.5735   -1.4146   -0.5279 O   0  0  0  0  0  0  0  0  0  0  0  0\\n   -1.1934   -0.7863   -0.0933 C   0  0  1  0  0  0  0  0  0  0  0  0\\n   -1.2598   -1.4586    1.2342 C   0  0  0  0  0  0  0  0  0  0  0  0\\n   -1.9592   -2.4583    1.4696 O   0  0  0  0  0  0  0  0  0  0  0  0\\n   -0.4868   -0.9325    2.2879 O   0  0  0  0  0  0  0  0  0  0  0  0\\n   -4.3662   -0.4090    0.4098 C   0  0  0  0  0  0  0  0  0  0  0  0\\n   -5.7318   -0.1641    0.6686 C   0  0  0  0  0  0  0  0  0  0  0  0\\n   -8.2704    1.2023   -0.0966 H   0  0  0  0  0  0  0  0  0  0  0  0\\n   -7.7808    2.5085    0.9875 H   0  0  0  0  0  0  0  0  0  0  0  0\\n   -8.0256    0.8799    1.7079 H   0  0  0  0  0  0  0  0  0  0  0  0\\n   -5.7731    3.0910    0.0399 H   0  0  0  0  0  0  0  0  0  0  0  0\\n   -3.3661    2.6574   -0.4156 H   0  0  0  0  0  0  0  0  0  0  0  0\\n    0.6652    1.2354   -1.6628 H   0  0  0  0  0  0  0  0  0  0  0  0\\n    1.0446   -1.1476   -1.5928 H   0  0  0  0  0  0  0  0  0  0  0  0\\n    0.9920   -2.0309    0.0194 H   0  0  0  0  0  0  0  0  0  0  0  0\\n    2.5550   -0.6990    1.0512 H   0  0  0  0  0  0  0  0  0  0  0  0\\n    2.1486    1.5981    0.1150 H   0  0  0  0  0  0  0  0  0  0  0  0\\n    2.9394    1.0877   -1.4117 H   0  0  0  0  0  0  0  0  0  0  0  0\\n    6.6725    1.6519    0.5937 H   0  0  0  0  0  0  0  0  0  0  0  0\\n    8.4997    0.0175    0.3588 H   0  0  0  0  0  0  0  0  0  0  0  0\\n    8.0262   -2.2954   -0.2962 H   0  0  0  0  0  0  0  0  0  0  0  0\\n    5.6615   -2.9598   -0.7161 H   0  0  0  0  0  0  0  0  0  0  0  0\\n   -1.2694   -1.4733   -0.9275 H   0  0  0  0  0  0  0  0  0  0  0  0\\n   -0.6248   -1.2669    3.2445 H   0  0  0  0  0  0  0  0  0  0  0  0\\n   -4.0043   -1.4129    0.4987 H   0  0  0  0  0  0  0  0  0  0  0  0\\n   -6.3525   -0.9846    0.9727 H   0  0  0  0  0  0  0  0  0  0  0  0\\n  1  2  1  0\\n  2  3  2  0\\n  3  4  1  0\\n  4  5  2  0\\n  5  6  1  0\\n  6  7  2  0\\n  7  8  1  0\\n  8  9  1  0\\n  9 10  1  0\\n 10 11  1  0\\n 11 12  1  0\\n 12 13  1  0\\n 13 14  1  0\\n 14 15  2  0\\n 15 16  1  0\\n 16 17  2  0\\n 17 18  1  0\\n 18 19  2  0\\n 19 20  1  0\\n  9 21  1  0\\n 21 22  1  0\\n 22 23  2  0\\n 22 24  1  0\\n  5 25  1  0\\n 25 26  2  0\\n 26  2  1  0\\n 21  6  1  0\\n 20 11  1  0\\n 19 14  1  0\\n  1 27  1  0\\n  1 28  1  0\\n  1 29  1  0\\n  3 30  1  0\\n  4 31  1  0\\n  8 32  1  0\\n 10 33  1  0\\n 10 34  1  0\\n 11 35  1  1\\n 12 36  1  0\\n 12 37  1  0\\n 15 38  1  0\\n 16 39  1  0\\n 17 40  1  0\\n 18 41  1  0\\n 21 42  1  6\\n 24 43  1  0\\n 25 44  1  0\\n 26 45  1  0\\nM  END\\n\",\"mol\");\n",
       "\tviewer_1649853644885212.setStyle({\"stick\": {}});\n",
       "\tviewer_1649853644885212.setBackgroundColor(\"white\");\n",
       "\tviewer_1649853644885212.zoomTo();\n",
       "viewer_1649853644885212.render();\n",
       "});\n",
       "</script>"
      ]
     },
     "metadata": {},
     "output_type": "display_data"
    }
   ],
   "source": [
    "import py3Dmol\n",
    "\n",
    "from rdkit import Chem\n",
    "from rdkit.Chem import AllChem\n",
    "\n",
    "def makeblock(smiles):\n",
    "    mol = Chem.MolFromSmiles(smiles)\n",
    "    mol = Chem.AddHs(mol)\n",
    "    AllChem.EmbedMolecule(mol)\n",
    "    mblock = Chem.MolToMolBlock(mol)\n",
    "    return mblock\n",
    "\n",
    "def render_mol(xyz):\n",
    "    xyzview = py3Dmol.view()\n",
    "    xyzview.addModel(xyz,'mol')\n",
    "    xyzview.setStyle({'stick':{}})\n",
    "    xyzview.setBackgroundColor('white')\n",
    "    xyzview.zoomTo()\n",
    "    xyzview.show()\n",
    "\n",
    "formula = smiles_dict[smiles_test.iloc[0]][0]\n",
    "    \n",
    "blk = makeblock(formula)\n",
    "print(formula)\n",
    "render_mol(blk)"
   ]
  }
 ],
 "metadata": {
  "accelerator": "GPU",
  "colab": {
   "collapsed_sections": [],
   "name": "lstm_net.ipynb",
   "provenance": []
  },
  "kernelspec": {
   "display_name": "Python 3 (ipykernel)",
   "language": "python",
   "name": "python3"
  },
  "language_info": {
   "codemirror_mode": {
    "name": "ipython",
    "version": 3
   },
   "file_extension": ".py",
   "mimetype": "text/x-python",
   "name": "python",
   "nbconvert_exporter": "python",
   "pygments_lexer": "ipython3",
   "version": "3.8.10"
  }
 },
 "nbformat": 4,
 "nbformat_minor": 1
}
